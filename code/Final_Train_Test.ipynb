{
 "cells": [
  {
   "cell_type": "code",
   "execution_count": 1,
   "metadata": {},
   "outputs": [
    {
     "name": "stderr",
     "output_type": "stream",
     "text": [
      "Using TensorFlow backend.\n"
     ]
    }
   ],
   "source": [
    "import numpy as np\n",
    "import pandas as pd\n",
    "import matplotlib.pyplot as plt\n",
    "%matplotlib inline\n",
    "import imgaug as ia\n",
    "from imgaug import augmenters as iaa\n",
    "from CA1_Yolo import *\n",
    "from keras.optimizers import Adam"
   ]
  },
  {
   "cell_type": "code",
   "execution_count": 2,
   "metadata": {},
   "outputs": [],
   "source": [
    "img_dir = \"../data/image/\"\n",
    "anno_dir = \"../data/annotation/\""
   ]
  },
  {
   "cell_type": "code",
   "execution_count": 3,
   "metadata": {},
   "outputs": [
    {
     "name": "stdout",
     "output_type": "stream",
     "text": [
      "iter: 1 distances: 5922.195635527576\n",
      "iter: 2 distances: 355.8875908126719\n",
      "iter: 3 distances: 199.23368164836094\n",
      "iter: 4 distances: 157.42070669546513\n",
      "iter: 5 distances: 122.79919011088955\n",
      "iter: 6 distances: 75.09956835117745\n",
      "iter: 7 distances: 55.40063980797668\n",
      "iter: 8 distances: 61.70219287125467\n",
      "iter: 9 distances: 93.73332594553798\n",
      "iter: 10 distances: 120.12126609132063\n",
      "iter: 11 distances: 84.89614347089316\n",
      "iter: 12 distances: 92.34926463424257\n",
      "iter: 13 distances: 66.0442135702241\n",
      "iter: 14 distances: 45.57169491793817\n",
      "iter: 15 distances: 36.65601419258005\n",
      "iter: 16 distances: 50.91171953461909\n",
      "iter: 17 distances: 48.55515458591893\n",
      "iter: 18 distances: 38.540728121253885\n",
      "iter: 19 distances: 30.09502689047643\n",
      "iter: 20 distances: 25.3941386172255\n",
      "iter: 21 distances: 29.832215503267633\n",
      "iter: 22 distances: 27.703642192262937\n",
      "iter: 23 distances: 16.707006285029802\n",
      "iter: 24 distances: 17.6942503832806\n",
      "iter: 25 distances: 8.01663966891573\n",
      "iter: 26 distances: 9.249858100779495\n",
      "iter: 27 distances: 4.107791334973944\n",
      "iter: 28 distances: 2.998896940021619\n",
      "iter: 29 distances: 1.9989738969129318\n",
      "iter: 30 distances: 5.262145808052129\n",
      "iter: 31 distances: 3.531247352728087\n",
      "iter: 32 distances: 4.677472116481\n",
      "WARNING:tensorflow:From D:\\Anaconda3\\envs\\rtav\\lib\\site-packages\\keras\\backend\\tensorflow_backend.py:74: The name tf.get_default_graph is deprecated. Please use tf.compat.v1.get_default_graph instead.\n",
      "\n",
      "WARNING:tensorflow:From D:\\Anaconda3\\envs\\rtav\\lib\\site-packages\\keras\\backend\\tensorflow_backend.py:517: The name tf.placeholder is deprecated. Please use tf.compat.v1.placeholder instead.\n",
      "\n",
      "WARNING:tensorflow:From D:\\Anaconda3\\envs\\rtav\\lib\\site-packages\\keras\\backend\\tensorflow_backend.py:4138: The name tf.random_uniform is deprecated. Please use tf.random.uniform instead.\n",
      "\n",
      "WARNING:tensorflow:From D:\\Anaconda3\\envs\\rtav\\lib\\site-packages\\keras\\backend\\tensorflow_backend.py:174: The name tf.get_default_session is deprecated. Please use tf.compat.v1.get_default_session instead.\n",
      "\n",
      "WARNING:tensorflow:From D:\\Anaconda3\\envs\\rtav\\lib\\site-packages\\keras\\backend\\tensorflow_backend.py:181: The name tf.ConfigProto is deprecated. Please use tf.compat.v1.ConfigProto instead.\n",
      "\n",
      "WARNING:tensorflow:From D:\\Anaconda3\\envs\\rtav\\lib\\site-packages\\keras\\backend\\tensorflow_backend.py:1834: The name tf.nn.fused_batch_norm is deprecated. Please use tf.compat.v1.nn.fused_batch_norm instead.\n",
      "\n",
      "WARNING:tensorflow:From D:\\Workspace\\GitHub\\ISS-VSE-2019-09-23-IS1FT-CA1\\code\\CA1_Yolo.py:391: to_float (from tensorflow.python.ops.math_ops) is deprecated and will be removed in a future version.\n",
      "Instructions for updating:\n",
      "Use `tf.cast` instead.\n",
      "WARNING:tensorflow:From D:\\Anaconda3\\envs\\rtav\\lib\\site-packages\\keras\\backend\\tensorflow_backend.py:2018: The name tf.image.resize_nearest_neighbor is deprecated. Please use tf.compat.v1.image.resize_nearest_neighbor instead.\n",
      "\n"
     ]
    }
   ],
   "source": [
    "yolo = YoloV3_API(\n",
    "    img_dir=img_dir,\n",
    "    annotation_dir=anno_dir,\n",
    "    train_size=0.8,\n",
    "    height=416,\n",
    "    width=416,\n",
    "    threshold=0.5,\n",
    "    batch_size=2)"
   ]
  },
  {
   "cell_type": "code",
   "execution_count": null,
   "metadata": {},
   "outputs": [
    {
     "name": "stdout",
     "output_type": "stream",
     "text": [
      "WARNING:tensorflow:From D:\\Anaconda3\\envs\\rtav\\lib\\site-packages\\keras\\optimizers.py:790: The name tf.train.Optimizer is deprecated. Please use tf.compat.v1.train.Optimizer instead.\n",
      "\n",
      "Epoch 1/300\n",
      "Current Size: 416 x 416\n",
      "Current Size: 576 x 576\n",
      "Current Size: 576 x 576\n",
      "Current Size: 576 x 576\n",
      "Current Size: 576 x 576\n",
      "Current Size: 576 x 576\n",
      "Current Size: 576 x 576\n",
      "Current Size: 576 x 576\n",
      "Current Size: 576 x 576\n",
      "Current Size: 576 x 576\n",
      "  1/154 [..............................] - ETA: 1:13:24 - loss: 122.6031 - yolo_loss_layer_1_loss: 17.3343 - yolo_loss_layer_2_loss: 35.9658 - yolo_loss_layer_3_loss: 66.9759Current Size: 576 x 576\n"
     ]
    }
   ],
   "source": [
    "yolo.fit_generator(epoch=300)"
   ]
  },
  {
   "cell_type": "code",
   "execution_count": null,
   "metadata": {},
   "outputs": [],
   "source": []
  },
  {
   "cell_type": "code",
   "execution_count": null,
   "metadata": {},
   "outputs": [],
   "source": []
  },
  {
   "cell_type": "code",
   "execution_count": null,
   "metadata": {},
   "outputs": [],
   "source": []
  }
 ],
 "metadata": {
  "kernelspec": {
   "display_name": "Python 3",
   "language": "python",
   "name": "python3"
  },
  "language_info": {
   "codemirror_mode": {
    "name": "ipython",
    "version": 3
   },
   "file_extension": ".py",
   "mimetype": "text/x-python",
   "name": "python",
   "nbconvert_exporter": "python",
   "pygments_lexer": "ipython3",
   "version": "3.6.9"
  }
 },
 "nbformat": 4,
 "nbformat_minor": 4
}
