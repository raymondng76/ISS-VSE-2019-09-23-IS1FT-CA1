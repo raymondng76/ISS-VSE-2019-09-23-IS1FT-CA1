{
 "cells": [
  {
   "cell_type": "markdown",
   "metadata": {},
   "source": [
    "# ISS-VSE CA1"
   ]
  },
  {
   "cell_type": "code",
   "execution_count": null,
   "metadata": {},
   "outputs": [],
   "source": []
  },
  {
   "cell_type": "code",
   "execution_count": 19,
   "metadata": {},
   "outputs": [],
   "source": [
    "import os\n",
    "import cv2\n",
    "import numpy as np\n",
    "import pandas as pd\n",
    "import matplotlib.pyplot as plt\n",
    "%matplotlib inline\n",
    "\n",
    "import imgaug as ia\n",
    "from imgaug import augmenters as iaa\n",
    "from imgaug.augmentables.bbs import BoundingBox, BoundingBoxesOnImage\n",
    "\n",
    "from CA1_Yolo import *\n",
    "from voc import *\n",
    "import xml.etree.ElementTree as ET\n",
    "from keras.utils import Sequence"
   ]
  },
  {
   "cell_type": "markdown",
   "metadata": {},
   "source": [
    "### Read all image and VOC dataset"
   ]
  },
  {
   "cell_type": "code",
   "execution_count": 62,
   "metadata": {},
   "outputs": [],
   "source": [
    "def read_annotation_files(image_dir, annnotation_dir):\n",
    "    all_annotations = []\n",
    "    labels = {}\n",
    "    for anno in sorted(os.listdir(annnotation_dir)):\n",
    "        img = {'object':[]}\n",
    "        try:\n",
    "            xml_tree = ET.parse(annnotation_dir + anno)\n",
    "        except Exception as ex:\n",
    "            print(ex)\n",
    "            print(f'Error parsing annotation xml: {annnotation_dir + anno}')\n",
    "            continue\n",
    "        for elem in xml_tree.iter():\n",
    "            if 'filename' in elem.tag:\n",
    "                img['filename'] = image_dir + elem.text\n",
    "            if 'width' in elem.tag:\n",
    "                img['width'] = int(elem.text)\n",
    "            if 'height' in elem.tag:\n",
    "                img['height'] = int(elem.text)\n",
    "            if 'object' in elem.tag:\n",
    "                obj = {}\n",
    "                for attribute in list(elem):\n",
    "                    if 'name' in attribute.tag:\n",
    "                        obj['name'] = attribute.text\n",
    "                        if obj['name'] in labels:\n",
    "                            labels[obj['name']] += 1\n",
    "                        else:\n",
    "                            labels[obj['name']] = 1\n",
    "                        img['object'] += [obj]\n",
    "                    if 'bndbox' in attribute.tag:\n",
    "                        for dim in list(attribute):\n",
    "                            if 'xmin' in dim.tag:\n",
    "                                obj['xmin'] = int(round(float(dim.text)))\n",
    "                            if 'ymin' in dim.tag:\n",
    "                                obj['ymin'] = int(round(float(dim.text)))\n",
    "                            if 'xmax' in dim.tag:\n",
    "                                obj['xmax'] = int(round(float(dim.text)))\n",
    "                            if 'ymax' in dim.tag:\n",
    "                                obj['ymax'] = int(round(float(dim.text)))\n",
    "        if len(img['object']) > 0:\n",
    "            bb_list = []\n",
    "            for obj in img['object']:\n",
    "                bb_list.append(BoundingBox(xmin=obj['xmin'], ymin=obj['ymin'], xmax=obj['xmax'], ymax=obj['ymax']))\n",
    "            img['bbs'] = BoundingBoxesOnImage(bb_list, shape=(img['width'], img['height']))\n",
    "            all_annotations += [img]\n",
    "    return all_annotations, labels"
   ]
  },
  {
   "cell_type": "code",
   "execution_count": 63,
   "metadata": {},
   "outputs": [],
   "source": [
    "#Reference https://www.kaggle.com/mpalermo/keras-pipeline-custom-generator-imgaug\n",
    "class DataGenerator(Sequence):\n",
    "    '''Generate data with augmentations using Keras Util Sequence API\n",
    "        Required Methods:\n",
    "        def __init__(self)\n",
    "        def __len__(self)\n",
    "        def on_epoch_end(self)\n",
    "        def __getitem__(self)'''\n",
    "\n",
    "    def __init__(self, image_path, labels, batch_size=32, image_dims=(416, 416, 3), shuffle=False, augment=True):\n",
    "        self.image_path=image_path\n",
    "        self.labels=labels\n",
    "        self.batch_size=batch_size\n",
    "        self.image_dims=image_dims\n",
    "        self.shuffle=shuffle\n",
    "        self.augment=augment\n",
    "        self.on_epoch_end()\n",
    "    \n",
    "    def __len__(self):\n",
    "        return int(np.floor(len(self.image_path)/self.batch_size))\n",
    "    \n",
    "    def on_epoch_end(self):\n",
    "        '''Update index after each epoch'''\n",
    "        self.index = np.arange(len(self.image_path))\n",
    "        if self.shuffle:\n",
    "            np.random.shuffle(self.index)\n",
    "    \n",
    "    def augment_with_bb(self, images, boundingbox):\n",
    "        seq = iaa.Sequential([\n",
    "            iaa.Fliplr(0.5)\n",
    "        ])\n",
    "        return seq.augment_images(images)\n",
    "    \n",
    "    def __getitems__(self, index):\n",
    "        pass"
   ]
  },
  {
   "cell_type": "code",
   "execution_count": 64,
   "metadata": {},
   "outputs": [],
   "source": [
    "trainimgfolder = \"../data/image/\"\n",
    "trainannotatefolder = \"../data/annotation/\"\n",
    "train_ints, labels = read_annotation_files(trainimgfolder, trainannotatefolder)\n",
    "labels_unqiue = labels.keys()"
   ]
  },
  {
   "cell_type": "code",
   "execution_count": 65,
   "metadata": {},
   "outputs": [
    {
     "data": {
      "text/plain": [
       "{'object': [{'name': 'car',\n",
       "   'xmin': 212,\n",
       "   'ymin': 403,\n",
       "   'xmax': 485,\n",
       "   'ymax': 499},\n",
       "  {'name': 'car', 'xmin': 550, 'ymin': 416, 'xmax': 629, 'ymax': 446},\n",
       "  {'name': 'car', 'xmin': 634, 'ymin': 413, 'xmax': 721, 'ymax': 449},\n",
       "  {'name': 'car', 'xmin': 718, 'ymin': 408, 'xmax': 896, 'ymax': 451},\n",
       "  {'name': 'car', 'xmin': 1157, 'ymin': 357, 'xmax': 1280, 'ymax': 526}],\n",
       " 'filename': '../data/image/b001.jpg',\n",
       " 'width': 1280,\n",
       " 'height': 720,\n",
       " 'bbs': BoundingBoxesOnImage([<CA1_Yolo.BoundingBox object at 0x00000215FC6DCE48>, <CA1_Yolo.BoundingBox object at 0x00000215FC6DCDD8>, <CA1_Yolo.BoundingBox object at 0x00000215FC6DC160>, <CA1_Yolo.BoundingBox object at 0x00000215FC6DC940>, <CA1_Yolo.BoundingBox object at 0x00000215FC6DC080>], shape=(1280, 720))}"
      ]
     },
     "execution_count": 65,
     "metadata": {},
     "output_type": "execute_result"
    }
   ],
   "source": [
    "train_ints[0]"
   ]
  },
  {
   "cell_type": "code",
   "execution_count": 44,
   "metadata": {},
   "outputs": [
    {
     "name": "stdout",
     "output_type": "stream",
     "text": [
      "{'object': [{'name': 'car', 'xmin': 212, 'ymin': 403, 'xmax': 485, 'ymax': 499}, {'name': 'car', 'xmin': 550, 'ymin': 416, 'xmax': 629, 'ymax': 446}, {'name': 'car', 'xmin': 634, 'ymin': 413, 'xmax': 721, 'ymax': 449}, {'name': 'car', 'xmin': 718, 'ymin': 408, 'xmax': 896, 'ymax': 451}, {'name': 'car', 'xmin': 1157, 'ymin': 357, 'xmax': 1280, 'ymax': 526}], 'filename': '../data/image/b001.jpg', 'width': 1280, 'height': 720}\n",
      "{'object': [{'name': 'car', 'xmin': 182, 'ymin': 399, 'xmax': 479, 'ymax': 503}, {'name': 'car', 'xmin': 556, 'ymin': 418, 'xmax': 634, 'ymax': 446}, {'name': 'car', 'xmin': 639, 'ymin': 413, 'xmax': 725, 'ymax': 451}, {'name': 'car', 'xmin': 746, 'ymin': 407, 'xmax': 904, 'ymax': 460}, {'name': 'car', 'xmin': 1211, 'ymin': 395, 'xmax': 1280, 'ymax': 520}], 'filename': '../data/image/b002.jpg', 'width': 1280, 'height': 720}\n",
      "{'object': [{'name': 'car', 'xmin': 172, 'ymin': 404, 'xmax': 469, 'ymax': 511}, {'name': 'car', 'xmin': 563, 'ymin': 417, 'xmax': 640, 'ymax': 447}, {'name': 'car', 'xmin': 640, 'ymin': 412, 'xmax': 735, 'ymax': 452}, {'name': 'car', 'xmin': 748, 'ymin': 403, 'xmax': 921, 'ymax': 465}], 'filename': '../data/image/b003.jpg', 'width': 1280, 'height': 720}\n",
      "{'object': [{'name': 'car', 'xmin': 138, 'ymin': 400, 'xmax': 459, 'ymax': 514}, {'name': 'car', 'xmin': 557, 'ymin': 417, 'xmax': 647, 'ymax': 446}, {'name': 'car', 'xmin': 643, 'ymin': 413, 'xmax': 742, 'ymax': 451}, {'name': 'car', 'xmin': 757, 'ymin': 404, 'xmax': 931, 'ymax': 468}], 'filename': '../data/image/b004.jpg', 'width': 1280, 'height': 720}\n",
      "{'object': [{'name': 'car', 'xmin': 109, 'ymin': 399, 'xmax': 448, 'ymax': 524}, {'name': 'car', 'xmin': 561, 'ymin': 418, 'xmax': 647, 'ymax': 443}, {'name': 'car', 'xmin': 650, 'ymin': 417, 'xmax': 743, 'ymax': 448}, {'name': 'car', 'xmin': 769, 'ymin': 405, 'xmax': 943, 'ymax': 473}, {'name': 'car', 'xmin': 435, 'ymin': 405, 'xmax': 499, 'ymax': 477}], 'filename': '../data/image/b005.jpg', 'width': 1280, 'height': 720}\n"
     ]
    }
   ],
   "source": [
    "bbs_list = []\n",
    "for anno in train_ints:\n",
    "    "
   ]
  },
  {
   "cell_type": "code",
   "execution_count": 16,
   "metadata": {},
   "outputs": [
    {
     "data": {
      "text/plain": [
       "{'car': 23}"
      ]
     },
     "execution_count": 16,
     "metadata": {},
     "output_type": "execute_result"
    }
   ],
   "source": [
    "def augment(images, boundingbox):\n",
    "    seq = iaa.Sequential([\n",
    "        iaa.Fliplr(0.5)\n",
    "    ])\n",
    "    return seq.augment_images(images)"
   ]
  },
  {
   "cell_type": "code",
   "execution_count": 54,
   "metadata": {},
   "outputs": [
    {
     "data": {
      "text/plain": [
       "212"
      ]
     },
     "execution_count": 54,
     "metadata": {},
     "output_type": "execute_result"
    }
   ],
   "source": [
    "train_ints[0]['object'][0]['xmin']"
   ]
  },
  {
   "cell_type": "code",
   "execution_count": 3,
   "metadata": {},
   "outputs": [],
   "source": [
    "def read_voc(xml_file: str):\n",
    "    tree = ET.parse(xml_file)\n",
    "    root = tree.getroot()\n",
    "    list_with_all_boxes = []\n",
    "    for boxes in root.iter('object'):\n",
    "        filename = root.find('filename').text\n",
    "        ymin, xmin, ymax, xmax = None, None, None, None\n",
    "        for box in boxes.findall(\"bndbox\"):\n",
    "            ymin = int(box.find(\"ymin\").text)\n",
    "            xmin = int(box.find(\"xmin\").text)\n",
    "            ymax = int(box.find(\"ymax\").text)\n",
    "            xmax = int(box.find(\"xmax\").text)\n",
    "        list_with_single_boxes = [xmin, ymin, xmax, ymax]\n",
    "        list_with_all_boxes.append(list_with_single_boxes)\n",
    "    return filename, list_with_all_boxes"
   ]
  },
  {
   "cell_type": "code",
   "execution_count": 17,
   "metadata": {},
   "outputs": [],
   "source": [
    "# trainimgfolder = 'D:\\\\Workspace\\\\GitHub\\\\keras-yolo3\\\\data\\\\old_annotated_416x416\\\\'\n",
    "# trainannotatefolder = 'D:\\\\Workspace\\\\GitHub\\\\keras-yolo3\\\\data\\\\old_raw_416x416\\\\'\n",
    "trainimgfolder = \"../data/image/\"\n",
    "trainannotatefolder = \"../data/annotation/\"\n",
    "cache = 'D:\\Workspace\\GitHub\\ISS-VSE-2019-09-23-IS1FT-CA1\\data\\cached'\n",
    "labels = ['car','bus']\n",
    "train_ints, train_labels = parse_voc_annotation(trainannotatefolder, trainimgfolder, cache, labels)"
   ]
  },
  {
   "cell_type": "code",
   "execution_count": 18,
   "metadata": {},
   "outputs": [
    {
     "data": {
      "text/plain": [
       "5"
      ]
     },
     "execution_count": 18,
     "metadata": {},
     "output_type": "execute_result"
    }
   ],
   "source": [
    "max_box_per_image = max([len(inst['object']) for inst in (train_ints)])\n",
    "max_box_per_image"
   ]
  },
  {
   "cell_type": "code",
   "execution_count": 16,
   "metadata": {},
   "outputs": [
    {
     "data": {
      "text/plain": [
       "'b001.xml'"
      ]
     },
     "execution_count": 16,
     "metadata": {},
     "output_type": "execute_result"
    }
   ],
   "source": [
    "ann = os.listdir(trainannotatefolder)\n",
    "ann[0]"
   ]
  },
  {
   "cell_type": "code",
   "execution_count": 56,
   "metadata": {},
   "outputs": [],
   "source": [
    "tree = ET.parse(trainannotatefolder+ann[4])"
   ]
  },
  {
   "cell_type": "code",
   "execution_count": 57,
   "metadata": {},
   "outputs": [
    {
     "data": {
      "text/plain": [
       "<xml.etree.ElementTree.ElementTree at 0x215cbbe71d0>"
      ]
     },
     "execution_count": 57,
     "metadata": {},
     "output_type": "execute_result"
    }
   ],
   "source": [
    "tree"
   ]
  },
  {
   "cell_type": "code",
   "execution_count": 58,
   "metadata": {},
   "outputs": [],
   "source": [
    "seen_labels = {}\n",
    "img = {'object':[]}\n",
    "for elem in tree.iter():\n",
    "    if 'filename' in elem.tag:\n",
    "        img['filename'] = trainimgfolder + elem.text\n",
    "    if 'width' in elem.tag:\n",
    "        img['width'] = int(elem.text)\n",
    "    if 'height' in elem.tag:\n",
    "        img['height'] = int(elem.text)\n",
    "    if 'object' in elem.tag or 'part' in elem.tag:\n",
    "        obj = {}\n",
    "\n",
    "        for attr in list(elem):\n",
    "            if 'name' in attr.tag:\n",
    "                obj['name'] = attr.text\n",
    "\n",
    "                if obj['name'] in seen_labels:\n",
    "                    seen_labels[obj['name']] += 1\n",
    "                else:\n",
    "                    seen_labels[obj['name']] = 1\n",
    "\n",
    "                if len(labels) > 0 and obj['name'] not in labels:\n",
    "                    break\n",
    "                else:\n",
    "                    img['object'] += [obj]\n",
    "\n",
    "            if 'bndbox' in attr.tag:\n",
    "                for dim in list(attr):\n",
    "                    if 'xmin' in dim.tag:\n",
    "                        obj['xmin'] = int(round(float(dim.text)))\n",
    "                    if 'ymin' in dim.tag:\n",
    "                        obj['ymin'] = int(round(float(dim.text)))\n",
    "                    if 'xmax' in dim.tag:\n",
    "                        obj['xmax'] = int(round(float(dim.text)))\n",
    "                    if 'ymax' in dim.tag:\n",
    "                        obj['ymax'] = int(round(float(dim.text)))"
   ]
  },
  {
   "cell_type": "code",
   "execution_count": 59,
   "metadata": {},
   "outputs": [
    {
     "data": {
      "text/plain": [
       "{'car': 5}"
      ]
     },
     "execution_count": 59,
     "metadata": {},
     "output_type": "execute_result"
    }
   ],
   "source": [
    "seen_labels"
   ]
  },
  {
   "cell_type": "code",
   "execution_count": 60,
   "metadata": {},
   "outputs": [
    {
     "data": {
      "text/plain": [
       "{'object': [{'name': 'car',\n",
       "   'xmin': 109,\n",
       "   'ymin': 399,\n",
       "   'xmax': 448,\n",
       "   'ymax': 524},\n",
       "  {'name': 'car', 'xmin': 561, 'ymin': 418, 'xmax': 647, 'ymax': 443},\n",
       "  {'name': 'car', 'xmin': 650, 'ymin': 417, 'xmax': 743, 'ymax': 448},\n",
       "  {'name': 'car', 'xmin': 769, 'ymin': 405, 'xmax': 943, 'ymax': 473},\n",
       "  {'name': 'car', 'xmin': 435, 'ymin': 405, 'xmax': 499, 'ymax': 477}],\n",
       " 'filename': 'D:\\\\Workspace\\\\GitHub\\\\ISS-VSE-2019-09-23-IS1FT-CA1\\\\data\\\\image\\\\b005.jpg',\n",
       " 'width': 1280,\n",
       " 'height': 720}"
      ]
     },
     "execution_count": 60,
     "metadata": {},
     "output_type": "execute_result"
    }
   ],
   "source": [
    "img"
   ]
  },
  {
   "cell_type": "code",
   "execution_count": 30,
   "metadata": {},
   "outputs": [],
   "source": [
    "TESt = img.copy()"
   ]
  },
  {
   "cell_type": "code",
   "execution_count": 31,
   "metadata": {},
   "outputs": [
    {
     "ename": "TypeError",
     "evalue": "unsupported operand type(s) for +=: 'dict' and 'list'",
     "output_type": "error",
     "traceback": [
      "\u001b[1;31m---------------------------------------------------------------------------\u001b[0m",
      "\u001b[1;31mTypeError\u001b[0m                                 Traceback (most recent call last)",
      "\u001b[1;32m<ipython-input-31-4113b6ee397e>\u001b[0m in \u001b[0;36m<module>\u001b[1;34m\u001b[0m\n\u001b[1;32m----> 1\u001b[1;33m \u001b[0mTESt\u001b[0m \u001b[1;33m+=\u001b[0m \u001b[1;33m[\u001b[0m\u001b[0mimg\u001b[0m\u001b[1;33m]\u001b[0m\u001b[1;33m\u001b[0m\u001b[1;33m\u001b[0m\u001b[0m\n\u001b[0m",
      "\u001b[1;31mTypeError\u001b[0m: unsupported operand type(s) for +=: 'dict' and 'list'"
     ]
    }
   ],
   "source": [
    "TESt += [img]"
   ]
  },
  {
   "cell_type": "code",
   "execution_count": 34,
   "metadata": {},
   "outputs": [],
   "source": [
    "allinst = []\n",
    "allinst += [img]\n",
    "allinst += [img]"
   ]
  },
  {
   "cell_type": "code",
   "execution_count": 35,
   "metadata": {},
   "outputs": [
    {
     "data": {
      "text/plain": [
       "[{'object': [{'name': 'car',\n",
       "    'xmin': 212,\n",
       "    'ymin': 403,\n",
       "    'xmax': 485,\n",
       "    'ymax': 499},\n",
       "   {'name': 'car', 'xmin': 550, 'ymin': 416, 'xmax': 629, 'ymax': 446},\n",
       "   {'name': 'car', 'xmin': 634, 'ymin': 413, 'xmax': 721, 'ymax': 449},\n",
       "   {'name': 'car', 'xmin': 718, 'ymin': 408, 'xmax': 896, 'ymax': 451},\n",
       "   {'name': 'car', 'xmin': 1157, 'ymin': 357, 'xmax': 1280, 'ymax': 526}],\n",
       "  'filename': 'D:\\\\Workspace\\\\GitHub\\\\ISS-VSE-2019-09-23-IS1FT-CA1\\\\data\\\\image\\\\b001.jpg',\n",
       "  'width': 1280,\n",
       "  'height': 720},\n",
       " {'object': [{'name': 'car',\n",
       "    'xmin': 212,\n",
       "    'ymin': 403,\n",
       "    'xmax': 485,\n",
       "    'ymax': 499},\n",
       "   {'name': 'car', 'xmin': 550, 'ymin': 416, 'xmax': 629, 'ymax': 446},\n",
       "   {'name': 'car', 'xmin': 634, 'ymin': 413, 'xmax': 721, 'ymax': 449},\n",
       "   {'name': 'car', 'xmin': 718, 'ymin': 408, 'xmax': 896, 'ymax': 451},\n",
       "   {'name': 'car', 'xmin': 1157, 'ymin': 357, 'xmax': 1280, 'ymax': 526}],\n",
       "  'filename': 'D:\\\\Workspace\\\\GitHub\\\\ISS-VSE-2019-09-23-IS1FT-CA1\\\\data\\\\image\\\\b001.jpg',\n",
       "  'width': 1280,\n",
       "  'height': 720}]"
      ]
     },
     "execution_count": 35,
     "metadata": {},
     "output_type": "execute_result"
    }
   ],
   "source": [
    "allinst"
   ]
  },
  {
   "cell_type": "code",
   "execution_count": null,
   "metadata": {},
   "outputs": [],
   "source": []
  }
 ],
 "metadata": {
  "kernelspec": {
   "display_name": "Python 3",
   "language": "python",
   "name": "python3"
  },
  "language_info": {
   "codemirror_mode": {
    "name": "ipython",
    "version": 3
   },
   "file_extension": ".py",
   "mimetype": "text/x-python",
   "name": "python",
   "nbconvert_exporter": "python",
   "pygments_lexer": "ipython3",
   "version": "3.6.9"
  }
 },
 "nbformat": 4,
 "nbformat_minor": 4
}
