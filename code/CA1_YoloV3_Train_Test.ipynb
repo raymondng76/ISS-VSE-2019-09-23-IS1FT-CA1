{
 "cells": [
  {
   "cell_type": "markdown",
   "metadata": {},
   "source": [
    "# ISS-VSE CA1"
   ]
  },
  {
   "cell_type": "code",
   "execution_count": null,
   "metadata": {},
   "outputs": [],
   "source": []
  },
  {
   "cell_type": "code",
   "execution_count": 13,
   "metadata": {},
   "outputs": [],
   "source": [
    "import os\n",
    "import random as rand\n",
    "import cv2\n",
    "import numpy as np\n",
    "import pandas as pd\n",
    "import matplotlib.pyplot as plt\n",
    "%matplotlib inline\n",
    "\n",
    "import imgaug as ia\n",
    "from imgaug import augmenters as iaa\n",
    "\n",
    "from CA1_Yolo import *\n",
    "from voc import *\n",
    "import xml.etree.ElementTree as ET\n",
    "from keras.utils import Sequence"
   ]
  },
  {
   "cell_type": "markdown",
   "metadata": {},
   "source": [
    "### Read all image and VOC dataset"
   ]
  },
  {
   "cell_type": "code",
   "execution_count": 14,
   "metadata": {},
   "outputs": [],
   "source": [
    "def read_annotation_files(image_dir, annnotation_dir):\n",
    "    all_annotations = []\n",
    "    labels = {}\n",
    "    for anno in sorted(os.listdir(annnotation_dir)):\n",
    "        img = {'object':[]}\n",
    "        try:\n",
    "            xml_tree = ET.parse(annnotation_dir + anno)\n",
    "        except Exception as ex:\n",
    "            print(ex)\n",
    "            print(f'Error parsing annotation xml: {annnotation_dir + anno}')\n",
    "            continue\n",
    "        for elem in xml_tree.iter():\n",
    "            if 'filename' in elem.tag:\n",
    "                img['filename'] = image_dir + elem.text\n",
    "            if 'width' in elem.tag:\n",
    "                img['width'] = int(elem.text)\n",
    "            if 'height' in elem.tag:\n",
    "                img['height'] = int(elem.text)\n",
    "            if 'object' in elem.tag:\n",
    "                obj = {}\n",
    "                for attribute in list(elem):\n",
    "                    if 'name' in attribute.tag:\n",
    "                        obj['name'] = attribute.text\n",
    "                        if obj['name'] in labels:\n",
    "                            labels[obj['name']] += 1\n",
    "                        else:\n",
    "                            labels[obj['name']] = 1\n",
    "                        img['object'] += [obj]\n",
    "                    if 'bndbox' in attribute.tag:\n",
    "                        for dim in list(attribute):\n",
    "                            if 'xmin' in dim.tag:\n",
    "                                obj['xmin'] = int(round(float(dim.text)))\n",
    "                            if 'ymin' in dim.tag:\n",
    "                                obj['ymin'] = int(round(float(dim.text)))\n",
    "                            if 'xmax' in dim.tag:\n",
    "                                obj['xmax'] = int(round(float(dim.text)))\n",
    "                            if 'ymax' in dim.tag:\n",
    "                                obj['ymax'] = int(round(float(dim.text)))\n",
    "        if len(img['object']) > 0:\n",
    "            bb_list = []\n",
    "            for obj in img['object']:\n",
    "                bb_list.append(ia.BoundingBox(x1=obj['xmin'], y1=obj['ymin'], x2=obj['xmax'], y2=obj['ymax'], label=obj['name']))\n",
    "            img['bbs'] = ia.BoundingBoxesOnImage(bb_list, shape=(img['width'], img['height']))\n",
    "            all_annotations += [img]\n",
    "    return all_annotations, labels"
   ]
  },
  {
   "cell_type": "code",
   "execution_count": 15,
   "metadata": {},
   "outputs": [],
   "source": [
    "#Reference https://www.kaggle.com/mpalermo/keras-pipeline-custom-generator-imgaug\n",
    "class DataGenerator(Sequence):\n",
    "    '''Generate data with augmentations using Keras Util Sequence API\n",
    "        Required Methods:\n",
    "        def __init__(self)\n",
    "        def __len__(self)\n",
    "        def on_epoch_end(self)\n",
    "        def __getitem__(self)'''\n",
    "\n",
    "    def __init__(self, image_path, labels, anchors, batch_size=32, image_dims=(416, 416, 3), shuffle=False, augment=True):\n",
    "        self.image_path=image_path\n",
    "        self.labels=labels\n",
    "        self.anchors=anchors\n",
    "        self.batch_size=batch_size\n",
    "        self.image_dims=image_dims\n",
    "        self.shuffle=shuffle\n",
    "        self.augment=augment\n",
    "\n",
    "        self.on_epoch_end()\n",
    "    \n",
    "    def __len__(self):\n",
    "        return int(np.floor(len(self.image_path)/self.batch_size))\n",
    "    \n",
    "    def on_epoch_end(self):\n",
    "        '''Update index after each epoch'''\n",
    "        self.index = np.arange(len(self.image_path))\n",
    "        if self.shuffle:\n",
    "            np.random.shuffle(self.index)\n",
    "    \n",
    "    def augment_with_bb(self, images, boundingbox):\n",
    "        seq = iaa.Sequential([\n",
    "            iaa.AdditiveGaussianNoise(scale=0.05*255),\n",
    "            iaa.Affine(translate_px={\"x\": (1, 5)})\n",
    "        ])\n",
    "        return seq(images=images, bounding_boxes=boundingbox)\n",
    "    \n",
    "    def __getitems__(self, index):\n",
    "        pass"
   ]
  },
  {
   "cell_type": "code",
   "execution_count": 16,
   "metadata": {},
   "outputs": [],
   "source": [
    "trainimgfolder = \"../data/image/\"\n",
    "trainannotatefolder = \"../data/annotation/\"\n",
    "train_ints, labels = read_annotation_files(trainimgfolder, trainannotatefolder)\n",
    "labels_unqiue = labels.keys()"
   ]
  },
  {
   "cell_type": "code",
   "execution_count": 17,
   "metadata": {},
   "outputs": [
    {
     "data": {
      "text/plain": [
       "{'car': 313}"
      ]
     },
     "execution_count": 17,
     "metadata": {},
     "output_type": "execute_result"
    }
   ],
   "source": [
    "labels"
   ]
  },
  {
   "cell_type": "code",
   "execution_count": 18,
   "metadata": {},
   "outputs": [],
   "source": [
    "def correct_yolo_boxes(boxes, image_h, image_w, net_h, net_w):\n",
    "    if (float(net_w)/image_w) < (float(net_h)/image_h):\n",
    "        new_w = net_w\n",
    "        new_h = (image_h*net_w)/image_w\n",
    "    else:\n",
    "        new_h = net_w\n",
    "        new_w = (image_w*net_h)/image_h\n",
    "        \n",
    "    for i in range(len(boxes)):\n",
    "        x_offset, x_scale = (net_w - new_w)/2./net_w, float(new_w)/net_w\n",
    "        y_offset, y_scale = (net_h - new_h)/2./net_h, float(new_h)/net_h\n",
    "        \n",
    "        boxes[i].x1 = int((boxes[i].x1 - x_offset) / x_scale * image_w)\n",
    "        boxes[i].x2 = int((boxes[i].x2 - x_offset) / x_scale * image_w)\n",
    "        boxes[i].y1 = int((boxes[i].y1 - y_offset) / y_scale * image_h)\n",
    "        boxes[i].y2 = int((boxes[i].y2 - y_offset) / y_scale * image_h)"
   ]
  },
  {
   "cell_type": "code",
   "execution_count": 19,
   "metadata": {},
   "outputs": [],
   "source": [
    "def apply_random_scale_and_crop(image, new_w, new_h, net_w, net_h, dx, dy):\n",
    "    im_sized = cv2.resize(image, (new_w, new_h))\n",
    "    \n",
    "    if dx > 0: \n",
    "        im_sized = np.pad(im_sized, ((0,0), (dx,0), (0,0)), mode='constant', constant_values=127)\n",
    "    else:\n",
    "        im_sized = im_sized[:,-dx:,:]\n",
    "    if (new_w + dx) < net_w:\n",
    "        im_sized = np.pad(im_sized, ((0,0), (0, net_w - (new_w+dx)), (0,0)), mode='constant', constant_values=127)\n",
    "               \n",
    "    if dy > 0: \n",
    "        im_sized = np.pad(im_sized, ((dy,0), (0,0), (0,0)), mode='constant', constant_values=127)\n",
    "    else:\n",
    "        im_sized = im_sized[-dy:,:,:]\n",
    "        \n",
    "    if (new_h + dy) < net_h:\n",
    "        im_sized = np.pad(im_sized, ((0, net_h - (new_h+dy)), (0,0), (0,0)), mode='constant', constant_values=127)\n",
    "        \n",
    "    return im_sized[:net_h, :net_w,:]   "
   ]
  },
  {
   "cell_type": "code",
   "execution_count": 20,
   "metadata": {},
   "outputs": [],
   "source": [
    "seq = iaa.Sequential([\n",
    "    iaa.GammaContrast(1.5),\n",
    "#     iaa.Affine(translate_px={\"x\": (1, 5)})\n",
    "])"
   ]
  },
  {
   "cell_type": "code",
   "execution_count": 21,
   "metadata": {},
   "outputs": [
    {
     "data": {
      "text/plain": [
       "595"
      ]
     },
     "execution_count": 21,
     "metadata": {},
     "output_type": "execute_result"
    }
   ],
   "source": [
    "dx = int(np.random.uniform(0, 608-416))\n",
    "dy = int(np.random.uniform(0, 608-416))\n",
    "scale = np.random.uniform(0.25,2)\n",
    "new_h = int(scale * 416)\n",
    "new_h"
   ]
  },
  {
   "cell_type": "code",
   "execution_count": 22,
   "metadata": {},
   "outputs": [],
   "source": [
    "img = cv2.imread(train_ints[0]['filename'])\n",
    "# img_aug, bbs_aug = seq(image=img, bounding_boxes=train_ints[0]['bbs'])\n",
    "# img_aug = seq.augment_image(img)\n",
    "# bbs_aug = seq.augment_bounding_boxes(train_ints[0]['bbs'])\n",
    "# bbs_aug\n",
    "# img2 = apply_random_scale_and_crop(img, 608, 608, 608, 608, dx, dy)\n",
    "# bbs = correct_yolo_boxes(train_ints[0]['bbs'].bounding_boxes, 608, 608, 608, 608)\n",
    "\n",
    "img = img[:,:,::-1]\n",
    "img_h, img_w,_ = img.shape"
   ]
  },
  {
   "cell_type": "code",
   "execution_count": 34,
   "metadata": {},
   "outputs": [
    {
     "ename": "TypeError",
     "evalue": "__init__() missing 2 required positional arguments: 'bounding_boxes' and 'shape'",
     "output_type": "error",
     "traceback": [
      "\u001b[1;31m---------------------------------------------------------------------------\u001b[0m",
      "\u001b[1;31mTypeError\u001b[0m                                 Traceback (most recent call last)",
      "\u001b[1;32m<ipython-input-34-673ed9d78d5b>\u001b[0m in \u001b[0;36m<module>\u001b[1;34m\u001b[0m\n\u001b[1;32m----> 1\u001b[1;33m \u001b[0msbb\u001b[0m \u001b[1;33m=\u001b[0m \u001b[0mia\u001b[0m\u001b[1;33m.\u001b[0m\u001b[0mBoundingBoxesOnImage\u001b[0m\u001b[1;33m(\u001b[0m\u001b[1;33m)\u001b[0m\u001b[1;33m\u001b[0m\u001b[1;33m\u001b[0m\u001b[0m\n\u001b[0m",
      "\u001b[1;31mTypeError\u001b[0m: __init__() missing 2 required positional arguments: 'bounding_boxes' and 'shape'"
     ]
    }
   ],
   "source": [
    "sbb = ia.BoundingBoxesOnImage()"
   ]
  },
  {
   "cell_type": "code",
   "execution_count": 24,
   "metadata": {},
   "outputs": [],
   "source": [
    "img_aug, bbs_aug = seq(image=img, bounding_boxes=train_ints[0]['bbs'])\n",
    "img_aug = seq.augment_image(img)\n",
    "bbs_aug = seq.augment_bounding_boxes(train_ints[0]['bbs'])"
   ]
  },
  {
   "cell_type": "code",
   "execution_count": 39,
   "metadata": {},
   "outputs": [
    {
     "name": "stdout",
     "output_type": "stream",
     "text": [
      "car\n",
      "car\n",
      "car\n",
      "car\n",
      "car\n"
     ]
    },
    {
     "data": {
      "text/plain": [
       "[BoundingBox(x1=212.0000, y1=403.0000, x2=485.0000, y2=499.0000, label=car),\n",
       " BoundingBox(x1=550.0000, y1=416.0000, x2=629.0000, y2=446.0000, label=car),\n",
       " BoundingBox(x1=634.0000, y1=413.0000, x2=721.0000, y2=449.0000, label=car),\n",
       " BoundingBox(x1=718.0000, y1=408.0000, x2=896.0000, y2=451.0000, label=car),\n",
       " BoundingBox(x1=1157.0000, y1=357.0000, x2=1280.0000, y2=526.0000, label=car)]"
      ]
     },
     "execution_count": 39,
     "metadata": {},
     "output_type": "execute_result"
    }
   ],
   "source": [
    "box_list = []\n",
    "for box in bbs_aug.bounding_boxes:\n",
    "    print(box.label)\n",
    "    box_list.append(box)\n",
    "box_list"
   ]
  },
  {
   "cell_type": "code",
   "execution_count": 37,
   "metadata": {},
   "outputs": [],
   "source": [
    "sbb = ia.BoundingBoxesOnImage(box_list, (1280,720))"
   ]
  },
  {
   "cell_type": "code",
   "execution_count": 38,
   "metadata": {},
   "outputs": [
    {
     "data": {
      "text/plain": [
       "BoundingBoxesOnImage([BoundingBox(x1=212.0000, y1=403.0000, x2=485.0000, y2=499.0000, label=car), BoundingBox(x1=550.0000, y1=416.0000, x2=629.0000, y2=446.0000, label=car), BoundingBox(x1=634.0000, y1=413.0000, x2=721.0000, y2=449.0000, label=car), BoundingBox(x1=718.0000, y1=408.0000, x2=896.0000, y2=451.0000, label=car), BoundingBox(x1=1157.0000, y1=357.0000, x2=1280.0000, y2=526.0000, label=car)], shape=(1280, 720))"
      ]
     },
     "execution_count": 38,
     "metadata": {},
     "output_type": "execute_result"
    }
   ],
   "source": [
    "testbox = ia.BoundingBox()"
   ]
  },
  {
   "cell_type": "code",
   "execution_count": 76,
   "metadata": {},
   "outputs": [
    {
     "ename": "KeyboardInterrupt",
     "evalue": "",
     "output_type": "error",
     "traceback": [
      "\u001b[1;31m---------------------------------------------------------------------------\u001b[0m",
      "\u001b[1;31mKeyboardInterrupt\u001b[0m                         Traceback (most recent call last)",
      "\u001b[1;32m<ipython-input-76-e3a3c1b7b175>\u001b[0m in \u001b[0;36m<module>\u001b[1;34m\u001b[0m\n\u001b[1;32m----> 1\u001b[1;33m \u001b[0mia\u001b[0m\u001b[1;33m.\u001b[0m\u001b[0mimshow\u001b[0m\u001b[1;33m(\u001b[0m\u001b[0mbbs_aug\u001b[0m\u001b[1;33m.\u001b[0m\u001b[0mdraw_on_image\u001b[0m\u001b[1;33m(\u001b[0m\u001b[0mimg_aug\u001b[0m\u001b[1;33m)\u001b[0m\u001b[1;33m)\u001b[0m\u001b[1;33m\u001b[0m\u001b[1;33m\u001b[0m\u001b[0m\n\u001b[0m\u001b[0;32m      2\u001b[0m \u001b[1;31m# ia.imshow(train_ints[0]['bbs'].draw_on_image(img_aug))\u001b[0m\u001b[1;33m\u001b[0m\u001b[1;33m\u001b[0m\u001b[1;33m\u001b[0m\u001b[0m\n",
      "\u001b[1;32mD:\\Anaconda3\\envs\\rtav\\lib\\site-packages\\imgaug\\augmentables\\bbs.py\u001b[0m in \u001b[0;36mdraw_on_image\u001b[1;34m(self, image, color, alpha, size, copy, raise_if_out_of_image, thickness)\u001b[0m\n\u001b[0;32m   1043\u001b[0m                 \u001b[0mcopy\u001b[0m\u001b[1;33m=\u001b[0m\u001b[1;32mFalse\u001b[0m\u001b[1;33m,\u001b[0m\u001b[1;33m\u001b[0m\u001b[1;33m\u001b[0m\u001b[0m\n\u001b[0;32m   1044\u001b[0m                 \u001b[0mraise_if_out_of_image\u001b[0m\u001b[1;33m=\u001b[0m\u001b[0mraise_if_out_of_image\u001b[0m\u001b[1;33m,\u001b[0m\u001b[1;33m\u001b[0m\u001b[1;33m\u001b[0m\u001b[0m\n\u001b[1;32m-> 1045\u001b[1;33m                 \u001b[0mthickness\u001b[0m\u001b[1;33m=\u001b[0m\u001b[0mthickness\u001b[0m\u001b[1;33m\u001b[0m\u001b[1;33m\u001b[0m\u001b[0m\n\u001b[0m\u001b[0;32m   1046\u001b[0m             )\n\u001b[0;32m   1047\u001b[0m \u001b[1;33m\u001b[0m\u001b[0m\n",
      "\u001b[1;32mD:\\Anaconda3\\envs\\rtav\\lib\\site-packages\\imgaug\\augmentables\\bbs.py\u001b[0m in \u001b[0;36mdraw_on_image\u001b[1;34m(self, image, color, alpha, size, copy, raise_if_out_of_image, thickness)\u001b[0m\n\u001b[0;32m    596\u001b[0m             \u001b[0my\u001b[0m \u001b[1;33m=\u001b[0m \u001b[1;33m[\u001b[0m\u001b[0my1\u001b[0m\u001b[1;33m-\u001b[0m\u001b[0mi\u001b[0m\u001b[1;33m,\u001b[0m \u001b[0my1\u001b[0m\u001b[1;33m-\u001b[0m\u001b[0mi\u001b[0m\u001b[1;33m,\u001b[0m \u001b[0my2\u001b[0m\u001b[1;33m+\u001b[0m\u001b[0mi\u001b[0m\u001b[1;33m,\u001b[0m \u001b[0my2\u001b[0m\u001b[1;33m+\u001b[0m\u001b[0mi\u001b[0m\u001b[1;33m]\u001b[0m\u001b[1;33m\u001b[0m\u001b[1;33m\u001b[0m\u001b[0m\n\u001b[0;32m    597\u001b[0m             \u001b[0mx\u001b[0m \u001b[1;33m=\u001b[0m \u001b[1;33m[\u001b[0m\u001b[0mx1\u001b[0m\u001b[1;33m-\u001b[0m\u001b[0mi\u001b[0m\u001b[1;33m,\u001b[0m \u001b[0mx2\u001b[0m\u001b[1;33m+\u001b[0m\u001b[0mi\u001b[0m\u001b[1;33m,\u001b[0m \u001b[0mx2\u001b[0m\u001b[1;33m+\u001b[0m\u001b[0mi\u001b[0m\u001b[1;33m,\u001b[0m \u001b[0mx1\u001b[0m\u001b[1;33m-\u001b[0m\u001b[0mi\u001b[0m\u001b[1;33m]\u001b[0m\u001b[1;33m\u001b[0m\u001b[1;33m\u001b[0m\u001b[0m\n\u001b[1;32m--> 598\u001b[1;33m             \u001b[0mrr\u001b[0m\u001b[1;33m,\u001b[0m \u001b[0mcc\u001b[0m \u001b[1;33m=\u001b[0m \u001b[0mskimage\u001b[0m\u001b[1;33m.\u001b[0m\u001b[0mdraw\u001b[0m\u001b[1;33m.\u001b[0m\u001b[0mpolygon_perimeter\u001b[0m\u001b[1;33m(\u001b[0m\u001b[0my\u001b[0m\u001b[1;33m,\u001b[0m \u001b[0mx\u001b[0m\u001b[1;33m,\u001b[0m \u001b[0mshape\u001b[0m\u001b[1;33m=\u001b[0m\u001b[0mresult\u001b[0m\u001b[1;33m.\u001b[0m\u001b[0mshape\u001b[0m\u001b[1;33m)\u001b[0m\u001b[1;33m\u001b[0m\u001b[1;33m\u001b[0m\u001b[0m\n\u001b[0m\u001b[0;32m    599\u001b[0m             \u001b[1;32mif\u001b[0m \u001b[0malpha\u001b[0m \u001b[1;33m>=\u001b[0m \u001b[1;36m0.99\u001b[0m\u001b[1;33m:\u001b[0m\u001b[1;33m\u001b[0m\u001b[1;33m\u001b[0m\u001b[0m\n\u001b[0;32m    600\u001b[0m                 \u001b[0mresult\u001b[0m\u001b[1;33m[\u001b[0m\u001b[0mrr\u001b[0m\u001b[1;33m,\u001b[0m \u001b[0mcc\u001b[0m\u001b[1;33m,\u001b[0m \u001b[1;33m:\u001b[0m\u001b[1;33m]\u001b[0m \u001b[1;33m=\u001b[0m \u001b[0mcolor\u001b[0m\u001b[1;33m\u001b[0m\u001b[1;33m\u001b[0m\u001b[0m\n",
      "\u001b[1;32mD:\\Anaconda3\\envs\\rtav\\lib\\site-packages\\skimage\\draw\\draw.py\u001b[0m in \u001b[0;36mpolygon_perimeter\u001b[1;34m(r, c, shape, clip)\u001b[0m\n\u001b[0;32m    252\u001b[0m \u001b[1;33m\u001b[0m\u001b[0m\n\u001b[0;32m    253\u001b[0m     \u001b[0mrr\u001b[0m \u001b[1;33m=\u001b[0m \u001b[0mnp\u001b[0m\u001b[1;33m.\u001b[0m\u001b[0masarray\u001b[0m\u001b[1;33m(\u001b[0m\u001b[0mrr\u001b[0m\u001b[1;33m)\u001b[0m\u001b[1;33m\u001b[0m\u001b[1;33m\u001b[0m\u001b[0m\n\u001b[1;32m--> 254\u001b[1;33m     \u001b[0mcc\u001b[0m \u001b[1;33m=\u001b[0m \u001b[0mnp\u001b[0m\u001b[1;33m.\u001b[0m\u001b[0masarray\u001b[0m\u001b[1;33m(\u001b[0m\u001b[0mcc\u001b[0m\u001b[1;33m)\u001b[0m\u001b[1;33m\u001b[0m\u001b[1;33m\u001b[0m\u001b[0m\n\u001b[0m\u001b[0;32m    255\u001b[0m \u001b[1;33m\u001b[0m\u001b[0m\n\u001b[0;32m    256\u001b[0m     \u001b[1;32mif\u001b[0m \u001b[0mshape\u001b[0m \u001b[1;32mis\u001b[0m \u001b[1;32mNone\u001b[0m\u001b[1;33m:\u001b[0m\u001b[1;33m\u001b[0m\u001b[1;33m\u001b[0m\u001b[0m\n",
      "\u001b[1;31mKeyboardInterrupt\u001b[0m: "
     ]
    }
   ],
   "source": [
    "ia.imshow(bbs_aug.draw_on_image(img_aug))\n",
    "# ia.imshow(train_ints[0]['bbs'].draw_on_image(img_aug))"
   ]
  },
  {
   "cell_type": "code",
   "execution_count": 9,
   "metadata": {},
   "outputs": [],
   "source": [
    "# class BoundingBox:\n",
    "#     '''Bounding Box definition'''\n",
    "#     def __init__(self, xmin, ymin, xmax, ymax, c = None, classes = None):\n",
    "#         self.xmin=xmin\n",
    "#         self.ymin=ymin\n",
    "#         self.xmax=xmax\n",
    "#         self.ymax=ymax\n",
    "#         self.c=c\n",
    "#         self.classes=classes\n",
    "#         self.label = None\n",
    "#         self.score = None\n",
    "#     def get_label(self):\n",
    "#         if self.label == None:\n",
    "#             self.label = np.argmax(self.classes)\n",
    "#         return self.label\n",
    "#     def get_score(self):\n",
    "#         if self.score == None:\n",
    "#             self.score = self.classes[self.get_label()]\n",
    "#         return self.score\n",
    "# def interval_overlap(interval_a, interval_b):\n",
    "#     x1, x2 = interval_a\n",
    "#     x3, x4 = interval_b\n",
    "    \n",
    "#     if x3 < x1:\n",
    "#         if x4 < x1:\n",
    "#             return 0\n",
    "#         else:\n",
    "#             return min(x2, x4) - x1\n",
    "#     else:\n",
    "#         if x2 < x3:\n",
    "#             return 0\n",
    "#         else:\n",
    "#             return min(x2, x4) - x3\n",
    "\n",
    "# def boundbox_iou(bx1, bx2):\n",
    "#     intsec_w = interval_overlap([bx1.xmin, bx2.xmax], [bx2.xmin, bx2.xmax])\n",
    "#     intsec_h = interval_overlap([bx1.ymin, bx2.ymax], [bx2.ymin, bx2.ymax])\n",
    "#     intsec = intsec_w * intsec_h\n",
    "#     w1, h1 = bx1.xmax-bx1.xmin, bx1.ymax-bx1.ymin\n",
    "#     w2, h2 = bx2.xmax-bx2.xmin, bx2.ymax-bx2.ymin\n",
    "#     union = w1*h1 + w2*h2 - intsec\n",
    "#     return float(intsec)/union"
   ]
  },
  {
   "cell_type": "code",
   "execution_count": 10,
   "metadata": {},
   "outputs": [
    {
     "data": {
      "text/plain": [
       "[BoundingBox(x1=283.0000, y1=226.0000, x2=345.0000, y2=286.0000, label=car)]"
      ]
     },
     "execution_count": 10,
     "metadata": {},
     "output_type": "execute_result"
    }
   ],
   "source": [
    "bbs_aug.bounding_boxes"
   ]
  },
  {
   "cell_type": "code",
   "execution_count": 11,
   "metadata": {},
   "outputs": [
    {
     "ename": "IndexError",
     "evalue": "list index out of range",
     "output_type": "error",
     "traceback": [
      "\u001b[1;31m---------------------------------------------------------------------------\u001b[0m",
      "\u001b[1;31mIndexError\u001b[0m                                Traceback (most recent call last)",
      "\u001b[1;32m<ipython-input-11-e5bb08c1dd79>\u001b[0m in \u001b[0;36m<module>\u001b[1;34m\u001b[0m\n\u001b[1;32m----> 1\u001b[1;33m \u001b[0mbbs_aug\u001b[0m\u001b[1;33m.\u001b[0m\u001b[0mbounding_boxes\u001b[0m\u001b[1;33m[\u001b[0m\u001b[1;36m1\u001b[0m\u001b[1;33m]\u001b[0m\u001b[1;33m.\u001b[0m\u001b[0mlabel\u001b[0m\u001b[1;33m\u001b[0m\u001b[1;33m\u001b[0m\u001b[0m\n\u001b[0m",
      "\u001b[1;31mIndexError\u001b[0m: list index out of range"
     ]
    }
   ],
   "source": [
    "bbs_aug.bounding_boxes[1].label"
   ]
  },
  {
   "cell_type": "code",
   "execution_count": null,
   "metadata": {},
   "outputs": [],
   "source": [
    "labels = ['car', 'bus']\n",
    "labels.index(bbs_aug.bounding_boxes[1].label)"
   ]
  },
  {
   "cell_type": "code",
   "execution_count": null,
   "metadata": {},
   "outputs": [],
   "source": [
    "iou = bbs_aug.bounding_boxes[0].iou(bbs_aug.bounding_boxes[1])\n",
    "print(iou)"
   ]
  },
  {
   "cell_type": "code",
   "execution_count": null,
   "metadata": {},
   "outputs": [],
   "source": [
    "anchors = fulltest|\n",
    "anchors"
   ]
  },
  {
   "cell_type": "code",
   "execution_count": null,
   "metadata": {},
   "outputs": [],
   "source": [
    "for i in range(len(anchors)//2):\n",
    "    print(str(anchors[2*i]) + ', ' + str(anchors[2*i+1]))"
   ]
  },
  {
   "cell_type": "code",
   "execution_count": null,
   "metadata": {},
   "outputs": [],
   "source": [
    "for b in bbs_aug.bounding_boxes:\n",
    "    print(b.x1)"
   ]
  },
  {
   "cell_type": "code",
   "execution_count": null,
   "metadata": {},
   "outputs": [],
   "source": [
    "an1 = ia.BoundingBox(x1=0.0,y1=0.0,x2=anchors[0][0],y2=anchors[0][1])\n",
    "bb1 = ia.BoundingBox(x1=0.0,y1=0.0,x2=bbs_aug.bounding_boxes[0].x2,y2=bbs_aug.bounding_boxes[0].y2)\n",
    "ioutest = bb1.iou(an1)\n",
    "ioutest"
   ]
  },
  {
   "cell_type": "code",
   "execution_count": null,
   "metadata": {},
   "outputs": [],
   "source": [
    "bb = bbs_aug.bounding_boxes[1]\n",
    "bb.x1"
   ]
  },
  {
   "cell_type": "code",
   "execution_count": null,
   "metadata": {},
   "outputs": [],
   "source": [
    "for bb in bbs_aug.bounding_boxes:\n",
    "    max_anchor = None\n",
    "    max_index = -1\n",
    "    max_iou = -1\n",
    "    for i in range(len(anchors)):\n",
    "        ach = anchors[i]\n",
    "        iou = bb.iou(ach)"
   ]
  },
  {
   "cell_type": "code",
   "execution_count": null,
   "metadata": {},
   "outputs": [],
   "source": [
    "def calculate_iou(anno, centroids):\n",
    "    anno_width, anno_height = anno\n",
    "    iou_list = []\n",
    "    anno_area = anno_width * anno_height\n",
    "    for cent in centroids:\n",
    "        cent_width, cent_height = cent\n",
    "        if cent_width <= anno_width and cent_height >= anno_height:\n",
    "            iou = cent_width * anno_height / (anno_area + cent_width * (cent_height - anno_height))\n",
    "        elif cent_width >= anno_width and cent_height >= anno_height:\n",
    "            iou = anno_area / (cent_width * cent_height)\n",
    "        elif cent_width >= anno_width and cent_height <= anno_height:\n",
    "            iou = anno_width * cent_height / (anno_area + (cent_width - anno_width) * cent_height)\n",
    "        else:\n",
    "            iou = (cent_width * cent_height) / anno_area\n",
    "        iou_list.append(iou)\n",
    "    return np.array(iou_list)"
   ]
  },
  {
   "cell_type": "code",
   "execution_count": null,
   "metadata": {},
   "outputs": [],
   "source": [
    "annotations_dim = []\n",
    "num_anchors = 9\n",
    "for anno in train_ints:\n",
    "    for obj in anno['object']:\n",
    "        rel_width = (float(obj['xmax']) - float(obj['xmin'])) / anno['width']\n",
    "        rel_height = (float(obj['ymax']) - float(obj['ymin'])) / anno['height']\n",
    "        annotations_dim.append(tuple(map(float,(rel_width, rel_height))))\n",
    "\n",
    "\n",
    "anno_arr = np.array(annotations_dim)\n",
    "curr_assign_centroids = np.zeros(anno_arr.shape[0])\n",
    "curr_distances = np.zeros((anno_arr.shape[0], num_anchors))"
   ]
  },
  {
   "cell_type": "code",
   "execution_count": null,
   "metadata": {},
   "outputs": [],
   "source": [
    "len(annotations_dim)"
   ]
  },
  {
   "cell_type": "code",
   "execution_count": null,
   "metadata": {},
   "outputs": [],
   "source": [
    "indexes = [rand.randrange(anno_arr.shape[0]) for anchor in range(num_anchors)]\n",
    "sample_centroids = anno_arr[indexes]\n",
    "final = sample_centroids.copy()\n",
    "iterations = 0\n",
    "while True:\n",
    "    iterations += 1\n",
    "    distances = []\n",
    "    for idx in range(anno_arr.shape[0]):\n",
    "        distance = 1 - calculate_iou(anno_arr[idx], sample_centroids)\n",
    "        distances.append(distance)\n",
    "    distances_arr = np.array(distances)\n",
    "    print(f'iter: {iterations} distances: {np.sum(np.abs(curr_distances-distances_arr))}')\n",
    "    assign_centroids = np.argmin(distances_arr, axis=1)\n",
    "    if (assign_centroids == curr_assign_centroids).all():\n",
    "        final = sample_centroids\n",
    "        break\n",
    "    centroid_sums = np.zeros((num_anchors, anno_arr.shape[1]), np.float)\n",
    "    for idx in range(anno_arr.shape[0]):\n",
    "        centroid_sums[assign_centroids[idx]] += anno_arr[idx]\n",
    "    for idx in range(num_anchors):\n",
    "        sample_centroids[idx] = centroid_sums[idx] / (np.sum(assign_centroids==idx) + 1e-6)\n",
    "    curr_assign_centroids = assign_centroids.copy()\n",
    "    curr_distances = distances_arr.copy()"
   ]
  },
  {
   "cell_type": "code",
   "execution_count": null,
   "metadata": {},
   "outputs": [],
   "source": [
    "def print_anchors(centroids):\n",
    "    out_string = ''\n",
    "\n",
    "    anchors = centroids.copy()\n",
    "\n",
    "    widths = anchors[:, 0]\n",
    "    sorted_indices = np.argsort(widths)\n",
    "\n",
    "    r = \"anchors: [\"\n",
    "    for i in sorted_indices:\n",
    "        out_string += str(int(anchors[i,0]*416)) + ',' + str(int(anchors[i,1]*416)) + ', '\n",
    "            \n",
    "    print(out_string[:-2])\n",
    "print_anchors(final)"
   ]
  },
  {
   "cell_type": "code",
   "execution_count": null,
   "metadata": {},
   "outputs": [],
   "source": [
    "test = final\n",
    "# test\n",
    "test = test[test[:,0].argsort()]\n",
    "test"
   ]
  },
  {
   "cell_type": "code",
   "execution_count": null,
   "metadata": {},
   "outputs": [],
   "source": [
    "fulltest=[]\n",
    "for t in test:\n",
    "    fulltest.append(((int(t[0]*416)),(int(t[1]*416))))"
   ]
  },
  {
   "cell_type": "code",
   "execution_count": null,
   "metadata": {},
   "outputs": [],
   "source": [
    "fulltest"
   ]
  },
  {
   "cell_type": "code",
   "execution_count": null,
   "metadata": {},
   "outputs": [],
   "source": [
    "def read_voc(xml_file: str):\n",
    "    tree = ET.parse(xml_file)\n",
    "    root = tree.getroot()\n",
    "    list_with_all_boxes = []\n",
    "    for boxes in root.iter('object'):\n",
    "        filename = root.find('filename').text\n",
    "        ymin, xmin, ymax, xmax = None, None, None, None\n",
    "        for box in boxes.findall(\"bndbox\"):\n",
    "            ymin = int(box.find(\"ymin\").text)\n",
    "            xmin = int(box.find(\"xmin\").text)\n",
    "            ymax = int(box.find(\"ymax\").text)\n",
    "            xmax = int(box.find(\"xmax\").text)\n",
    "        list_with_single_boxes = [xmin, ymin, xmax, ymax]\n",
    "        list_with_all_boxes.append(list_with_single_boxes)\n",
    "    return filename, list_with_all_boxes"
   ]
  },
  {
   "cell_type": "code",
   "execution_count": null,
   "metadata": {},
   "outputs": [],
   "source": [
    "# trainimgfolder = 'D:\\\\Workspace\\\\GitHub\\\\keras-yolo3\\\\data\\\\old_annotated_416x416\\\\'\n",
    "# trainannotatefolder = 'D:\\\\Workspace\\\\GitHub\\\\keras-yolo3\\\\data\\\\old_raw_416x416\\\\'\n",
    "trainimgfolder = \"../data/image/\"\n",
    "trainannotatefolder = \"../data/annotation/\"\n",
    "cache = 'D:\\Workspace\\GitHub\\ISS-VSE-2019-09-23-IS1FT-CA1\\data\\cached'\n",
    "labels = ['car','bus']\n",
    "train_ints, train_labels = parse_voc_annotation(trainannotatefolder, trainimgfolder, cache, labels)"
   ]
  },
  {
   "cell_type": "code",
   "execution_count": null,
   "metadata": {},
   "outputs": [],
   "source": [
    "max_box_per_image = max([len(inst['object']) for inst in (train_ints)])\n",
    "max_box_per_image"
   ]
  },
  {
   "cell_type": "code",
   "execution_count": null,
   "metadata": {},
   "outputs": [],
   "source": [
    "ann = os.listdir(trainannotatefolder)\n",
    "ann[0]"
   ]
  },
  {
   "cell_type": "code",
   "execution_count": null,
   "metadata": {},
   "outputs": [],
   "source": [
    "tree = ET.parse(trainannotatefolder+ann[4])"
   ]
  },
  {
   "cell_type": "code",
   "execution_count": null,
   "metadata": {},
   "outputs": [],
   "source": [
    "tree"
   ]
  },
  {
   "cell_type": "code",
   "execution_count": null,
   "metadata": {},
   "outputs": [],
   "source": [
    "seen_labels = {}\n",
    "img = {'object':[]}\n",
    "for elem in tree.iter():\n",
    "    if 'filename' in elem.tag:\n",
    "        img['filename'] = trainimgfolder + elem.text\n",
    "    if 'width' in elem.tag:\n",
    "        img['width'] = int(elem.text)\n",
    "    if 'height' in elem.tag:\n",
    "        img['height'] = int(elem.text)\n",
    "    if 'object' in elem.tag or 'part' in elem.tag:\n",
    "        obj = {}\n",
    "\n",
    "        for attr in list(elem):\n",
    "            if 'name' in attr.tag:\n",
    "                obj['name'] = attr.text\n",
    "\n",
    "                if obj['name'] in seen_labels:\n",
    "                    seen_labels[obj['name']] += 1\n",
    "                else:\n",
    "                    seen_labels[obj['name']] = 1\n",
    "\n",
    "                if len(labels) > 0 and obj['name'] not in labels:\n",
    "                    break\n",
    "                else:\n",
    "                    img['object'] += [obj]\n",
    "\n",
    "            if 'bndbox' in attr.tag:\n",
    "                for dim in list(attr):\n",
    "                    if 'xmin' in dim.tag:\n",
    "                        obj['xmin'] = int(round(float(dim.text)))\n",
    "                    if 'ymin' in dim.tag:\n",
    "                        obj['ymin'] = int(round(float(dim.text)))\n",
    "                    if 'xmax' in dim.tag:\n",
    "                        obj['xmax'] = int(round(float(dim.text)))\n",
    "                    if 'ymax' in dim.tag:\n",
    "                        obj['ymax'] = int(round(float(dim.text)))"
   ]
  },
  {
   "cell_type": "code",
   "execution_count": null,
   "metadata": {},
   "outputs": [],
   "source": [
    "seen_labels"
   ]
  },
  {
   "cell_type": "code",
   "execution_count": null,
   "metadata": {},
   "outputs": [],
   "source": [
    "img"
   ]
  },
  {
   "cell_type": "code",
   "execution_count": null,
   "metadata": {},
   "outputs": [],
   "source": [
    "TESt = img.copy()"
   ]
  },
  {
   "cell_type": "code",
   "execution_count": null,
   "metadata": {},
   "outputs": [],
   "source": [
    "TESt += [img]"
   ]
  },
  {
   "cell_type": "code",
   "execution_count": null,
   "metadata": {},
   "outputs": [],
   "source": [
    "allinst = []\n",
    "allinst += [img]\n",
    "allinst += [img]"
   ]
  },
  {
   "cell_type": "code",
   "execution_count": null,
   "metadata": {},
   "outputs": [],
   "source": [
    "allinst"
   ]
  },
  {
   "cell_type": "code",
   "execution_count": null,
   "metadata": {},
   "outputs": [],
   "source": []
  }
 ],
 "metadata": {
  "kernelspec": {
   "display_name": "Python 3",
   "language": "python",
   "name": "python3"
  },
  "language_info": {
   "codemirror_mode": {
    "name": "ipython",
    "version": 3
   },
   "file_extension": ".py",
   "mimetype": "text/x-python",
   "name": "python",
   "nbconvert_exporter": "python",
   "pygments_lexer": "ipython3",
   "version": "3.6.9"
  }
 },
 "nbformat": 4,
 "nbformat_minor": 4
}
