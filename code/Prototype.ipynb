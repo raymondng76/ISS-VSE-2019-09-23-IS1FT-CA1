{
 "cells": [
  {
   "cell_type": "code",
   "execution_count": 1,
   "metadata": {},
   "outputs": [
    {
     "name": "stderr",
     "output_type": "stream",
     "text": [
      "Using TensorFlow backend.\n"
     ]
    }
   ],
   "source": [
    "import numpy as np\n",
    "import pandas as pd\n",
    "import matplotlib.pyplot as plt\n",
    "%matplotlib inline\n",
    "import imgaug as ia\n",
    "from imgaug import augmenters as iaa\n",
    "from YOLO_API import *\n",
    "from keras.optimizers import Adam\n",
    "import time\n",
    "import cv2"
   ]
  },
  {
   "cell_type": "code",
   "execution_count": 2,
   "metadata": {},
   "outputs": [],
   "source": [
    "img_dir = \"../data/image/\"\n",
    "anno_dir = \"../data/annotation/\""
   ]
  },
  {
   "cell_type": "code",
   "execution_count": 3,
   "metadata": {},
   "outputs": [],
   "source": [
    "all_anno, labels = read_annotation_files(img_dir, anno_dir)"
   ]
  },
  {
   "cell_type": "code",
   "execution_count": 4,
   "metadata": {},
   "outputs": [],
   "source": [
    "anchor_boxes = generateAnchorBoxes(all_anno, labels)"
   ]
  },
  {
   "cell_type": "code",
   "execution_count": 5,
   "metadata": {},
   "outputs": [
    {
     "data": {
      "text/plain": [
       "[0, 0, 9, 8, 17, 15, 30, 25, 43, 66, 45, 31, 62, 43, 87, 99, 91, 56]"
      ]
     },
     "execution_count": 5,
     "metadata": {},
     "output_type": "execute_result"
    }
   ],
   "source": [
    "anchor_boxes"
   ]
  },
  {
   "cell_type": "code",
   "execution_count": 6,
   "metadata": {},
   "outputs": [],
   "source": [
    "train_size=0.8\n",
    "train_valid_split = int(0.8 * len(all_anno))\n",
    "np.random.shuffle(all_anno)\n",
    "train_anno = all_anno[:train_valid_split]\n",
    "valid_anno = all_anno[train_valid_split:]\n",
    "max_boxes = max([len(anno['object']) for anno in (train_anno + valid_anno)])"
   ]
  },
  {
   "cell_type": "code",
   "execution_count": 7,
   "metadata": {},
   "outputs": [
    {
     "data": {
      "text/plain": [
       "309"
      ]
     },
     "execution_count": 7,
     "metadata": {},
     "output_type": "execute_result"
    }
   ],
   "source": [
    "len(train_anno)"
   ]
  },
  {
   "cell_type": "code",
   "execution_count": 8,
   "metadata": {},
   "outputs": [],
   "source": [
    "train_generator = DataGenerator(\n",
    "    annotations=train_anno,\n",
    "    max_boxes=max_boxes,\n",
    "    anchors=anchor_boxes,\n",
    "    labels=labels,\n",
    "    batch_size=2,\n",
    "    width=416,\n",
    "    height=416,\n",
    "    shuffle=True)"
   ]
  },
  {
   "cell_type": "code",
   "execution_count": 9,
   "metadata": {},
   "outputs": [],
   "source": [
    "valid_generator = DataGenerator(\n",
    "    annotations=valid_anno,\n",
    "    max_boxes=max_boxes,\n",
    "    anchors=anchor_boxes,\n",
    "    labels=labels,\n",
    "    batch_size=2,\n",
    "    width=416,\n",
    "    height=416,\n",
    "    shuffle=True)"
   ]
  },
  {
   "cell_type": "code",
   "execution_count": 10,
   "metadata": {},
   "outputs": [],
   "source": [
    "train_model, infer_mode = YoloV3(\n",
    "    numcls=len(labels),\n",
    "    anchors=anchor_boxes,\n",
    "    max_grid=[416, 416],\n",
    "    batch_size=2,\n",
    "    threshold=0.5,\n",
    "    max_boxes=max_boxes)"
   ]
  },
  {
   "cell_type": "code",
   "execution_count": null,
   "metadata": {},
   "outputs": [],
   "source": [
    "infer_mode.build((416,416))\n",
    "infer_mode.summary()"
   ]
  },
  {
   "cell_type": "code",
   "execution_count": 12,
   "metadata": {},
   "outputs": [],
   "source": [
    "def dummy_loss(y_true, y_pred):\n",
    "    return tf.sqrt(tf.reduce_sum(y_pred))"
   ]
  },
  {
   "cell_type": "code",
   "execution_count": 13,
   "metadata": {},
   "outputs": [
    {
     "name": "stdout",
     "output_type": "stream",
     "text": [
      "WARNING:tensorflow:From D:\\Anaconda3\\envs\\rtav\\lib\\site-packages\\keras\\optimizers.py:790: The name tf.train.Optimizer is deprecated. Please use tf.compat.v1.train.Optimizer instead.\n",
      "\n"
     ]
    }
   ],
   "source": [
    "opt = Adam(lr=1e-4, clipnorm=0.001)\n",
    "train_model.compile(loss=dummy_loss, optimizer=opt)"
   ]
  },
  {
   "cell_type": "code",
   "execution_count": 14,
   "metadata": {},
   "outputs": [],
   "source": [
    "callback = create_callbacks()"
   ]
  },
  {
   "cell_type": "code",
   "execution_count": null,
   "metadata": {},
   "outputs": [],
   "source": []
  },
  {
   "cell_type": "code",
   "execution_count": 15,
   "metadata": {},
   "outputs": [
    {
     "name": "stdout",
     "output_type": "stream",
     "text": [
      "Epoch 1/300\n",
      "306/306 [==============================] - 174s 568ms/step - loss: 52.0943 - yolo_loss_layer_1_loss: 7.3452 - yolo_loss_layer_2_loss: 13.2315 - yolo_loss_layer_3_loss: 29.1895 - val_loss: 46.0383 - val_yolo_loss_layer_1_loss: 33.5750 - val_yolo_loss_layer_2_loss: 4.6725 - val_yolo_loss_layer_3_loss: 5.4620\n",
      "Epoch 2/300\n",
      "306/306 [==============================] - 165s 540ms/step - loss: 7.3960 - yolo_loss_layer_1_loss: 3.6690 - yolo_loss_layer_2_loss: 0.3189 - yolo_loss_layer_3_loss: 1.0804 - val_loss: 8.0138 - val_yolo_loss_layer_1_loss: 5.1456 - val_yolo_loss_layer_2_loss: 0.1271 - val_yolo_loss_layer_3_loss: 0.4156\n",
      "Epoch 3/300\n",
      "306/306 [==============================] - 170s 557ms/step - loss: 6.0379 - yolo_loss_layer_1_loss: 3.3541 - yolo_loss_layer_2_loss: 0.1640 - yolo_loss_layer_3_loss: 0.1973 - val_loss: 7.1612 - val_yolo_loss_layer_1_loss: 4.6495 - val_yolo_loss_layer_2_loss: 0.0905 - val_yolo_loss_layer_3_loss: 0.1023\n",
      "Epoch 4/300\n",
      "306/306 [==============================] - 177s 578ms/step - loss: 5.7925 - yolo_loss_layer_1_loss: 3.2832 - yolo_loss_layer_2_loss: 0.1051 - yolo_loss_layer_3_loss: 0.0896 - val_loss: 6.8712 - val_yolo_loss_layer_1_loss: 4.4349 - val_yolo_loss_layer_2_loss: 0.0676 - val_yolo_loss_layer_3_loss: 0.0584\n",
      "Epoch 5/300\n",
      "306/306 [==============================] - 173s 564ms/step - loss: 5.8222 - yolo_loss_layer_1_loss: 3.3432 - yolo_loss_layer_2_loss: 0.1226 - yolo_loss_layer_3_loss: 0.0511 - val_loss: 6.1908 - val_yolo_loss_layer_1_loss: 3.7739 - val_yolo_loss_layer_2_loss: 0.0797 - val_yolo_loss_layer_3_loss: 0.0362\n",
      "Epoch 6/300\n",
      "306/306 [==============================] - 181s 593ms/step - loss: 5.6151 - yolo_loss_layer_1_loss: 3.1823 - yolo_loss_layer_2_loss: 0.1017 - yolo_loss_layer_3_loss: 0.0340 - val_loss: 5.5866 - val_yolo_loss_layer_1_loss: 3.1932 - val_yolo_loss_layer_2_loss: 0.0693 - val_yolo_loss_layer_3_loss: 0.0312\n",
      "Epoch 7/300\n",
      "306/306 [==============================] - 175s 571ms/step - loss: 5.5278 - yolo_loss_layer_1_loss: 3.1320 - yolo_loss_layer_2_loss: 0.0842 - yolo_loss_layer_3_loss: 0.0239 - val_loss: 5.4090 - val_yolo_loss_layer_1_loss: 3.0361 - val_yolo_loss_layer_2_loss: 0.0713 - val_yolo_loss_layer_3_loss: 0.0189\n",
      "Epoch 8/300\n",
      "306/306 [==============================] - 177s 579ms/step - loss: 5.4282 - yolo_loss_layer_1_loss: 3.0569 - yolo_loss_layer_2_loss: 0.0756 - yolo_loss_layer_3_loss: 0.0178 - val_loss: 5.5707 - val_yolo_loss_layer_1_loss: 3.2458 - val_yolo_loss_layer_2_loss: 0.0388 - val_yolo_loss_layer_3_loss: 0.0136\n",
      "Epoch 9/300\n",
      "306/306 [==============================] - 175s 571ms/step - loss: 5.2767 - yolo_loss_layer_1_loss: 2.9348 - yolo_loss_layer_2_loss: 0.0617 - yolo_loss_layer_3_loss: 0.0125 - val_loss: 5.1526 - val_yolo_loss_layer_1_loss: 2.8379 - val_yolo_loss_layer_2_loss: 0.0403 - val_yolo_loss_layer_3_loss: 0.0117\n",
      "Epoch 10/300\n",
      "306/306 [==============================] - 164s 536ms/step - loss: 5.0624 - yolo_loss_layer_1_loss: 2.7263 - yolo_loss_layer_2_loss: 0.0693 - yolo_loss_layer_3_loss: 0.0095 - val_loss: 4.9639 - val_yolo_loss_layer_1_loss: 2.6660 - val_yolo_loss_layer_2_loss: 0.0382 - val_yolo_loss_layer_3_loss: 0.0078\n",
      "Epoch 11/300\n",
      "306/306 [==============================] - 168s 548ms/step - loss: 5.0075 - yolo_loss_layer_1_loss: 2.6851 - yolo_loss_layer_2_loss: 0.0674 - yolo_loss_layer_3_loss: 0.0079 - val_loss: 5.0660 - val_yolo_loss_layer_1_loss: 2.7786 - val_yolo_loss_layer_2_loss: 0.0389 - val_yolo_loss_layer_3_loss: 0.0064\n",
      "Epoch 12/300\n",
      "306/306 [==============================] - 154s 502ms/step - loss: 4.9729 - yolo_loss_layer_1_loss: 2.6614 - yolo_loss_layer_2_loss: 0.0688 - yolo_loss_layer_3_loss: 0.0057 - val_loss: 5.2112 - val_yolo_loss_layer_1_loss: 2.9359 - val_yolo_loss_layer_2_loss: 0.0381 - val_yolo_loss_layer_3_loss: 0.0052\n",
      "Epoch 13/300\n",
      "306/306 [==============================] - 181s 591ms/step - loss: 4.9231 - yolo_loss_layer_1_loss: 2.6149 - yolo_loss_layer_2_loss: 0.0758 - yolo_loss_layer_3_loss: 0.0056 - val_loss: 5.1276 - val_yolo_loss_layer_1_loss: 2.8623 - val_yolo_loss_layer_2_loss: 0.0387 - val_yolo_loss_layer_3_loss: 0.0049\n",
      "Epoch 14/300\n",
      "306/306 [==============================] - 184s 602ms/step - loss: 4.8573 - yolo_loss_layer_1_loss: 2.5735 - yolo_loss_layer_2_loss: 0.0629 - yolo_loss_layer_3_loss: 0.0045 - val_loss: 4.9688 - val_yolo_loss_layer_1_loss: 2.7133 - val_yolo_loss_layer_2_loss: 0.0401 - val_yolo_loss_layer_3_loss: 0.0046\n",
      "Epoch 15/300\n",
      "306/306 [==============================] - 176s 574ms/step - loss: 4.8535 - yolo_loss_layer_1_loss: 2.5751 - yolo_loss_layer_2_loss: 0.0693 - yolo_loss_layer_3_loss: 0.0036 - val_loss: 4.9863 - val_yolo_loss_layer_1_loss: 2.7447 - val_yolo_loss_layer_2_loss: 0.0380 - val_yolo_loss_layer_3_loss: 0.0034\n",
      "Epoch 16/300\n",
      "306/306 [==============================] - 168s 549ms/step - loss: 4.7319 - yolo_loss_layer_1_loss: 2.4758 - yolo_loss_layer_2_loss: 0.0584 - yolo_loss_layer_3_loss: 0.0029 - val_loss: 4.9224 - val_yolo_loss_layer_1_loss: 2.6972 - val_yolo_loss_layer_2_loss: 0.0328 - val_yolo_loss_layer_3_loss: 0.0031\n",
      "Epoch 17/300\n",
      "306/306 [==============================] - 163s 533ms/step - loss: 4.6683 - yolo_loss_layer_1_loss: 2.4231 - yolo_loss_layer_2_loss: 0.0590 - yolo_loss_layer_3_loss: 0.0025 - val_loss: 4.8538 - val_yolo_loss_layer_1_loss: 2.6351 - val_yolo_loss_layer_2_loss: 0.0381 - val_yolo_loss_layer_3_loss: 0.0022\n",
      "Epoch 18/300\n",
      "306/306 [==============================] - 168s 547ms/step - loss: 4.6027 - yolo_loss_layer_1_loss: 2.3697 - yolo_loss_layer_2_loss: 0.0579 - yolo_loss_layer_3_loss: 0.0021 - val_loss: 5.1901 - val_yolo_loss_layer_1_loss: 2.9864 - val_yolo_loss_layer_2_loss: 0.0342 - val_yolo_loss_layer_3_loss: 0.0019\n",
      "Epoch 19/300\n",
      "306/306 [==============================] - 171s 559ms/step - loss: 4.6564 - yolo_loss_layer_1_loss: 2.4293 - yolo_loss_layer_2_loss: 0.0630 - yolo_loss_layer_3_loss: 0.0019 - val_loss: 7.2183 - val_yolo_loss_layer_1_loss: 5.0211 - val_yolo_loss_layer_2_loss: 0.0388 - val_yolo_loss_layer_3_loss: 0.0017\n",
      "Epoch 20/300\n",
      "306/306 [==============================] - 163s 534ms/step - loss: 4.5758 - yolo_loss_layer_1_loss: 2.3596 - yolo_loss_layer_2_loss: 0.0631 - yolo_loss_layer_3_loss: 0.0016 - val_loss: 4.8627 - val_yolo_loss_layer_1_loss: 2.6795 - val_yolo_loss_layer_2_loss: 0.0357 - val_yolo_loss_layer_3_loss: 0.0013\n",
      "Epoch 21/300\n",
      "306/306 [==============================] - 186s 609ms/step - loss: 4.5062 - yolo_loss_layer_1_loss: 2.3006 - yolo_loss_layer_2_loss: 0.0634 - yolo_loss_layer_3_loss: 0.0015 - val_loss: 4.8286 - val_yolo_loss_layer_1_loss: 2.6547 - val_yolo_loss_layer_2_loss: 0.0375 - val_yolo_loss_layer_3_loss: 0.0013\n",
      "Epoch 22/300\n",
      "306/306 [==============================] - 175s 572ms/step - loss: 4.5072 - yolo_loss_layer_1_loss: 2.3157 - yolo_loss_layer_2_loss: 0.0605 - yolo_loss_layer_3_loss: 0.0013 - val_loss: 4.5896 - val_yolo_loss_layer_1_loss: 2.4274 - val_yolo_loss_layer_2_loss: 0.0364 - val_yolo_loss_layer_3_loss: 0.0010\n",
      "Epoch 23/300\n",
      "306/306 [==============================] - 156s 511ms/step - loss: 4.4143 - yolo_loss_layer_1_loss: 2.2419 - yolo_loss_layer_2_loss: 0.0518 - yolo_loss_layer_3_loss: 9.9217e-04 - val_loss: 4.5783 - val_yolo_loss_layer_1_loss: 2.4206 - val_yolo_loss_layer_2_loss: 0.0427 - val_yolo_loss_layer_3_loss: 9.4327e-04\n",
      "Epoch 24/300\n",
      "306/306 [==============================] - 176s 576ms/step - loss: 4.3418 - yolo_loss_layer_1_loss: 2.1735 - yolo_loss_layer_2_loss: 0.0583 - yolo_loss_layer_3_loss: 9.7015e-04 - val_loss: 4.9266 - val_yolo_loss_layer_1_loss: 2.7829 - val_yolo_loss_layer_2_loss: 0.0391 - val_yolo_loss_layer_3_loss: 7.8721e-04\n",
      "Epoch 25/300\n",
      "306/306 [==============================] - 171s 558ms/step - loss: 4.2763 - yolo_loss_layer_1_loss: 2.1138 - yolo_loss_layer_2_loss: 0.0630 - yolo_loss_layer_3_loss: 8.3529e-04 - val_loss: 4.5329 - val_yolo_loss_layer_1_loss: 2.4026 - val_yolo_loss_layer_2_loss: 0.0362 - val_yolo_loss_layer_3_loss: 7.9248e-04\n",
      "Epoch 26/300\n",
      "306/306 [==============================] - 170s 556ms/step - loss: 4.2272 - yolo_loss_layer_1_loss: 2.0936 - yolo_loss_layer_2_loss: 0.0446 - yolo_loss_layer_3_loss: 7.4602e-04 - val_loss: 4.7520 - val_yolo_loss_layer_1_loss: 2.6346 - val_yolo_loss_layer_2_loss: 0.0331 - val_yolo_loss_layer_3_loss: 6.8266e-04\n",
      "Epoch 27/300\n",
      "306/306 [==============================] - 184s 601ms/step - loss: 4.1771 - yolo_loss_layer_1_loss: 2.0461 - yolo_loss_layer_2_loss: 0.0515 - yolo_loss_layer_3_loss: 7.1973e-04 - val_loss: 4.5091 - val_yolo_loss_layer_1_loss: 2.3953 - val_yolo_loss_layer_2_loss: 0.0391 - val_yolo_loss_layer_3_loss: 5.7769e-04\n",
      "Epoch 28/300\n",
      "306/306 [==============================] - 165s 540ms/step - loss: 4.1337 - yolo_loss_layer_1_loss: 2.0131 - yolo_loss_layer_2_loss: 0.0508 - yolo_loss_layer_3_loss: 6.1523e-04 - val_loss: 4.8257 - val_yolo_loss_layer_1_loss: 2.7226 - val_yolo_loss_layer_2_loss: 0.0385 - val_yolo_loss_layer_3_loss: 5.0096e-04\n",
      "Epoch 29/300\n",
      "306/306 [==============================] - 161s 528ms/step - loss: 4.1773 - yolo_loss_layer_1_loss: 2.0566 - yolo_loss_layer_2_loss: 0.0606 - yolo_loss_layer_3_loss: 5.4437e-04 - val_loss: 4.6264 - val_yolo_loss_layer_1_loss: 2.5343 - val_yolo_loss_layer_2_loss: 0.0368 - val_yolo_loss_layer_3_loss: 5.1652e-04\n",
      "Epoch 30/300\n",
      "306/306 [==============================] - 184s 602ms/step - loss: 4.0358 - yolo_loss_layer_1_loss: 1.9375 - yolo_loss_layer_2_loss: 0.0478 - yolo_loss_layer_3_loss: 5.3459e-04 - val_loss: 4.4355 - val_yolo_loss_layer_1_loss: 2.3551 - val_yolo_loss_layer_2_loss: 0.0347 - val_yolo_loss_layer_3_loss: 5.2899e-04\n",
      "Epoch 31/300\n",
      "306/306 [==============================] - 171s 559ms/step - loss: 4.1086 - yolo_loss_layer_1_loss: 2.0193 - yolo_loss_layer_2_loss: 0.0483 - yolo_loss_layer_3_loss: 4.8540e-04 - val_loss: 4.5178 - val_yolo_loss_layer_1_loss: 2.4467 - val_yolo_loss_layer_2_loss: 0.0349 - val_yolo_loss_layer_3_loss: 3.8803e-04\n",
      "Epoch 32/300\n",
      "306/306 [==============================] - 161s 526ms/step - loss: 4.0385 - yolo_loss_layer_1_loss: 1.9528 - yolo_loss_layer_2_loss: 0.0543 - yolo_loss_layer_3_loss: 4.2121e-04 - val_loss: 4.8206 - val_yolo_loss_layer_1_loss: 2.7582 - val_yolo_loss_layer_2_loss: 0.0357 - val_yolo_loss_layer_3_loss: 4.0062e-04\n",
      "Epoch 33/300\n",
      "306/306 [==============================] - 175s 573ms/step - loss: 4.0188 - yolo_loss_layer_1_loss: 1.9439 - yolo_loss_layer_2_loss: 0.0530 - yolo_loss_layer_3_loss: 4.1459e-04 - val_loss: 4.6386 - val_yolo_loss_layer_1_loss: 2.5855 - val_yolo_loss_layer_2_loss: 0.0356 - val_yolo_loss_layer_3_loss: 3.7719e-04\n",
      "Epoch 34/300\n",
      "306/306 [==============================] - 162s 531ms/step - loss: 3.9204 - yolo_loss_layer_1_loss: 1.8580 - yolo_loss_layer_2_loss: 0.0492 - yolo_loss_layer_3_loss: 3.6659e-04 - val_loss: 4.3984 - val_yolo_loss_layer_1_loss: 2.3570 - val_yolo_loss_layer_2_loss: 0.0326 - val_yolo_loss_layer_3_loss: 3.2682e-04\n",
      "Epoch 35/300\n",
      "306/306 [==============================] - 168s 548ms/step - loss: 3.9356 - yolo_loss_layer_1_loss: 1.8793 - yolo_loss_layer_2_loss: 0.0517 - yolo_loss_layer_3_loss: 3.5373e-04 - val_loss: 4.4822 - val_yolo_loss_layer_1_loss: 2.4469 - val_yolo_loss_layer_2_loss: 0.0353 - val_yolo_loss_layer_3_loss: 3.5543e-04\n",
      "Epoch 36/300\n",
      "306/306 [==============================] - 169s 551ms/step - loss: 3.9327 - yolo_loss_layer_1_loss: 1.8861 - yolo_loss_layer_2_loss: 0.0514 - yolo_loss_layer_3_loss: 3.3849e-04 - val_loss: 4.6112 - val_yolo_loss_layer_1_loss: 2.5874 - val_yolo_loss_layer_2_loss: 0.0332 - val_yolo_loss_layer_3_loss: 2.8155e-04\n",
      "Epoch 37/300\n",
      "306/306 [==============================] - 173s 566ms/step - loss: 3.9171 - yolo_loss_layer_1_loss: 1.8835 - yolo_loss_layer_2_loss: 0.0473 - yolo_loss_layer_3_loss: 3.2929e-04 - val_loss: 4.5135 - val_yolo_loss_layer_1_loss: 2.4969 - val_yolo_loss_layer_2_loss: 0.0349 - val_yolo_loss_layer_3_loss: 2.7864e-04\n",
      "Epoch 38/300\n",
      "306/306 [==============================] - 175s 571ms/step - loss: 3.8001 - yolo_loss_layer_1_loss: 1.7643 - yolo_loss_layer_2_loss: 0.0586 - yolo_loss_layer_3_loss: 3.1111e-04 - val_loss: 4.3316 - val_yolo_loss_layer_1_loss: 2.3227 - val_yolo_loss_layer_2_loss: 0.0362 - val_yolo_loss_layer_3_loss: 2.8103e-04\n",
      "Epoch 39/300\n",
      "306/306 [==============================] - 183s 599ms/step - loss: 3.8328 - yolo_loss_layer_1_loss: 1.8044 - yolo_loss_layer_2_loss: 0.0602 - yolo_loss_layer_3_loss: 3.0517e-04 - val_loss: 4.3395 - val_yolo_loss_layer_1_loss: 2.3389 - val_yolo_loss_layer_2_loss: 0.0365 - val_yolo_loss_layer_3_loss: 2.4876e-04\n",
      "Epoch 40/300\n",
      "306/306 [==============================] - 167s 546ms/step - loss: 3.7442 - yolo_loss_layer_1_loss: 1.7338 - yolo_loss_layer_2_loss: 0.0508 - yolo_loss_layer_3_loss: 2.7545e-04 - val_loss: 4.5827 - val_yolo_loss_layer_1_loss: 2.5897 - val_yolo_loss_layer_2_loss: 0.0380 - val_yolo_loss_layer_3_loss: 2.3145e-04\n",
      "Epoch 41/300\n",
      "306/306 [==============================] - 170s 556ms/step - loss: 3.7123 - yolo_loss_layer_1_loss: 1.7127 - yolo_loss_layer_2_loss: 0.0488 - yolo_loss_layer_3_loss: 2.5838e-04 - val_loss: 4.3539 - val_yolo_loss_layer_1_loss: 2.3734 - val_yolo_loss_layer_2_loss: 0.0339 - val_yolo_loss_layer_3_loss: 2.4554e-04\n",
      "Epoch 42/300\n",
      "306/306 [==============================] - 181s 590ms/step - loss: 3.6341 - yolo_loss_layer_1_loss: 1.6467 - yolo_loss_layer_2_loss: 0.0448 - yolo_loss_layer_3_loss: 2.5504e-04 - val_loss: 4.2192 - val_yolo_loss_layer_1_loss: 2.2446 - val_yolo_loss_layer_2_loss: 0.0362 - val_yolo_loss_layer_3_loss: 2.4442e-04\n",
      "Epoch 43/300\n",
      "306/306 [==============================] - 161s 527ms/step - loss: 3.6404 - yolo_loss_layer_1_loss: 1.6519 - yolo_loss_layer_2_loss: 0.0542 - yolo_loss_layer_3_loss: 2.3093e-04 - val_loss: 4.3080 - val_yolo_loss_layer_1_loss: 2.3457 - val_yolo_loss_layer_2_loss: 0.0323 - val_yolo_loss_layer_3_loss: 2.3611e-04\n",
      "Epoch 44/300\n",
      "306/306 [==============================] - 161s 525ms/step - loss: 3.7051 - yolo_loss_layer_1_loss: 1.7348 - yolo_loss_layer_2_loss: 0.0447 - yolo_loss_layer_3_loss: 2.2448e-04 - val_loss: 4.0909 - val_yolo_loss_layer_1_loss: 2.1370 - val_yolo_loss_layer_2_loss: 0.0324 - val_yolo_loss_layer_3_loss: 1.9062e-04\n",
      "Epoch 45/300\n",
      "306/306 [==============================] - 172s 563ms/step - loss: 3.5944 - yolo_loss_layer_1_loss: 1.6237 - yolo_loss_layer_2_loss: 0.0532 - yolo_loss_layer_3_loss: 2.2518e-04 - val_loss: 4.2930 - val_yolo_loss_layer_1_loss: 2.3434 - val_yolo_loss_layer_2_loss: 0.0365 - val_yolo_loss_layer_3_loss: 2.1541e-04\n",
      "Epoch 46/300\n",
      "306/306 [==============================] - 166s 542ms/step - loss: 3.5421 - yolo_loss_layer_1_loss: 1.5834 - yolo_loss_layer_2_loss: 0.0496 - yolo_loss_layer_3_loss: 2.1774e-04 - val_loss: 4.0846 - val_yolo_loss_layer_1_loss: 2.1465 - val_yolo_loss_layer_2_loss: 0.0330 - val_yolo_loss_layer_3_loss: 1.8972e-04\n",
      "Epoch 47/300\n",
      "306/306 [==============================] - 172s 561ms/step - loss: 3.5389 - yolo_loss_layer_1_loss: 1.5937 - yolo_loss_layer_2_loss: 0.0440 - yolo_loss_layer_3_loss: 2.1458e-04 - val_loss: 4.4811 - val_yolo_loss_layer_1_loss: 2.5495 - val_yolo_loss_layer_2_loss: 0.0344 - val_yolo_loss_layer_3_loss: 2.2130e-04\n",
      "Epoch 48/300\n",
      "306/306 [==============================] - 168s 548ms/step - loss: 3.5292 - yolo_loss_layer_1_loss: 1.5790 - yolo_loss_layer_2_loss: 0.0567 - yolo_loss_layer_3_loss: 2.0489e-04 - val_loss: 4.2466 - val_yolo_loss_layer_1_loss: 2.3161 - val_yolo_loss_layer_2_loss: 0.0409 - val_yolo_loss_layer_3_loss: 1.9687e-04\n",
      "Epoch 49/300\n",
      "306/306 [==============================] - 170s 555ms/step - loss: 3.4702 - yolo_loss_layer_1_loss: 1.5377 - yolo_loss_layer_2_loss: 0.0465 - yolo_loss_layer_3_loss: 2.0868e-04 - val_loss: 4.0752 - val_yolo_loss_layer_1_loss: 2.1583 - val_yolo_loss_layer_2_loss: 0.0348 - val_yolo_loss_layer_3_loss: 1.8570e-04\n",
      "Epoch 50/300\n",
      "306/306 [==============================] - 189s 618ms/step - loss: 3.5182 - yolo_loss_layer_1_loss: 1.5902 - yolo_loss_layer_2_loss: 0.0495 - yolo_loss_layer_3_loss: 2.2560e-04 - val_loss: 4.1486 - val_yolo_loss_layer_1_loss: 2.2406 - val_yolo_loss_layer_2_loss: 0.0331 - val_yolo_loss_layer_3_loss: 1.7599e-04\n",
      "Epoch 51/300\n",
      "306/306 [==============================] - 178s 581ms/step - loss: 3.4133 - yolo_loss_layer_1_loss: 1.4957 - yolo_loss_layer_2_loss: 0.0464 - yolo_loss_layer_3_loss: 2.0314e-04 - val_loss: 4.2337 - val_yolo_loss_layer_1_loss: 2.3289 - val_yolo_loss_layer_2_loss: 0.0372 - val_yolo_loss_layer_3_loss: 1.7459e-04\n",
      "Epoch 52/300\n",
      "306/306 [==============================] - 164s 536ms/step - loss: 3.3735 - yolo_loss_layer_1_loss: 1.4586 - yolo_loss_layer_2_loss: 0.0511 - yolo_loss_layer_3_loss: 1.8501e-04 - val_loss: 4.3214 - val_yolo_loss_layer_1_loss: 2.4179 - val_yolo_loss_layer_2_loss: 0.0434 - val_yolo_loss_layer_3_loss: 2.0134e-04\n",
      "Epoch 53/300\n",
      "306/306 [==============================] - 176s 575ms/step - loss: 3.3433 - yolo_loss_layer_1_loss: 1.4322 - yolo_loss_layer_2_loss: 0.0547 - yolo_loss_layer_3_loss: 1.9617e-04 - val_loss: 4.4288 - val_yolo_loss_layer_1_loss: 2.5428 - val_yolo_loss_layer_2_loss: 0.0333 - val_yolo_loss_layer_3_loss: 1.9182e-04\n",
      "Epoch 54/300\n",
      "306/306 [==============================] - 169s 554ms/step - loss: 3.4121 - yolo_loss_layer_1_loss: 1.5107 - yolo_loss_layer_2_loss: 0.0522 - yolo_loss_layer_3_loss: 1.9182e-04 - val_loss: 4.0898 - val_yolo_loss_layer_1_loss: 2.2102 - val_yolo_loss_layer_2_loss: 0.0341 - val_yolo_loss_layer_3_loss: 1.7801e-04\n",
      "Epoch 55/300\n",
      "306/306 [==============================] - 167s 547ms/step - loss: 3.2812 - yolo_loss_layer_1_loss: 1.3930 - yolo_loss_layer_2_loss: 0.0466 - yolo_loss_layer_3_loss: 1.7901e-04 - val_loss: 4.1322 - val_yolo_loss_layer_1_loss: 2.2616 - val_yolo_loss_layer_2_loss: 0.0325 - val_yolo_loss_layer_3_loss: 1.7837e-04\n",
      "Epoch 56/300\n",
      "306/306 [==============================] - 162s 529ms/step - loss: 3.3039 - yolo_loss_layer_1_loss: 1.4199 - yolo_loss_layer_2_loss: 0.0493 - yolo_loss_layer_3_loss: 1.7184e-04 - val_loss: 4.5709 - val_yolo_loss_layer_1_loss: 2.7081 - val_yolo_loss_layer_2_loss: 0.0316 - val_yolo_loss_layer_3_loss: 1.8835e-04\n",
      "Epoch 57/300\n",
      "306/306 [==============================] - 168s 549ms/step - loss: 3.1963 - yolo_loss_layer_1_loss: 1.3227 - yolo_loss_layer_2_loss: 0.0460 - yolo_loss_layer_3_loss: 1.7926e-04 - val_loss: 4.0210 - val_yolo_loss_layer_1_loss: 2.1645 - val_yolo_loss_layer_2_loss: 0.0327 - val_yolo_loss_layer_3_loss: 1.7872e-04\n",
      "Epoch 58/300\n",
      "306/306 [==============================] - 183s 597ms/step - loss: 3.3167 - yolo_loss_layer_1_loss: 1.4517 - yolo_loss_layer_2_loss: 0.0447 - yolo_loss_layer_3_loss: 1.8624e-04 - val_loss: 4.3155 - val_yolo_loss_layer_1_loss: 2.4647 - val_yolo_loss_layer_2_loss: 0.0337 - val_yolo_loss_layer_3_loss: 1.7822e-04\n",
      "Epoch 59/300\n",
      "306/306 [==============================] - 164s 537ms/step - loss: 3.2305 - yolo_loss_layer_1_loss: 1.3688 - yolo_loss_layer_2_loss: 0.0481 - yolo_loss_layer_3_loss: 1.7552e-04 - val_loss: 4.0788 - val_yolo_loss_layer_1_loss: 2.2334 - val_yolo_loss_layer_2_loss: 0.0354 - val_yolo_loss_layer_3_loss: 1.7095e-04\n",
      "Epoch 60/300\n",
      "306/306 [==============================] - 178s 581ms/step - loss: 3.2296 - yolo_loss_layer_1_loss: 1.3645 - yolo_loss_layer_2_loss: 0.0584 - yolo_loss_layer_3_loss: 1.8227e-04 - val_loss: 4.3894 - val_yolo_loss_layer_1_loss: 2.5488 - val_yolo_loss_layer_2_loss: 0.0373 - val_yolo_loss_layer_3_loss: 1.6281e-04\n",
      "Epoch 61/300\n",
      "306/306 [==============================] - 170s 556ms/step - loss: 3.1486 - yolo_loss_layer_1_loss: 1.2972 - yolo_loss_layer_2_loss: 0.0514 - yolo_loss_layer_3_loss: 1.7395e-04 - val_loss: 4.1022 - val_yolo_loss_layer_1_loss: 2.2700 - val_yolo_loss_layer_2_loss: 0.0356 - val_yolo_loss_layer_3_loss: 1.5452e-04\n",
      "Epoch 62/300\n",
      "306/306 [==============================] - 179s 586ms/step - loss: 3.0644 - yolo_loss_layer_1_loss: 1.2267 - yolo_loss_layer_2_loss: 0.0445 - yolo_loss_layer_3_loss: 1.7746e-04 - val_loss: 4.2586 - val_yolo_loss_layer_1_loss: 2.4323 - val_yolo_loss_layer_2_loss: 0.0364 - val_yolo_loss_layer_3_loss: 1.7606e-04\n",
      "Epoch 63/300\n",
      "306/306 [==============================] - 178s 580ms/step - loss: 3.0732 - yolo_loss_layer_1_loss: 1.2361 - yolo_loss_layer_2_loss: 0.0507 - yolo_loss_layer_3_loss: 1.7329e-04 - val_loss: 4.1795 - val_yolo_loss_layer_1_loss: 2.3584 - val_yolo_loss_layer_2_loss: 0.0383 - val_yolo_loss_layer_3_loss: 1.5980e-04\n",
      "Epoch 64/300\n",
      "306/306 [==============================] - 172s 563ms/step - loss: 3.0182 - yolo_loss_layer_1_loss: 1.1970 - yolo_loss_layer_2_loss: 0.0419 - yolo_loss_layer_3_loss: 1.6642e-04 - val_loss: 4.0539 - val_yolo_loss_layer_1_loss: 2.2458 - val_yolo_loss_layer_2_loss: 0.0326 - val_yolo_loss_layer_3_loss: 1.6423e-04\n",
      "Epoch 65/300\n",
      "306/306 [==============================] - 167s 547ms/step - loss: 3.0410 - yolo_loss_layer_1_loss: 1.2272 - yolo_loss_layer_2_loss: 0.0416 - yolo_loss_layer_3_loss: 1.6328e-04 - val_loss: 4.1145 - val_yolo_loss_layer_1_loss: 2.3154 - val_yolo_loss_layer_2_loss: 0.0305 - val_yolo_loss_layer_3_loss: 1.5609e-04\n",
      "Epoch 66/300\n",
      "306/306 [==============================] - 175s 573ms/step - loss: 2.9686 - yolo_loss_layer_1_loss: 1.1561 - yolo_loss_layer_2_loss: 0.0473 - yolo_loss_layer_3_loss: 1.6612e-04 - val_loss: 4.1984 - val_yolo_loss_layer_1_loss: 2.3971 - val_yolo_loss_layer_2_loss: 0.0396 - val_yolo_loss_layer_3_loss: 1.5544e-04\n",
      "Epoch 67/300\n",
      "306/306 [==============================] - 153s 501ms/step - loss: 3.0282 - yolo_loss_layer_1_loss: 1.2246 - yolo_loss_layer_2_loss: 0.0453 - yolo_loss_layer_3_loss: 1.5367e-04 - val_loss: 4.1847 - val_yolo_loss_layer_1_loss: 2.3909 - val_yolo_loss_layer_2_loss: 0.0390 - val_yolo_loss_layer_3_loss: 1.3865e-04\n",
      "Epoch 68/300\n",
      "306/306 [==============================] - 168s 550ms/step - loss: 3.0337 - yolo_loss_layer_1_loss: 1.2371 - yolo_loss_layer_2_loss: 0.0451 - yolo_loss_layer_3_loss: 1.5991e-04 - val_loss: 4.2225 - val_yolo_loss_layer_1_loss: 2.4428 - val_yolo_loss_layer_2_loss: 0.0318 - val_yolo_loss_layer_3_loss: 1.6278e-04\n",
      "Epoch 69/300\n",
      "306/306 [==============================] - 176s 574ms/step - loss: 2.9677 - yolo_loss_layer_1_loss: 1.1822 - yolo_loss_layer_2_loss: 0.0412 - yolo_loss_layer_3_loss: 1.6136e-04 - val_loss: 4.1325 - val_yolo_loss_layer_1_loss: 2.3578 - val_yolo_loss_layer_2_loss: 0.0339 - val_yolo_loss_layer_3_loss: 1.4412e-04\n",
      "Epoch 70/300\n",
      "306/306 [==============================] - 158s 516ms/step - loss: 3.0569 - yolo_loss_layer_1_loss: 1.2756 - yolo_loss_layer_2_loss: 0.0438 - yolo_loss_layer_3_loss: 1.4884e-04 - val_loss: 3.9981 - val_yolo_loss_layer_1_loss: 2.2320 - val_yolo_loss_layer_2_loss: 0.0319 - val_yolo_loss_layer_3_loss: 1.3625e-04\n",
      "Epoch 71/300\n",
      "306/306 [==============================] - 184s 601ms/step - loss: 2.9076 - yolo_loss_layer_1_loss: 1.1330 - yolo_loss_layer_2_loss: 0.0437 - yolo_loss_layer_3_loss: 1.6255e-04 - val_loss: 4.1645 - val_yolo_loss_layer_1_loss: 2.4053 - val_yolo_loss_layer_2_loss: 0.0317 - val_yolo_loss_layer_3_loss: 1.4043e-04\n",
      "Epoch 72/300\n",
      "306/306 [==============================] - 163s 531ms/step - loss: 2.9480 - yolo_loss_layer_1_loss: 1.1794 - yolo_loss_layer_2_loss: 0.0444 - yolo_loss_layer_3_loss: 1.4451e-04 - val_loss: 4.2246 - val_yolo_loss_layer_1_loss: 2.4682 - val_yolo_loss_layer_2_loss: 0.0356 - val_yolo_loss_layer_3_loss: 1.5243e-04\n",
      "Epoch 73/300\n",
      "306/306 [==============================] - 168s 550ms/step - loss: 2.9350 - yolo_loss_layer_1_loss: 1.1802 - yolo_loss_layer_2_loss: 0.0373 - yolo_loss_layer_3_loss: 1.5080e-04 - val_loss: 4.0339 - val_yolo_loss_layer_1_loss: 2.2843 - val_yolo_loss_layer_2_loss: 0.0355 - val_yolo_loss_layer_3_loss: 1.6289e-04\n",
      "Epoch 74/300\n",
      "306/306 [==============================] - 167s 547ms/step - loss: 2.8469 - yolo_loss_layer_1_loss: 1.0897 - yolo_loss_layer_2_loss: 0.0463 - yolo_loss_layer_3_loss: 1.4960e-04 - val_loss: 4.1453 - val_yolo_loss_layer_1_loss: 2.4010 - val_yolo_loss_layer_2_loss: 0.0369 - val_yolo_loss_layer_3_loss: 1.3495e-04\n",
      "Epoch 75/300\n",
      "306/306 [==============================] - 181s 590ms/step - loss: 2.8274 - yolo_loss_layer_1_loss: 1.0772 - yolo_loss_layer_2_loss: 0.0457 - yolo_loss_layer_3_loss: 1.5460e-04 - val_loss: 3.9648 - val_yolo_loss_layer_1_loss: 2.2298 - val_yolo_loss_layer_2_loss: 0.0336 - val_yolo_loss_layer_3_loss: 1.3444e-04\n",
      "Epoch 76/300\n",
      "306/306 [==============================] - 164s 534ms/step - loss: 2.8265 - yolo_loss_layer_1_loss: 1.0853 - yolo_loss_layer_2_loss: 0.0432 - yolo_loss_layer_3_loss: 1.4279e-04 - val_loss: 4.1788 - val_yolo_loss_layer_1_loss: 2.4480 - val_yolo_loss_layer_2_loss: 0.0362 - val_yolo_loss_layer_3_loss: 1.3350e-04\n",
      "Epoch 77/300\n",
      "306/306 [==============================] - 187s 610ms/step - loss: 2.8184 - yolo_loss_layer_1_loss: 1.0799 - yolo_loss_layer_2_loss: 0.0471 - yolo_loss_layer_3_loss: 1.5404e-04 - val_loss: 3.9775 - val_yolo_loss_layer_1_loss: 2.2546 - val_yolo_loss_layer_2_loss: 0.0349 - val_yolo_loss_layer_3_loss: 1.4898e-04\n",
      "Epoch 78/300\n",
      "306/306 [==============================] - 185s 605ms/step - loss: 2.8362 - yolo_loss_layer_1_loss: 1.1112 - yolo_loss_layer_2_loss: 0.0400 - yolo_loss_layer_3_loss: 1.5258e-04 - val_loss: 3.9265 - val_yolo_loss_layer_1_loss: 2.2118 - val_yolo_loss_layer_2_loss: 0.0329 - val_yolo_loss_layer_3_loss: 1.3160e-04\n",
      "Epoch 79/300\n",
      "306/306 [==============================] - 177s 577ms/step - loss: 2.8084 - yolo_loss_layer_1_loss: 1.0867 - yolo_loss_layer_2_loss: 0.0432 - yolo_loss_layer_3_loss: 1.4606e-04 - val_loss: 4.0517 - val_yolo_loss_layer_1_loss: 2.3436 - val_yolo_loss_layer_2_loss: 0.0328 - val_yolo_loss_layer_3_loss: 1.5502e-04\n",
      "Epoch 80/300\n",
      "306/306 [==============================] - 176s 576ms/step - loss: 2.7917 - yolo_loss_layer_1_loss: 1.0726 - yolo_loss_layer_2_loss: 0.0471 - yolo_loss_layer_3_loss: 1.4880e-04 - val_loss: 4.0017 - val_yolo_loss_layer_1_loss: 2.2961 - val_yolo_loss_layer_2_loss: 0.0369 - val_yolo_loss_layer_3_loss: 1.4868e-04\n",
      "Epoch 81/300\n",
      "306/306 [==============================] - 184s 601ms/step - loss: 2.8062 - yolo_loss_layer_1_loss: 1.0950 - yolo_loss_layer_2_loss: 0.0456 - yolo_loss_layer_3_loss: 1.5465e-04 - val_loss: 3.9081 - val_yolo_loss_layer_1_loss: 2.1952 - val_yolo_loss_layer_2_loss: 0.0501 - val_yolo_loss_layer_3_loss: 1.3676e-04\n",
      "Epoch 82/300\n",
      "306/306 [==============================] - 159s 518ms/step - loss: 2.7120 - yolo_loss_layer_1_loss: 1.0096 - yolo_loss_layer_2_loss: 0.0426 - yolo_loss_layer_3_loss: 1.3713e-04 - val_loss: 4.0635 - val_yolo_loss_layer_1_loss: 2.3673 - val_yolo_loss_layer_2_loss: 0.0396 - val_yolo_loss_layer_3_loss: 1.4781e-04\n",
      "Epoch 83/300\n",
      "306/306 [==============================] - 183s 599ms/step - loss: 2.6766 - yolo_loss_layer_1_loss: 0.9822 - yolo_loss_layer_2_loss: 0.0411 - yolo_loss_layer_3_loss: 1.5367e-04 - val_loss: 3.8249 - val_yolo_loss_layer_1_loss: 2.1393 - val_yolo_loss_layer_2_loss: 0.0355 - val_yolo_loss_layer_3_loss: 1.3870e-04\n",
      "Epoch 84/300\n",
      "306/306 [==============================] - 174s 567ms/step - loss: 2.6836 - yolo_loss_layer_1_loss: 0.9923 - yolo_loss_layer_2_loss: 0.0444 - yolo_loss_layer_3_loss: 1.4111e-04 - val_loss: 4.0104 - val_yolo_loss_layer_1_loss: 2.3333 - val_yolo_loss_layer_2_loss: 0.0334 - val_yolo_loss_layer_3_loss: 1.4319e-04\n",
      "Epoch 85/300\n",
      "306/306 [==============================] - 166s 544ms/step - loss: 2.6313 - yolo_loss_layer_1_loss: 0.9401 - yolo_loss_layer_2_loss: 0.0506 - yolo_loss_layer_3_loss: 1.4410e-04 - val_loss: 3.8621 - val_yolo_loss_layer_1_loss: 2.1892 - val_yolo_loss_layer_2_loss: 0.0356 - val_yolo_loss_layer_3_loss: 1.3834e-04\n",
      "Epoch 86/300\n",
      "306/306 [==============================] - 173s 565ms/step - loss: 2.6386 - yolo_loss_layer_1_loss: 0.9622 - yolo_loss_layer_2_loss: 0.0420 - yolo_loss_layer_3_loss: 1.4915e-04 - val_loss: 4.0955 - val_yolo_loss_layer_1_loss: 2.4258 - val_yolo_loss_layer_2_loss: 0.0384 - val_yolo_loss_layer_3_loss: 1.2490e-04\n",
      "Epoch 87/300\n",
      "306/306 [==============================] - 172s 562ms/step - loss: 2.5638 - yolo_loss_layer_1_loss: 0.8908 - yolo_loss_layer_2_loss: 0.0446 - yolo_loss_layer_3_loss: 1.4172e-04 - val_loss: 3.9221 - val_yolo_loss_layer_1_loss: 2.2650 - val_yolo_loss_layer_2_loss: 0.0318 - val_yolo_loss_layer_3_loss: 1.4158e-04\n",
      "Epoch 88/300\n",
      "306/306 [==============================] - 165s 538ms/step - loss: 2.5651 - yolo_loss_layer_1_loss: 0.8979 - yolo_loss_layer_2_loss: 0.0450 - yolo_loss_layer_3_loss: 1.4120e-04 - val_loss: 3.9821 - val_yolo_loss_layer_1_loss: 2.3264 - val_yolo_loss_layer_2_loss: 0.0365 - val_yolo_loss_layer_3_loss: 1.3045e-04\n",
      "Epoch 89/300\n",
      "306/306 [==============================] - 184s 602ms/step - loss: 2.6184 - yolo_loss_layer_1_loss: 0.9514 - yolo_loss_layer_2_loss: 0.0507 - yolo_loss_layer_3_loss: 1.5126e-04 - val_loss: 3.8540 - val_yolo_loss_layer_1_loss: 2.2099 - val_yolo_loss_layer_2_loss: 0.0308 - val_yolo_loss_layer_3_loss: 1.4454e-04\n",
      "Epoch 90/300\n",
      "306/306 [==============================] - 178s 583ms/step - loss: 2.5990 - yolo_loss_layer_1_loss: 0.9437 - yolo_loss_layer_2_loss: 0.0449 - yolo_loss_layer_3_loss: 1.4688e-04 - val_loss: 3.9362 - val_yolo_loss_layer_1_loss: 2.2937 - val_yolo_loss_layer_2_loss: 0.0350 - val_yolo_loss_layer_3_loss: 1.3181e-04\n",
      "Epoch 91/300\n",
      "306/306 [==============================] - 173s 565ms/step - loss: 2.5774 - yolo_loss_layer_1_loss: 0.9372 - yolo_loss_layer_2_loss: 0.0357 - yolo_loss_layer_3_loss: 1.4303e-04 - val_loss: 4.0710 - val_yolo_loss_layer_1_loss: 2.4349 - val_yolo_loss_layer_2_loss: 0.0344 - val_yolo_loss_layer_3_loss: 1.3484e-04\n",
      "Epoch 92/300\n",
      "306/306 [==============================] - 173s 564ms/step - loss: 2.5394 - yolo_loss_layer_1_loss: 0.8935 - yolo_loss_layer_2_loss: 0.0470 - yolo_loss_layer_3_loss: 1.4485e-04 - val_loss: 4.0364 - val_yolo_loss_layer_1_loss: 2.4011 - val_yolo_loss_layer_2_loss: 0.0395 - val_yolo_loss_layer_3_loss: 1.3795e-04\n",
      "Epoch 93/300\n",
      "306/306 [==============================] - 167s 547ms/step - loss: 2.5304 - yolo_loss_layer_1_loss: 0.9015 - yolo_loss_layer_2_loss: 0.0361 - yolo_loss_layer_3_loss: 1.3884e-04 - val_loss: 4.1379 - val_yolo_loss_layer_1_loss: 2.5117 - val_yolo_loss_layer_2_loss: 0.0364 - val_yolo_loss_layer_3_loss: 1.2945e-04\n",
      "Epoch 94/300\n",
      "306/306 [==============================] - 176s 575ms/step - loss: 2.4890 - yolo_loss_layer_1_loss: 0.8579 - yolo_loss_layer_2_loss: 0.0442 - yolo_loss_layer_3_loss: 1.4439e-04 - val_loss: 3.8288 - val_yolo_loss_layer_1_loss: 2.2108 - val_yolo_loss_layer_2_loss: 0.0340 - val_yolo_loss_layer_3_loss: 1.3228e-04\n",
      "Epoch 95/300\n",
      "306/306 [==============================] - 183s 599ms/step - loss: 2.4699 - yolo_loss_layer_1_loss: 0.8503 - yolo_loss_layer_2_loss: 0.0385 - yolo_loss_layer_3_loss: 1.5177e-04 - val_loss: 4.0041 - val_yolo_loss_layer_1_loss: 2.3881 - val_yolo_loss_layer_2_loss: 0.0378 - val_yolo_loss_layer_3_loss: 1.3629e-04\n",
      "Epoch 96/300\n",
      "306/306 [==============================] - 182s 596ms/step - loss: 2.5147 - yolo_loss_layer_1_loss: 0.8943 - yolo_loss_layer_2_loss: 0.0452 - yolo_loss_layer_3_loss: 1.4416e-04 - val_loss: 3.8333 - val_yolo_loss_layer_1_loss: 2.2271 - val_yolo_loss_layer_2_loss: 0.0340 - val_yolo_loss_layer_3_loss: 1.1896e-04\n",
      "Epoch 97/300\n",
      "306/306 [==============================] - 166s 544ms/step - loss: 2.4868 - yolo_loss_layer_1_loss: 0.8706 - yolo_loss_layer_2_loss: 0.0472 - yolo_loss_layer_3_loss: 1.3452e-04 - val_loss: 3.9825 - val_yolo_loss_layer_1_loss: 2.3829 - val_yolo_loss_layer_2_loss: 0.0336 - val_yolo_loss_layer_3_loss: 1.1836e-04\n",
      "Epoch 98/300\n",
      "306/306 [==============================] - 188s 613ms/step - loss: 2.5049 - yolo_loss_layer_1_loss: 0.8958 - yolo_loss_layer_2_loss: 0.0462 - yolo_loss_layer_3_loss: 1.4274e-04 - val_loss: 3.9941 - val_yolo_loss_layer_1_loss: 2.3992 - val_yolo_loss_layer_2_loss: 0.0351 - val_yolo_loss_layer_3_loss: 1.1761e-04\n",
      "Epoch 99/300\n",
      "306/306 [==============================] - 190s 620ms/step - loss: 2.4007 - yolo_loss_layer_1_loss: 0.8053 - yolo_loss_layer_2_loss: 0.0385 - yolo_loss_layer_3_loss: 1.4375e-04 - val_loss: 3.8473 - val_yolo_loss_layer_1_loss: 2.2616 - val_yolo_loss_layer_2_loss: 0.0321 - val_yolo_loss_layer_3_loss: 1.3343e-04\n",
      "Epoch 100/300\n",
      "306/306 [==============================] - 182s 595ms/step - loss: 2.3979 - yolo_loss_layer_1_loss: 0.7979 - yolo_loss_layer_2_loss: 0.0494 - yolo_loss_layer_3_loss: 1.3847e-04 - val_loss: 4.0478 - val_yolo_loss_layer_1_loss: 2.4656 - val_yolo_loss_layer_2_loss: 0.0347 - val_yolo_loss_layer_3_loss: 1.3227e-04\n",
      "Epoch 101/300\n",
      "306/306 [==============================] - 183s 597ms/step - loss: 2.4052 - yolo_loss_layer_1_loss: 0.8161 - yolo_loss_layer_2_loss: 0.0445 - yolo_loss_layer_3_loss: 1.4014e-04 - val_loss: 3.7981 - val_yolo_loss_layer_1_loss: 2.2141 - val_yolo_loss_layer_2_loss: 0.0426 - val_yolo_loss_layer_3_loss: 1.2590e-04\n",
      "Epoch 102/300\n",
      "306/306 [==============================] - 191s 625ms/step - loss: 2.4423 - yolo_loss_layer_1_loss: 0.8625 - yolo_loss_layer_2_loss: 0.0411 - yolo_loss_layer_3_loss: 1.4426e-04 - val_loss: 3.8783 - val_yolo_loss_layer_1_loss: 2.3083 - val_yolo_loss_layer_2_loss: 0.0344 - val_yolo_loss_layer_3_loss: 1.1992e-04\n",
      "Epoch 103/300\n",
      "306/306 [==============================] - 185s 604ms/step - loss: 2.3399 - yolo_loss_layer_1_loss: 0.7618 - yolo_loss_layer_2_loss: 0.0455 - yolo_loss_layer_3_loss: 1.3833e-04 - val_loss: 3.8996 - val_yolo_loss_layer_1_loss: 2.3340 - val_yolo_loss_layer_2_loss: 0.0360 - val_yolo_loss_layer_3_loss: 1.3037e-04\n",
      "Epoch 104/300\n",
      "306/306 [==============================] - 183s 599ms/step - loss: 2.4123 - yolo_loss_layer_1_loss: 0.8397 - yolo_loss_layer_2_loss: 0.0460 - yolo_loss_layer_3_loss: 1.3700e-04 - val_loss: 4.0267 - val_yolo_loss_layer_1_loss: 2.4613 - val_yolo_loss_layer_2_loss: 0.0418 - val_yolo_loss_layer_3_loss: 1.4200e-04\n",
      "Epoch 105/300\n",
      "306/306 [==============================] - 195s 637ms/step - loss: 2.3601 - yolo_loss_layer_1_loss: 0.7931 - yolo_loss_layer_2_loss: 0.0461 - yolo_loss_layer_3_loss: 1.3817e-04 - val_loss: 4.0001 - val_yolo_loss_layer_1_loss: 2.4440 - val_yolo_loss_layer_2_loss: 0.0380 - val_yolo_loss_layer_3_loss: 1.5401e-04\n",
      "Epoch 106/300\n",
      "306/306 [==============================] - 180s 588ms/step - loss: 2.3220 - yolo_loss_layer_1_loss: 0.7716 - yolo_loss_layer_2_loss: 0.0355 - yolo_loss_layer_3_loss: 1.3812e-04 - val_loss: 3.8620 - val_yolo_loss_layer_1_loss: 2.3118 - val_yolo_loss_layer_2_loss: 0.0384 - val_yolo_loss_layer_3_loss: 1.2611e-04\n",
      "Epoch 107/300\n",
      "306/306 [==============================] - 200s 652ms/step - loss: 2.3622 - yolo_loss_layer_1_loss: 0.8130 - yolo_loss_layer_2_loss: 0.0403 - yolo_loss_layer_3_loss: 1.4728e-04 - val_loss: 3.8376 - val_yolo_loss_layer_1_loss: 2.2962 - val_yolo_loss_layer_2_loss: 0.0354 - val_yolo_loss_layer_3_loss: 1.3285e-04\n",
      "Epoch 108/300\n",
      "306/306 [==============================] - 185s 604ms/step - loss: 2.3783 - yolo_loss_layer_1_loss: 0.8320 - yolo_loss_layer_2_loss: 0.0431 - yolo_loss_layer_3_loss: 1.3461e-04 - val_loss: 3.8678 - val_yolo_loss_layer_1_loss: 2.3318 - val_yolo_loss_layer_2_loss: 0.0356 - val_yolo_loss_layer_3_loss: 1.4493e-04\n",
      "Epoch 109/300\n",
      "306/306 [==============================] - 184s 601ms/step - loss: 2.3394 - yolo_loss_layer_1_loss: 0.8029 - yolo_loss_layer_2_loss: 0.0391 - yolo_loss_layer_3_loss: 1.3912e-04 - val_loss: 3.9030 - val_yolo_loss_layer_1_loss: 2.3779 - val_yolo_loss_layer_2_loss: 0.0305 - val_yolo_loss_layer_3_loss: 1.2962e-04\n",
      "Epoch 110/300\n",
      "306/306 [==============================] - 172s 563ms/step - loss: 2.2668 - yolo_loss_layer_1_loss: 0.7387 - yolo_loss_layer_2_loss: 0.0367 - yolo_loss_layer_3_loss: 1.2878e-04 - val_loss: 3.9893 - val_yolo_loss_layer_1_loss: 2.4650 - val_yolo_loss_layer_2_loss: 0.0359 - val_yolo_loss_layer_3_loss: 1.4216e-04\n",
      "Epoch 111/300\n",
      "306/306 [==============================] - 178s 582ms/step - loss: 2.2800 - yolo_loss_layer_1_loss: 0.7447 - yolo_loss_layer_2_loss: 0.0499 - yolo_loss_layer_3_loss: 1.3217e-04 - val_loss: 3.8796 - val_yolo_loss_layer_1_loss: 2.3605 - val_yolo_loss_layer_2_loss: 0.0367 - val_yolo_loss_layer_3_loss: 1.4019e-04\n",
      "Epoch 112/300\n",
      "306/306 [==============================] - 173s 564ms/step - loss: 2.1892 - yolo_loss_layer_1_loss: 0.6771 - yolo_loss_layer_2_loss: 0.0331 - yolo_loss_layer_3_loss: 1.3264e-04 - val_loss: 3.6488 - val_yolo_loss_layer_1_loss: 2.1372 - val_yolo_loss_layer_2_loss: 0.0355 - val_yolo_loss_layer_3_loss: 1.2226e-04\n",
      "Epoch 113/300\n",
      "306/306 [==============================] - 173s 564ms/step - loss: 2.2210 - yolo_loss_layer_1_loss: 0.7072 - yolo_loss_layer_2_loss: 0.0407 - yolo_loss_layer_3_loss: 1.3467e-04 - val_loss: 3.9826 - val_yolo_loss_layer_1_loss: 2.4628 - val_yolo_loss_layer_2_loss: 0.0497 - val_yolo_loss_layer_3_loss: 1.1456e-04\n",
      "Epoch 114/300\n",
      "306/306 [==============================] - 173s 566ms/step - loss: 2.2460 - yolo_loss_layer_1_loss: 0.7337 - yolo_loss_layer_2_loss: 0.0451 - yolo_loss_layer_3_loss: 1.3424e-04 - val_loss: 3.8468 - val_yolo_loss_layer_1_loss: 2.3478 - val_yolo_loss_layer_2_loss: 0.0345 - val_yolo_loss_layer_3_loss: 1.1007e-04\n",
      "Epoch 115/300\n",
      "306/306 [==============================] - 178s 581ms/step - loss: 2.2294 - yolo_loss_layer_1_loss: 0.7192 - yolo_loss_layer_2_loss: 0.0485 - yolo_loss_layer_3_loss: 1.3740e-04 - val_loss: 3.9040 - val_yolo_loss_layer_1_loss: 2.4075 - val_yolo_loss_layer_2_loss: 0.0372 - val_yolo_loss_layer_3_loss: 1.1487e-04\n",
      "Epoch 116/300\n",
      "306/306 [==============================] - 172s 563ms/step - loss: 2.2092 - yolo_loss_layer_1_loss: 0.7097 - yolo_loss_layer_2_loss: 0.0429 - yolo_loss_layer_3_loss: 1.3646e-04 - val_loss: 3.7117 - val_yolo_loss_layer_1_loss: 2.2207 - val_yolo_loss_layer_2_loss: 0.0373 - val_yolo_loss_layer_3_loss: 1.0427e-04\n",
      "Epoch 117/300\n",
      "306/306 [==============================] - 185s 603ms/step - loss: 2.1993 - yolo_loss_layer_1_loss: 0.7078 - yolo_loss_layer_2_loss: 0.0406 - yolo_loss_layer_3_loss: 1.3385e-04 - val_loss: 3.8172 - val_yolo_loss_layer_1_loss: 2.3355 - val_yolo_loss_layer_2_loss: 0.0336 - val_yolo_loss_layer_3_loss: 1.5132e-04\n",
      "Epoch 118/300\n",
      "306/306 [==============================] - 165s 539ms/step - loss: 2.2958 - yolo_loss_layer_1_loss: 0.8111 - yolo_loss_layer_2_loss: 0.0393 - yolo_loss_layer_3_loss: 1.2816e-04 - val_loss: 3.7062 - val_yolo_loss_layer_1_loss: 2.2312 - val_yolo_loss_layer_2_loss: 0.0324 - val_yolo_loss_layer_3_loss: 1.2158e-04\n",
      "Epoch 119/300\n",
      "306/306 [==============================] - 169s 553ms/step - loss: 2.1469 - yolo_loss_layer_1_loss: 0.6688 - yolo_loss_layer_2_loss: 0.0383 - yolo_loss_layer_3_loss: 1.3191e-04 - val_loss: 3.6496 - val_yolo_loss_layer_1_loss: 2.1756 - val_yolo_loss_layer_2_loss: 0.0370 - val_yolo_loss_layer_3_loss: 1.2038e-04\n",
      "Epoch 120/300\n",
      "306/306 [==============================] - 187s 609ms/step - loss: 2.1295 - yolo_loss_layer_1_loss: 0.6634 - yolo_loss_layer_2_loss: 0.0317 - yolo_loss_layer_3_loss: 1.3887e-04 - val_loss: 3.8267 - val_yolo_loss_layer_1_loss: 2.3597 - val_yolo_loss_layer_2_loss: 0.0355 - val_yolo_loss_layer_3_loss: 1.3702e-04\n",
      "Epoch 121/300\n",
      "306/306 [==============================] - 149s 488ms/step - loss: 2.1724 - yolo_loss_layer_1_loss: 0.7052 - yolo_loss_layer_2_loss: 0.0384 - yolo_loss_layer_3_loss: 1.2249e-04 - val_loss: 3.7708 - val_yolo_loss_layer_1_loss: 2.3113 - val_yolo_loss_layer_2_loss: 0.0334 - val_yolo_loss_layer_3_loss: 1.0902e-04\n",
      "Epoch 122/300\n",
      "306/306 [==============================] - 184s 600ms/step - loss: 2.1512 - yolo_loss_layer_1_loss: 0.6822 - yolo_loss_layer_2_loss: 0.0455 - yolo_loss_layer_3_loss: 1.3891e-04 - val_loss: 3.7632 - val_yolo_loss_layer_1_loss: 2.3079 - val_yolo_loss_layer_2_loss: 0.0344 - val_yolo_loss_layer_3_loss: 1.4085e-04\n",
      "Epoch 123/300\n",
      "306/306 [==============================] - 169s 552ms/step - loss: 2.1934 - yolo_loss_layer_1_loss: 0.7369 - yolo_loss_layer_2_loss: 0.0384 - yolo_loss_layer_3_loss: 1.2726e-04 - val_loss: 3.7468 - val_yolo_loss_layer_1_loss: 2.2950 - val_yolo_loss_layer_2_loss: 0.0362 - val_yolo_loss_layer_3_loss: 1.3002e-04\n",
      "Epoch 124/300\n",
      "306/306 [==============================] - 156s 511ms/step - loss: 2.1405 - yolo_loss_layer_1_loss: 0.6864 - yolo_loss_layer_2_loss: 0.0411 - yolo_loss_layer_3_loss: 1.2418e-04 - val_loss: 3.7243 - val_yolo_loss_layer_1_loss: 2.2771 - val_yolo_loss_layer_2_loss: 0.0367 - val_yolo_loss_layer_3_loss: 1.1911e-04\n",
      "Epoch 125/300\n",
      "306/306 [==============================] - 168s 548ms/step - loss: 2.0783 - yolo_loss_layer_1_loss: 0.6322 - yolo_loss_layer_2_loss: 0.0384 - yolo_loss_layer_3_loss: 1.2942e-04 - val_loss: 3.9259 - val_yolo_loss_layer_1_loss: 2.4840 - val_yolo_loss_layer_2_loss: 0.0368 - val_yolo_loss_layer_3_loss: 1.2632e-04\n",
      "Epoch 126/300\n",
      "306/306 [==============================] - 185s 606ms/step - loss: 2.1015 - yolo_loss_layer_1_loss: 0.6538 - yolo_loss_layer_2_loss: 0.0455 - yolo_loss_layer_3_loss: 1.4268e-04 - val_loss: 3.7281 - val_yolo_loss_layer_1_loss: 2.2962 - val_yolo_loss_layer_2_loss: 0.0324 - val_yolo_loss_layer_3_loss: 1.2897e-04\n",
      "Epoch 127/300\n",
      "306/306 [==============================] - 167s 544ms/step - loss: 2.0341 - yolo_loss_layer_1_loss: 0.5967 - yolo_loss_layer_2_loss: 0.0408 - yolo_loss_layer_3_loss: 1.2879e-04 - val_loss: 3.7209 - val_yolo_loss_layer_1_loss: 2.2944 - val_yolo_loss_layer_2_loss: 0.0328 - val_yolo_loss_layer_3_loss: 1.3166e-04\n",
      "Epoch 128/300\n",
      "306/306 [==============================] - 171s 558ms/step - loss: 2.0686 - yolo_loss_layer_1_loss: 0.6381 - yolo_loss_layer_2_loss: 0.0396 - yolo_loss_layer_3_loss: 1.3132e-04 - val_loss: 3.8868 - val_yolo_loss_layer_1_loss: 2.4658 - val_yolo_loss_layer_2_loss: 0.0329 - val_yolo_loss_layer_3_loss: 1.2493e-04\n",
      "Epoch 129/300\n",
      "306/306 [==============================] - 175s 571ms/step - loss: 2.0422 - yolo_loss_layer_1_loss: 0.6166 - yolo_loss_layer_2_loss: 0.0402 - yolo_loss_layer_3_loss: 1.3629e-04 - val_loss: 3.9240 - val_yolo_loss_layer_1_loss: 2.5059 - val_yolo_loss_layer_2_loss: 0.0354 - val_yolo_loss_layer_3_loss: 1.2047e-04\n",
      "Epoch 130/300\n",
      "306/306 [==============================] - 173s 565ms/step - loss: 2.0800 - yolo_loss_layer_1_loss: 0.6577 - yolo_loss_layer_2_loss: 0.0423 - yolo_loss_layer_3_loss: 1.3532e-04 - val_loss: 3.8058 - val_yolo_loss_layer_1_loss: 2.3945 - val_yolo_loss_layer_2_loss: 0.0342 - val_yolo_loss_layer_3_loss: 1.2818e-04\n",
      "Epoch 131/300\n",
      "306/306 [==============================] - 173s 565ms/step - loss: 2.0395 - yolo_loss_layer_1_loss: 0.6285 - yolo_loss_layer_2_loss: 0.0367 - yolo_loss_layer_3_loss: 1.3330e-04 - val_loss: 3.6009 - val_yolo_loss_layer_1_loss: 2.1955 - val_yolo_loss_layer_2_loss: 0.0340 - val_yolo_loss_layer_3_loss: 1.2776e-04\n",
      "Epoch 132/300\n",
      "306/306 [==============================] - 164s 535ms/step - loss: 2.1095 - yolo_loss_layer_1_loss: 0.6968 - yolo_loss_layer_2_loss: 0.0442 - yolo_loss_layer_3_loss: 1.2638e-04 - val_loss: 3.7294 - val_yolo_loss_layer_1_loss: 2.3209 - val_yolo_loss_layer_2_loss: 0.0425 - val_yolo_loss_layer_3_loss: 1.1404e-04\n",
      "Epoch 133/300\n",
      "306/306 [==============================] - 172s 563ms/step - loss: 2.0022 - yolo_loss_layer_1_loss: 0.5975 - yolo_loss_layer_2_loss: 0.0415 - yolo_loss_layer_3_loss: 1.3102e-04 - val_loss: 3.7483 - val_yolo_loss_layer_1_loss: 2.3555 - val_yolo_loss_layer_2_loss: 0.0325 - val_yolo_loss_layer_3_loss: 1.3223e-04\n",
      "Epoch 134/300\n",
      "306/306 [==============================] - 174s 567ms/step - loss: 2.0614 - yolo_loss_layer_1_loss: 0.6622 - yolo_loss_layer_2_loss: 0.0414 - yolo_loss_layer_3_loss: 1.3401e-04 - val_loss: 3.6516 - val_yolo_loss_layer_1_loss: 2.2575 - val_yolo_loss_layer_2_loss: 0.0389 - val_yolo_loss_layer_3_loss: 1.2180e-04\n",
      "Epoch 135/300\n",
      "306/306 [==============================] - 177s 577ms/step - loss: 2.0068 - yolo_loss_layer_1_loss: 0.6199 - yolo_loss_layer_2_loss: 0.0344 - yolo_loss_layer_3_loss: 1.2778e-04 - val_loss: 3.7751 - val_yolo_loss_layer_1_loss: 2.3919 - val_yolo_loss_layer_2_loss: 0.0335 - val_yolo_loss_layer_3_loss: 1.4111e-04\n",
      "Epoch 136/300\n",
      "306/306 [==============================] - 163s 532ms/step - loss: 2.1042 - yolo_loss_layer_1_loss: 0.7219 - yolo_loss_layer_2_loss: 0.0350 - yolo_loss_layer_3_loss: 1.2591e-04 - val_loss: 3.7347 - val_yolo_loss_layer_1_loss: 2.3567 - val_yolo_loss_layer_2_loss: 0.0334 - val_yolo_loss_layer_3_loss: 1.2979e-04\n",
      "Epoch 137/300\n",
      "306/306 [==============================] - 171s 560ms/step - loss: 2.0021 - yolo_loss_layer_1_loss: 0.6171 - yolo_loss_layer_2_loss: 0.0429 - yolo_loss_layer_3_loss: 1.3202e-04 - val_loss: 3.6495 - val_yolo_loss_layer_1_loss: 2.2712 - val_yolo_loss_layer_2_loss: 0.0388 - val_yolo_loss_layer_3_loss: 1.2689e-04\n",
      "Epoch 138/300\n",
      "306/306 [==============================] - 178s 581ms/step - loss: 1.9537 - yolo_loss_layer_1_loss: 0.5810 - yolo_loss_layer_2_loss: 0.0358 - yolo_loss_layer_3_loss: 1.3441e-04 - val_loss: 3.8397 - val_yolo_loss_layer_1_loss: 2.4587 - val_yolo_loss_layer_2_loss: 0.0468 - val_yolo_loss_layer_3_loss: 1.2658e-04\n",
      "Epoch 139/300\n",
      "306/306 [==============================] - 171s 558ms/step - loss: 1.9589 - yolo_loss_layer_1_loss: 0.5909 - yolo_loss_layer_2_loss: 0.0366 - yolo_loss_layer_3_loss: 1.3475e-04 - val_loss: 3.7179 - val_yolo_loss_layer_1_loss: 2.3538 - val_yolo_loss_layer_2_loss: 0.0353 - val_yolo_loss_layer_3_loss: 1.1521e-04\n",
      "Epoch 140/300\n",
      "306/306 [==============================] - 179s 585ms/step - loss: 1.9240 - yolo_loss_layer_1_loss: 0.5674 - yolo_loss_layer_2_loss: 0.0302 - yolo_loss_layer_3_loss: 1.3761e-04 - val_loss: 3.7285 - val_yolo_loss_layer_1_loss: 2.3705 - val_yolo_loss_layer_2_loss: 0.0342 - val_yolo_loss_layer_3_loss: 1.3133e-04\n",
      "Epoch 141/300\n",
      "306/306 [==============================] - 180s 587ms/step - loss: 1.9135 - yolo_loss_layer_1_loss: 0.5564 - yolo_loss_layer_2_loss: 0.0360 - yolo_loss_layer_3_loss: 1.3723e-04 - val_loss: 3.5727 - val_yolo_loss_layer_1_loss: 2.2187 - val_yolo_loss_layer_2_loss: 0.0354 - val_yolo_loss_layer_3_loss: 1.2279e-04\n",
      "Epoch 142/300\n",
      "306/306 [==============================] - 167s 547ms/step - loss: 1.9554 - yolo_loss_layer_1_loss: 0.5990 - yolo_loss_layer_2_loss: 0.0403 - yolo_loss_layer_3_loss: 1.3166e-04 - val_loss: 3.5676 - val_yolo_loss_layer_1_loss: 2.2208 - val_yolo_loss_layer_2_loss: 0.0333 - val_yolo_loss_layer_3_loss: 1.1684e-04\n",
      "Epoch 143/300\n",
      "306/306 [==============================] - 175s 573ms/step - loss: 1.9092 - yolo_loss_layer_1_loss: 0.5634 - yolo_loss_layer_2_loss: 0.0348 - yolo_loss_layer_3_loss: 1.2835e-04 - val_loss: 3.7770 - val_yolo_loss_layer_1_loss: 2.4317 - val_yolo_loss_layer_2_loss: 0.0369 - val_yolo_loss_layer_3_loss: 1.4802e-04\n",
      "Epoch 144/300\n",
      "306/306 [==============================] - 183s 597ms/step - loss: 1.9001 - yolo_loss_layer_1_loss: 0.5588 - yolo_loss_layer_2_loss: 0.0356 - yolo_loss_layer_3_loss: 1.3860e-04 - val_loss: 3.8423 - val_yolo_loss_layer_1_loss: 2.5060 - val_yolo_loss_layer_2_loss: 0.0333 - val_yolo_loss_layer_3_loss: 1.3376e-04\n",
      "Epoch 145/300\n",
      "306/306 [==============================] - 163s 533ms/step - loss: 1.9605 - yolo_loss_layer_1_loss: 0.6241 - yolo_loss_layer_2_loss: 0.0359 - yolo_loss_layer_3_loss: 1.2809e-04 - val_loss: 3.7791 - val_yolo_loss_layer_1_loss: 2.4396 - val_yolo_loss_layer_2_loss: 0.0415 - val_yolo_loss_layer_3_loss: 1.2412e-04\n",
      "Epoch 146/300\n",
      "306/306 [==============================] - 168s 549ms/step - loss: 1.9134 - yolo_loss_layer_1_loss: 0.5745 - yolo_loss_layer_2_loss: 0.0435 - yolo_loss_layer_3_loss: 1.3335e-04 - val_loss: 3.4033 - val_yolo_loss_layer_1_loss: 2.0769 - val_yolo_loss_layer_2_loss: 0.0338 - val_yolo_loss_layer_3_loss: 1.1675e-04\n",
      "Epoch 147/300\n",
      "306/306 [==============================] - 174s 570ms/step - loss: 1.8714 - yolo_loss_layer_1_loss: 0.5441 - yolo_loss_layer_2_loss: 0.0373 - yolo_loss_layer_3_loss: 1.3435e-04 - val_loss: 3.6643 - val_yolo_loss_layer_1_loss: 2.3415 - val_yolo_loss_layer_2_loss: 0.0354 - val_yolo_loss_layer_3_loss: 1.1064e-04\n",
      "Epoch 148/300\n",
      "306/306 [==============================] - 176s 575ms/step - loss: 1.8530 - yolo_loss_layer_1_loss: 0.5250 - yolo_loss_layer_2_loss: 0.0433 - yolo_loss_layer_3_loss: 1.3636e-04 - val_loss: 3.7200 - val_yolo_loss_layer_1_loss: 2.4033 - val_yolo_loss_layer_2_loss: 0.0346 - val_yolo_loss_layer_3_loss: 1.1655e-04\n",
      "Epoch 149/300\n",
      "306/306 [==============================] - 157s 514ms/step - loss: 1.9032 - yolo_loss_layer_1_loss: 0.5833 - yolo_loss_layer_2_loss: 0.0404 - yolo_loss_layer_3_loss: 1.2540e-04 - val_loss: 3.5346 - val_yolo_loss_layer_1_loss: 2.2238 - val_yolo_loss_layer_2_loss: 0.0338 - val_yolo_loss_layer_3_loss: 1.1682e-04\n",
      "Epoch 150/300\n",
      "306/306 [==============================] - 177s 578ms/step - loss: 1.8562 - yolo_loss_layer_1_loss: 0.5349 - yolo_loss_layer_2_loss: 0.0470 - yolo_loss_layer_3_loss: 1.3030e-04 - val_loss: 3.7758 - val_yolo_loss_layer_1_loss: 2.4676 - val_yolo_loss_layer_2_loss: 0.0365 - val_yolo_loss_layer_3_loss: 1.3495e-04\n",
      "Epoch 151/300\n",
      "306/306 [==============================] - 160s 522ms/step - loss: 1.8293 - yolo_loss_layer_1_loss: 0.5196 - yolo_loss_layer_2_loss: 0.0405 - yolo_loss_layer_3_loss: 1.2656e-04 - val_loss: 3.5859 - val_yolo_loss_layer_1_loss: 2.2806 - val_yolo_loss_layer_2_loss: 0.0389 - val_yolo_loss_layer_3_loss: 1.1864e-04\n",
      "Epoch 152/300\n",
      "306/306 [==============================] - 171s 559ms/step - loss: 1.8457 - yolo_loss_layer_1_loss: 0.5427 - yolo_loss_layer_2_loss: 0.0392 - yolo_loss_layer_3_loss: 1.3414e-04 - val_loss: 3.5851 - val_yolo_loss_layer_1_loss: 2.2852 - val_yolo_loss_layer_2_loss: 0.0387 - val_yolo_loss_layer_3_loss: 1.0881e-04\n",
      "Epoch 153/300\n",
      "306/306 [==============================] - 173s 564ms/step - loss: 1.8203 - yolo_loss_layer_1_loss: 0.5191 - yolo_loss_layer_2_loss: 0.0427 - yolo_loss_layer_3_loss: 1.3155e-04 - val_loss: 3.6168 - val_yolo_loss_layer_1_loss: 2.3251 - val_yolo_loss_layer_2_loss: 0.0358 - val_yolo_loss_layer_3_loss: 1.3158e-04\n",
      "Epoch 154/300\n",
      "306/306 [==============================] - 165s 540ms/step - loss: 1.8089 - yolo_loss_layer_1_loss: 0.5161 - yolo_loss_layer_2_loss: 0.0394 - yolo_loss_layer_3_loss: 1.2328e-04 - val_loss: 3.6943 - val_yolo_loss_layer_1_loss: 2.4090 - val_yolo_loss_layer_2_loss: 0.0346 - val_yolo_loss_layer_3_loss: 1.2844e-04\n",
      "Epoch 155/300\n",
      "306/306 [==============================] - 178s 581ms/step - loss: 1.8205 - yolo_loss_layer_1_loss: 0.5335 - yolo_loss_layer_2_loss: 0.0388 - yolo_loss_layer_3_loss: 1.3504e-04 - val_loss: 3.6003 - val_yolo_loss_layer_1_loss: 2.3179 - val_yolo_loss_layer_2_loss: 0.0367 - val_yolo_loss_layer_3_loss: 1.2774e-04\n",
      "Epoch 156/300\n",
      "306/306 [==============================] - 179s 583ms/step - loss: 1.7668 - yolo_loss_layer_1_loss: 0.4801 - yolo_loss_layer_2_loss: 0.0437 - yolo_loss_layer_3_loss: 1.3639e-04 - val_loss: 3.4373 - val_yolo_loss_layer_1_loss: 2.1606 - val_yolo_loss_layer_2_loss: 0.0362 - val_yolo_loss_layer_3_loss: 1.2188e-04\n",
      "Epoch 157/300\n",
      "306/306 [==============================] - 164s 536ms/step - loss: 1.7877 - yolo_loss_layer_1_loss: 0.5140 - yolo_loss_layer_2_loss: 0.0357 - yolo_loss_layer_3_loss: 1.2817e-04 - val_loss: 3.6061 - val_yolo_loss_layer_1_loss: 2.3350 - val_yolo_loss_layer_2_loss: 0.0357 - val_yolo_loss_layer_3_loss: 1.2249e-04\n",
      "Epoch 158/300\n",
      "306/306 [==============================] - 167s 547ms/step - loss: 1.7562 - yolo_loss_layer_1_loss: 0.4919 - yolo_loss_layer_2_loss: 0.0315 - yolo_loss_layer_3_loss: 1.3117e-04 - val_loss: 3.4359 - val_yolo_loss_layer_1_loss: 2.1704 - val_yolo_loss_layer_2_loss: 0.0353 - val_yolo_loss_layer_3_loss: 1.2594e-04\n",
      "Epoch 159/300\n",
      "306/306 [==============================] - 181s 592ms/step - loss: 1.8389 - yolo_loss_layer_1_loss: 0.5686 - yolo_loss_layer_2_loss: 0.0425 - yolo_loss_layer_3_loss: 1.3615e-04 - val_loss: 3.4974 - val_yolo_loss_layer_1_loss: 2.2335 - val_yolo_loss_layer_2_loss: 0.0386 - val_yolo_loss_layer_3_loss: 1.3157e-04\n",
      "Epoch 160/300\n",
      "306/306 [==============================] - 175s 572ms/step - loss: 1.7638 - yolo_loss_layer_1_loss: 0.4973 - yolo_loss_layer_2_loss: 0.0437 - yolo_loss_layer_3_loss: 1.3680e-04 - val_loss: 3.5351 - val_yolo_loss_layer_1_loss: 2.2797 - val_yolo_loss_layer_2_loss: 0.0349 - val_yolo_loss_layer_3_loss: 1.1617e-04\n",
      "Epoch 161/300\n",
      "306/306 [==============================] - 166s 542ms/step - loss: 1.7819 - yolo_loss_layer_1_loss: 0.5194 - yolo_loss_layer_2_loss: 0.0446 - yolo_loss_layer_3_loss: 1.2846e-04 - val_loss: 3.6130 - val_yolo_loss_layer_1_loss: 2.3616 - val_yolo_loss_layer_2_loss: 0.0359 - val_yolo_loss_layer_3_loss: 1.2465e-04\n",
      "Epoch 162/300\n",
      "306/306 [==============================] - 180s 587ms/step - loss: 1.7684 - yolo_loss_layer_1_loss: 0.5136 - yolo_loss_layer_2_loss: 0.0418 - yolo_loss_layer_3_loss: 1.3490e-04 - val_loss: 3.5951 - val_yolo_loss_layer_1_loss: 2.3475 - val_yolo_loss_layer_2_loss: 0.0370 - val_yolo_loss_layer_3_loss: 1.3350e-04\n",
      "Epoch 163/300\n",
      "306/306 [==============================] - 172s 561ms/step - loss: 1.7366 - yolo_loss_layer_1_loss: 0.4915 - yolo_loss_layer_2_loss: 0.0371 - yolo_loss_layer_3_loss: 1.3075e-04 - val_loss: 3.5546 - val_yolo_loss_layer_1_loss: 2.3150 - val_yolo_loss_layer_2_loss: 0.0342 - val_yolo_loss_layer_3_loss: 1.1857e-04\n",
      "Epoch 164/300\n",
      "306/306 [==============================] - 172s 564ms/step - loss: 1.7624 - yolo_loss_layer_1_loss: 0.5157 - yolo_loss_layer_2_loss: 0.0437 - yolo_loss_layer_3_loss: 1.3212e-04 - val_loss: 3.5410 - val_yolo_loss_layer_1_loss: 2.3075 - val_yolo_loss_layer_2_loss: 0.0330 - val_yolo_loss_layer_3_loss: 1.2173e-04\n",
      "Epoch 165/300\n",
      "306/306 [==============================] - 164s 536ms/step - loss: 1.7122 - yolo_loss_layer_1_loss: 0.4789 - yolo_loss_layer_2_loss: 0.0353 - yolo_loss_layer_3_loss: 1.2187e-04 - val_loss: 3.4427 - val_yolo_loss_layer_1_loss: 2.2109 - val_yolo_loss_layer_2_loss: 0.0365 - val_yolo_loss_layer_3_loss: 1.2852e-04\n",
      "Epoch 166/300\n",
      "306/306 [==============================] - 162s 530ms/step - loss: 1.7302 - yolo_loss_layer_1_loss: 0.4990 - yolo_loss_layer_2_loss: 0.0382 - yolo_loss_layer_3_loss: 1.2502e-04 - val_loss: 3.3897 - val_yolo_loss_layer_1_loss: 2.1652 - val_yolo_loss_layer_2_loss: 0.0340 - val_yolo_loss_layer_3_loss: 1.2367e-04\n",
      "Epoch 167/300\n",
      "306/306 [==============================] - 161s 525ms/step - loss: 1.6762 - yolo_loss_layer_1_loss: 0.4543 - yolo_loss_layer_2_loss: 0.0341 - yolo_loss_layer_3_loss: 1.2325e-04 - val_loss: 3.5152 - val_yolo_loss_layer_1_loss: 2.2970 - val_yolo_loss_layer_2_loss: 0.0332 - val_yolo_loss_layer_3_loss: 1.2503e-04\n",
      "Epoch 168/300\n",
      "306/306 [==============================] - 177s 579ms/step - loss: 1.7083 - yolo_loss_layer_1_loss: 0.4871 - yolo_loss_layer_2_loss: 0.0386 - yolo_loss_layer_3_loss: 1.3179e-04 - val_loss: 3.6614 - val_yolo_loss_layer_1_loss: 2.4279 - val_yolo_loss_layer_2_loss: 0.0535 - val_yolo_loss_layer_3_loss: 1.1929e-04\n",
      "Epoch 169/300\n",
      "306/306 [==============================] - 171s 559ms/step - loss: 1.6842 - yolo_loss_layer_1_loss: 0.4691 - yolo_loss_layer_2_loss: 0.0378 - yolo_loss_layer_3_loss: 1.2854e-04 - val_loss: 3.5898 - val_yolo_loss_layer_1_loss: 2.3811 - val_yolo_loss_layer_2_loss: 0.0339 - val_yolo_loss_layer_3_loss: 1.3392e-04\n",
      "Epoch 170/300\n",
      "306/306 [==============================] - 164s 537ms/step - loss: 1.7487 - yolo_loss_layer_1_loss: 0.5409 - yolo_loss_layer_2_loss: 0.0353 - yolo_loss_layer_3_loss: 1.2628e-04 - val_loss: 3.4593 - val_yolo_loss_layer_1_loss: 2.2544 - val_yolo_loss_layer_2_loss: 0.0350 - val_yolo_loss_layer_3_loss: 1.2233e-04\n",
      "Epoch 171/300\n",
      "306/306 [==============================] - 183s 598ms/step - loss: 1.6781 - yolo_loss_layer_1_loss: 0.4671 - yolo_loss_layer_2_loss: 0.0434 - yolo_loss_layer_3_loss: 1.3586e-04 - val_loss: 3.6529 - val_yolo_loss_layer_1_loss: 2.4538 - val_yolo_loss_layer_2_loss: 0.0341 - val_yolo_loss_layer_3_loss: 1.2974e-04\n",
      "Epoch 172/300\n",
      "306/306 [==============================] - 158s 517ms/step - loss: 1.6637 - yolo_loss_layer_1_loss: 0.4624 - yolo_loss_layer_2_loss: 0.0388 - yolo_loss_layer_3_loss: 1.2238e-04 - val_loss: 3.4817 - val_yolo_loss_layer_1_loss: 2.2881 - val_yolo_loss_layer_2_loss: 0.0337 - val_yolo_loss_layer_3_loss: 1.1919e-04\n",
      "Epoch 173/300\n",
      "306/306 [==============================] - 161s 525ms/step - loss: 1.6809 - yolo_loss_layer_1_loss: 0.4835 - yolo_loss_layer_2_loss: 0.0400 - yolo_loss_layer_3_loss: 1.2487e-04 - val_loss: 3.5234 - val_yolo_loss_layer_1_loss: 2.3253 - val_yolo_loss_layer_2_loss: 0.0433 - val_yolo_loss_layer_3_loss: 1.1524e-04\n",
      "Epoch 174/300\n",
      "306/306 [==============================] - 184s 601ms/step - loss: 1.6395 - yolo_loss_layer_1_loss: 0.4517 - yolo_loss_layer_2_loss: 0.0354 - yolo_loss_layer_3_loss: 1.3659e-04 - val_loss: 3.4203 - val_yolo_loss_layer_1_loss: 2.2362 - val_yolo_loss_layer_2_loss: 0.0340 - val_yolo_loss_layer_3_loss: 1.2900e-04\n",
      "Epoch 175/300\n",
      "306/306 [==============================] - 173s 567ms/step - loss: 1.6632 - yolo_loss_layer_1_loss: 0.4707 - yolo_loss_layer_2_loss: 0.0447 - yolo_loss_layer_3_loss: 1.3064e-04 - val_loss: 3.5592 - val_yolo_loss_layer_1_loss: 2.3785 - val_yolo_loss_layer_2_loss: 0.0351 - val_yolo_loss_layer_3_loss: 1.2794e-04\n",
      "Epoch 176/300\n",
      "306/306 [==============================] - 153s 502ms/step - loss: 1.6138 - yolo_loss_layer_1_loss: 0.4326 - yolo_loss_layer_2_loss: 0.0382 - yolo_loss_layer_3_loss: 1.1840e-04 - val_loss: 3.5996 - val_yolo_loss_layer_1_loss: 2.4247 - val_yolo_loss_layer_2_loss: 0.0344 - val_yolo_loss_layer_3_loss: 1.1729e-04\n",
      "Epoch 177/300\n",
      "306/306 [==============================] - 173s 564ms/step - loss: 1.6227 - yolo_loss_layer_1_loss: 0.4465 - yolo_loss_layer_2_loss: 0.0383 - yolo_loss_layer_3_loss: 1.2956e-04 - val_loss: 3.5735 - val_yolo_loss_layer_1_loss: 2.4001 - val_yolo_loss_layer_2_loss: 0.0377 - val_yolo_loss_layer_3_loss: 1.3340e-04\n",
      "Epoch 178/300\n",
      "306/306 [==============================] - 174s 570ms/step - loss: 1.6104 - yolo_loss_layer_1_loss: 0.4389 - yolo_loss_layer_2_loss: 0.0382 - yolo_loss_layer_3_loss: 1.3181e-04 - val_loss: 3.4410 - val_yolo_loss_layer_1_loss: 2.2730 - val_yolo_loss_layer_2_loss: 0.0370 - val_yolo_loss_layer_3_loss: 1.3185e-04\n",
      "Epoch 179/300\n",
      "306/306 [==============================] - 179s 585ms/step - loss: 1.6364 - yolo_loss_layer_1_loss: 0.4669 - yolo_loss_layer_2_loss: 0.0409 - yolo_loss_layer_3_loss: 1.3186e-04 - val_loss: 3.5169 - val_yolo_loss_layer_1_loss: 2.3529 - val_yolo_loss_layer_2_loss: 0.0377 - val_yolo_loss_layer_3_loss: 1.2924e-04\n",
      "Epoch 180/300\n",
      "306/306 [==============================] - 173s 566ms/step - loss: 1.6202 - yolo_loss_layer_1_loss: 0.4524 - yolo_loss_layer_2_loss: 0.0439 - yolo_loss_layer_3_loss: 1.2736e-04 - val_loss: 3.5264 - val_yolo_loss_layer_1_loss: 2.3705 - val_yolo_loss_layer_2_loss: 0.0345 - val_yolo_loss_layer_3_loss: 1.2831e-04\n",
      "Epoch 181/300\n",
      "306/306 [==============================] - 161s 527ms/step - loss: 1.5991 - yolo_loss_layer_1_loss: 0.4387 - yolo_loss_layer_2_loss: 0.0414 - yolo_loss_layer_3_loss: 1.2838e-04 - val_loss: 3.2900 - val_yolo_loss_layer_1_loss: 2.1289 - val_yolo_loss_layer_2_loss: 0.0447 - val_yolo_loss_layer_3_loss: 1.0957e-04\n",
      "Epoch 182/300\n",
      "306/306 [==============================] - 165s 541ms/step - loss: 1.5804 - yolo_loss_layer_1_loss: 0.4283 - yolo_loss_layer_2_loss: 0.0381 - yolo_loss_layer_3_loss: 1.2435e-04 - val_loss: 3.5989 - val_yolo_loss_layer_1_loss: 2.4437 - val_yolo_loss_layer_2_loss: 0.0437 - val_yolo_loss_layer_3_loss: 1.2545e-04\n",
      "Epoch 183/300\n",
      "306/306 [==============================] - 181s 593ms/step - loss: 1.5886 - yolo_loss_layer_1_loss: 0.4429 - yolo_loss_layer_2_loss: 0.0366 - yolo_loss_layer_3_loss: 1.3543e-04 - val_loss: 3.4420 - val_yolo_loss_layer_1_loss: 2.2982 - val_yolo_loss_layer_2_loss: 0.0369 - val_yolo_loss_layer_3_loss: 1.2032e-04\n",
      "Epoch 184/300\n",
      "306/306 [==============================] - 173s 564ms/step - loss: 1.5749 - yolo_loss_layer_1_loss: 0.4278 - yolo_loss_layer_2_loss: 0.0425 - yolo_loss_layer_3_loss: 1.3214e-04 - val_loss: 3.4541 - val_yolo_loss_layer_1_loss: 2.3140 - val_yolo_loss_layer_2_loss: 0.0378 - val_yolo_loss_layer_3_loss: 1.1753e-04\n",
      "Epoch 185/300\n",
      "306/306 [==============================] - 162s 529ms/step - loss: 1.6164 - yolo_loss_layer_1_loss: 0.4744 - yolo_loss_layer_2_loss: 0.0421 - yolo_loss_layer_3_loss: 1.2381e-04 - val_loss: 3.4049 - val_yolo_loss_layer_1_loss: 2.2718 - val_yolo_loss_layer_2_loss: 0.0356 - val_yolo_loss_layer_3_loss: 1.1738e-04\n",
      "Epoch 186/300\n",
      "306/306 [==============================] - 176s 575ms/step - loss: 1.5823 - yolo_loss_layer_1_loss: 0.4545 - yolo_loss_layer_2_loss: 0.0326 - yolo_loss_layer_3_loss: 1.3106e-04 - val_loss: 3.4730 - val_yolo_loss_layer_1_loss: 2.3454 - val_yolo_loss_layer_2_loss: 0.0349 - val_yolo_loss_layer_3_loss: 1.1090e-04\n",
      "Epoch 187/300\n",
      "306/306 [==============================] - 159s 518ms/step - loss: 1.5987 - yolo_loss_layer_1_loss: 0.4703 - yolo_loss_layer_2_loss: 0.0378 - yolo_loss_layer_3_loss: 1.1687e-04 - val_loss: 3.6022 - val_yolo_loss_layer_1_loss: 2.4748 - val_yolo_loss_layer_2_loss: 0.0393 - val_yolo_loss_layer_3_loss: 1.3736e-04\n",
      "Epoch 188/300\n",
      "306/306 [==============================] - 179s 585ms/step - loss: 1.5706 - yolo_loss_layer_1_loss: 0.4462 - yolo_loss_layer_2_loss: 0.0385 - yolo_loss_layer_3_loss: 1.3287e-04 - val_loss: 3.4005 - val_yolo_loss_layer_1_loss: 2.2825 - val_yolo_loss_layer_2_loss: 0.0343 - val_yolo_loss_layer_3_loss: 1.3065e-04\n",
      "Epoch 189/300\n",
      "306/306 [==============================] - 175s 571ms/step - loss: 1.5382 - yolo_loss_layer_1_loss: 0.4217 - yolo_loss_layer_2_loss: 0.0349 - yolo_loss_layer_3_loss: 1.2907e-04 - val_loss: 3.5453 - val_yolo_loss_layer_1_loss: 2.4321 - val_yolo_loss_layer_2_loss: 0.0341 - val_yolo_loss_layer_3_loss: 1.3338e-04\n",
      "Epoch 190/300\n",
      "306/306 [==============================] - 179s 585ms/step - loss: 1.5194 - yolo_loss_layer_1_loss: 0.4051 - yolo_loss_layer_2_loss: 0.0375 - yolo_loss_layer_3_loss: 1.3570e-04 - val_loss: 3.4121 - val_yolo_loss_layer_1_loss: 2.3014 - val_yolo_loss_layer_2_loss: 0.0362 - val_yolo_loss_layer_3_loss: 1.1768e-04\n",
      "Epoch 191/300\n",
      "306/306 [==============================] - 158s 515ms/step - loss: 1.5323 - yolo_loss_layer_1_loss: 0.4199 - yolo_loss_layer_2_loss: 0.0404 - yolo_loss_layer_3_loss: 1.2288e-04 - val_loss: 3.3704 - val_yolo_loss_layer_1_loss: 2.2655 - val_yolo_loss_layer_2_loss: 0.0355 - val_yolo_loss_layer_3_loss: 1.1247e-04\n",
      "Epoch 192/300\n",
      "306/306 [==============================] - 174s 568ms/step - loss: 1.5203 - yolo_loss_layer_1_loss: 0.4189 - yolo_loss_layer_2_loss: 0.0345 - yolo_loss_layer_3_loss: 1.2230e-04 - val_loss: 3.5557 - val_yolo_loss_layer_1_loss: 2.4563 - val_yolo_loss_layer_2_loss: 0.0347 - val_yolo_loss_layer_3_loss: 1.3791e-04\n",
      "Epoch 193/300\n",
      "306/306 [==============================] - 169s 551ms/step - loss: 1.5136 - yolo_loss_layer_1_loss: 0.4132 - yolo_loss_layer_2_loss: 0.0380 - yolo_loss_layer_3_loss: 1.2584e-04 - val_loss: 3.5170 - val_yolo_loss_layer_1_loss: 2.4236 - val_yolo_loss_layer_2_loss: 0.0335 - val_yolo_loss_layer_3_loss: 1.2886e-04\n",
      "Epoch 194/300\n",
      "306/306 [==============================] - 168s 549ms/step - loss: 1.5361 - yolo_loss_layer_1_loss: 0.4384 - yolo_loss_layer_2_loss: 0.0400 - yolo_loss_layer_3_loss: 1.2446e-04 - val_loss: 3.5044 - val_yolo_loss_layer_1_loss: 2.4140 - val_yolo_loss_layer_2_loss: 0.0350 - val_yolo_loss_layer_3_loss: 1.2963e-04\n",
      "Epoch 195/300\n",
      "306/306 [==============================] - 182s 596ms/step - loss: 1.4692 - yolo_loss_layer_1_loss: 0.3805 - yolo_loss_layer_2_loss: 0.0355 - yolo_loss_layer_3_loss: 1.3559e-04 - val_loss: 3.5437 - val_yolo_loss_layer_1_loss: 2.4595 - val_yolo_loss_layer_2_loss: 0.0334 - val_yolo_loss_layer_3_loss: 1.2683e-04\n",
      "Epoch 196/300\n",
      "306/306 [==============================] - 170s 557ms/step - loss: 1.4961 - yolo_loss_layer_1_loss: 0.4092 - yolo_loss_layer_2_loss: 0.0384 - yolo_loss_layer_3_loss: 1.2785e-04 - val_loss: 3.3609 - val_yolo_loss_layer_1_loss: 2.2811 - val_yolo_loss_layer_2_loss: 0.0335 - val_yolo_loss_layer_3_loss: 1.2239e-04\n",
      "Epoch 197/300\n",
      "306/306 [==============================] - 160s 522ms/step - loss: 1.5019 - yolo_loss_layer_1_loss: 0.4165 - yolo_loss_layer_2_loss: 0.0413 - yolo_loss_layer_3_loss: 1.2328e-04 - val_loss: 3.5556 - val_yolo_loss_layer_1_loss: 2.4776 - val_yolo_loss_layer_2_loss: 0.0362 - val_yolo_loss_layer_3_loss: 1.1118e-04\n",
      "Epoch 198/300\n",
      "306/306 [==============================] - 165s 540ms/step - loss: 1.4879 - yolo_loss_layer_1_loss: 0.4099 - yolo_loss_layer_2_loss: 0.0384 - yolo_loss_layer_3_loss: 1.2256e-04 - val_loss: 3.4120 - val_yolo_loss_layer_1_loss: 2.3400 - val_yolo_loss_layer_2_loss: 0.0347 - val_yolo_loss_layer_3_loss: 1.2086e-04\n",
      "Epoch 199/300\n",
      "306/306 [==============================] - 173s 564ms/step - loss: 1.4447 - yolo_loss_layer_1_loss: 0.3752 - yolo_loss_layer_2_loss: 0.0344 - yolo_loss_layer_3_loss: 1.3087e-04 - val_loss: 3.3163 - val_yolo_loss_layer_1_loss: 2.2494 - val_yolo_loss_layer_2_loss: 0.0342 - val_yolo_loss_layer_3_loss: 1.2382e-04\n",
      "Epoch 200/300\n",
      "306/306 [==============================] - 179s 585ms/step - loss: 1.4592 - yolo_loss_layer_1_loss: 0.3898 - yolo_loss_layer_2_loss: 0.0393 - yolo_loss_layer_3_loss: 1.3206e-04 - val_loss: 3.3231 - val_yolo_loss_layer_1_loss: 2.2588 - val_yolo_loss_layer_2_loss: 0.0365 - val_yolo_loss_layer_3_loss: 1.2856e-04\n",
      "Epoch 201/300\n",
      "306/306 [==============================] - 163s 533ms/step - loss: 1.4667 - yolo_loss_layer_1_loss: 0.4024 - yolo_loss_layer_2_loss: 0.0391 - yolo_loss_layer_3_loss: 1.2059e-04 - val_loss: 3.4745 - val_yolo_loss_layer_1_loss: 2.4170 - val_yolo_loss_layer_2_loss: 0.0345 - val_yolo_loss_layer_3_loss: 1.2674e-04\n",
      "Epoch 202/300\n",
      "306/306 [==============================] - 182s 595ms/step - loss: 1.4567 - yolo_loss_layer_1_loss: 0.3983 - yolo_loss_layer_2_loss: 0.0377 - yolo_loss_layer_3_loss: 1.3586e-04 - val_loss: 3.5028 - val_yolo_loss_layer_1_loss: 2.4455 - val_yolo_loss_layer_2_loss: 0.0389 - val_yolo_loss_layer_3_loss: 1.2814e-04\n",
      "Epoch 203/300\n",
      "306/306 [==============================] - 181s 593ms/step - loss: 1.4315 - yolo_loss_layer_1_loss: 0.3789 - yolo_loss_layer_2_loss: 0.0363 - yolo_loss_layer_3_loss: 1.3428e-04 - val_loss: 3.6336 - val_yolo_loss_layer_1_loss: 2.5825 - val_yolo_loss_layer_2_loss: 0.0371 - val_yolo_loss_layer_3_loss: 1.2414e-04\n",
      "Epoch 204/300\n",
      "306/306 [==============================] - 175s 570ms/step - loss: 1.4516 - yolo_loss_layer_1_loss: 0.4046 - yolo_loss_layer_2_loss: 0.0352 - yolo_loss_layer_3_loss: 1.2953e-04 - val_loss: 3.4098 - val_yolo_loss_layer_1_loss: 2.3651 - val_yolo_loss_layer_2_loss: 0.0352 - val_yolo_loss_layer_3_loss: 1.2257e-04\n",
      "Epoch 205/300\n",
      "306/306 [==============================] - 178s 582ms/step - loss: 1.4362 - yolo_loss_layer_1_loss: 0.3906 - yolo_loss_layer_2_loss: 0.0384 - yolo_loss_layer_3_loss: 1.3251e-04 - val_loss: 3.4147 - val_yolo_loss_layer_1_loss: 2.3727 - val_yolo_loss_layer_2_loss: 0.0371 - val_yolo_loss_layer_3_loss: 1.2093e-04\n",
      "Epoch 206/300\n",
      "306/306 [==============================] - 156s 511ms/step - loss: 1.4794 - yolo_loss_layer_1_loss: 0.4343 - yolo_loss_layer_2_loss: 0.0422 - yolo_loss_layer_3_loss: 1.2133e-04 - val_loss: 3.3899 - val_yolo_loss_layer_1_loss: 2.3551 - val_yolo_loss_layer_2_loss: 0.0341 - val_yolo_loss_layer_3_loss: 1.0992e-04\n",
      "Epoch 207/300\n",
      "306/306 [==============================] - 182s 595ms/step - loss: 1.4102 - yolo_loss_layer_1_loss: 0.3719 - yolo_loss_layer_2_loss: 0.0398 - yolo_loss_layer_3_loss: 1.3022e-04 - val_loss: 3.3849 - val_yolo_loss_layer_1_loss: 2.3462 - val_yolo_loss_layer_2_loss: 0.0424 - val_yolo_loss_layer_3_loss: 1.1950e-04\n",
      "Epoch 208/300\n",
      "306/306 [==============================] - 164s 537ms/step - loss: 1.4357 - yolo_loss_layer_1_loss: 0.4068 - yolo_loss_layer_2_loss: 0.0347 - yolo_loss_layer_3_loss: 1.2313e-04 - val_loss: 3.3420 - val_yolo_loss_layer_1_loss: 2.3160 - val_yolo_loss_layer_2_loss: 0.0341 - val_yolo_loss_layer_3_loss: 1.3011e-04\n",
      "Epoch 209/300\n",
      "306/306 [==============================] - 188s 613ms/step - loss: 1.4299 - yolo_loss_layer_1_loss: 0.4021 - yolo_loss_layer_2_loss: 0.0381 - yolo_loss_layer_3_loss: 1.3771e-04 - val_loss: 3.4000 - val_yolo_loss_layer_1_loss: 2.3791 - val_yolo_loss_layer_2_loss: 0.0332 - val_yolo_loss_layer_3_loss: 1.2542e-04\n",
      "Epoch 210/300\n",
      "306/306 [==============================] - 170s 555ms/step - loss: 1.3769 - yolo_loss_layer_1_loss: 0.3567 - yolo_loss_layer_2_loss: 0.0348 - yolo_loss_layer_3_loss: 1.2271e-04 - val_loss: 3.2998 - val_yolo_loss_layer_1_loss: 2.2833 - val_yolo_loss_layer_2_loss: 0.0335 - val_yolo_loss_layer_3_loss: 1.3383e-04\n",
      "Epoch 211/300\n",
      "306/306 [==============================] - 180s 587ms/step - loss: 1.4081 - yolo_loss_layer_1_loss: 0.3932 - yolo_loss_layer_2_loss: 0.0339 - yolo_loss_layer_3_loss: 1.3619e-04 - val_loss: 3.3443 - val_yolo_loss_layer_1_loss: 2.3321 - val_yolo_loss_layer_2_loss: 0.0334 - val_yolo_loss_layer_3_loss: 1.0938e-04\n",
      "Epoch 212/300\n",
      "306/306 [==============================] - 162s 530ms/step - loss: 1.3996 - yolo_loss_layer_1_loss: 0.3823 - yolo_loss_layer_2_loss: 0.0406 - yolo_loss_layer_3_loss: 1.2058e-04 - val_loss: 3.5141 - val_yolo_loss_layer_1_loss: 2.5048 - val_yolo_loss_layer_2_loss: 0.0349 - val_yolo_loss_layer_3_loss: 1.1910e-04\n",
      "Epoch 213/300\n",
      "306/306 [==============================] - 175s 572ms/step - loss: 1.4024 - yolo_loss_layer_1_loss: 0.3935 - yolo_loss_layer_2_loss: 0.0367 - yolo_loss_layer_3_loss: 1.2797e-04 - val_loss: 3.2743 - val_yolo_loss_layer_1_loss: 2.2698 - val_yolo_loss_layer_2_loss: 0.0342 - val_yolo_loss_layer_3_loss: 1.2883e-04\n",
      "Epoch 214/300\n",
      "306/306 [==============================] - 157s 514ms/step - loss: 1.3864 - yolo_loss_layer_1_loss: 0.3793 - yolo_loss_layer_2_loss: 0.0389 - yolo_loss_layer_3_loss: 1.1893e-04 - val_loss: 3.4172 - val_yolo_loss_layer_1_loss: 2.4147 - val_yolo_loss_layer_2_loss: 0.0364 - val_yolo_loss_layer_3_loss: 1.1438e-04\n",
      "Epoch 215/300\n",
      "306/306 [==============================] - 168s 550ms/step - loss: 1.3858 - yolo_loss_layer_1_loss: 0.3832 - yolo_loss_layer_2_loss: 0.0387 - yolo_loss_layer_3_loss: 1.2722e-04 - val_loss: 3.3531 - val_yolo_loss_layer_1_loss: 2.3525 - val_yolo_loss_layer_2_loss: 0.0388 - val_yolo_loss_layer_3_loss: 1.1159e-04\n",
      "Epoch 216/300\n",
      "306/306 [==============================] - 171s 560ms/step - loss: 1.3749 - yolo_loss_layer_1_loss: 0.3739 - yolo_loss_layer_2_loss: 0.0414 - yolo_loss_layer_3_loss: 1.2489e-04 - val_loss: 3.4814 - val_yolo_loss_layer_1_loss: 2.4887 - val_yolo_loss_layer_2_loss: 0.0355 - val_yolo_loss_layer_3_loss: 1.2854e-04\n",
      "Epoch 217/300\n",
      "306/306 [==============================] - 174s 568ms/step - loss: 1.3965 - yolo_loss_layer_1_loss: 0.3951 - yolo_loss_layer_2_loss: 0.0462 - yolo_loss_layer_3_loss: 1.2857e-04 - val_loss: 3.3999 - val_yolo_loss_layer_1_loss: 2.4062 - val_yolo_loss_layer_2_loss: 0.0405 - val_yolo_loss_layer_3_loss: 1.2210e-04\n",
      "\n",
      "Epoch 00217: ReduceLROnPlateau reducing learning rate to 9.999999747378752e-06.\n",
      "Epoch 00217: early stopping\n",
      "Wall time: 10h 24min 10s\n"
     ]
    }
   ],
   "source": [
    "%%time\n",
    "history = train_model.fit_generator(\n",
    "    generator=train_generator,\n",
    "    validation_data=valid_generator,\n",
    "    verbose=1,\n",
    "    steps_per_epoch=len(train_generator),\n",
    "    epochs=300,\n",
    "    callbacks=callback\n",
    ")"
   ]
  },
  {
   "cell_type": "code",
   "execution_count": 17,
   "metadata": {},
   "outputs": [],
   "source": [
    "from keras.models import model_from_json\n",
    "json_string = train_model.to_json()\n",
    "with open('yolo.json', 'w') as json_file:\n",
    "    json_file.write(json_string)"
   ]
  },
  {
   "cell_type": "code",
   "execution_count": 18,
   "metadata": {},
   "outputs": [],
   "source": [
    "train_model.save_weights('yolo_weights.h5')"
   ]
  },
  {
   "cell_type": "code",
   "execution_count": 19,
   "metadata": {},
   "outputs": [],
   "source": [
    "train_model.save('yolo.h5')"
   ]
  },
  {
   "cell_type": "code",
   "execution_count": 12,
   "metadata": {},
   "outputs": [],
   "source": [
    "from keras import backend as K\n",
    "K.set_learning_phase(0)"
   ]
  },
  {
   "cell_type": "code",
   "execution_count": 11,
   "metadata": {},
   "outputs": [],
   "source": [
    "infer_mode.load_weights('yolo_weights.h5')\n",
    "# from keras.models import load_model\n",
    "# model = load_model('my_model.h5', custom_objects={'AttentionLayer': AttentionLayer})\n",
    "# infer_mode.load_model('yolo.h5')"
   ]
  },
  {
   "cell_type": "code",
   "execution_count": 14,
   "metadata": {},
   "outputs": [],
   "source": [
    "sess = K.get_session()"
   ]
  },
  {
   "cell_type": "code",
   "execution_count": 34,
   "metadata": {},
   "outputs": [
    {
     "name": "stdout",
     "output_type": "stream",
     "text": [
      "[<tf.Tensor 'conv2d_59/BiasAdd:0' shape=(?, ?, ?, 21) dtype=float32>, <tf.Tensor 'conv2d_67/BiasAdd:0' shape=(?, ?, ?, 21) dtype=float32>, <tf.Tensor 'conv2d_75/BiasAdd:0' shape=(?, ?, ?, 21) dtype=float32>]\n"
     ]
    }
   ],
   "source": [
    "print(infer_mode.output)"
   ]
  },
  {
   "cell_type": "code",
   "execution_count": 16,
   "metadata": {},
   "outputs": [
    {
     "data": {
      "text/plain": [
       "'yolo_test.chkp'"
      ]
     },
     "execution_count": 16,
     "metadata": {},
     "output_type": "execute_result"
    }
   ],
   "source": [
    "tf.train.write_graph(sess.graph_def, '', 'yolo_test.pb', as_text=False)\n",
    "tf.train.write_graph(sess.graph_def, '', 'yolo_graph.pbtxt')\n",
    "tf.train.Saver().save(sess, 'yolo_test.chkp')"
   ]
  },
  {
   "cell_type": "code",
   "execution_count": 17,
   "metadata": {},
   "outputs": [
    {
     "name": "stdout",
     "output_type": "stream",
     "text": [
      "WARNING:tensorflow:From D:\\Anaconda3\\envs\\rtav\\lib\\site-packages\\tensorflow\\python\\tools\\freeze_graph.py:127: checkpoint_exists (from tensorflow.python.training.checkpoint_management) is deprecated and will be removed in a future version.\n",
      "Instructions for updating:\n",
      "Use standard file APIs to check for files with this prefix.\n",
      "INFO:tensorflow:Restoring parameters from yolo_test.chkp\n",
      "WARNING:tensorflow:From D:\\Anaconda3\\envs\\rtav\\lib\\site-packages\\tensorflow\\python\\tools\\freeze_graph.py:233: convert_variables_to_constants (from tensorflow.python.framework.graph_util_impl) is deprecated and will be removed in a future version.\n",
      "Instructions for updating:\n",
      "Use `tf.compat.v1.graph_util.convert_variables_to_constants`\n",
      "WARNING:tensorflow:From D:\\Anaconda3\\envs\\rtav\\lib\\site-packages\\tensorflow\\python\\framework\\graph_util_impl.py:270: extract_sub_graph (from tensorflow.python.framework.graph_util_impl) is deprecated and will be removed in a future version.\n",
      "Instructions for updating:\n",
      "Use `tf.compat.v1.graph_util.extract_sub_graph`\n",
      "INFO:tensorflow:Froze 363 variables.\n",
      "INFO:tensorflow:Converted 363 variables to const ops.\n"
     ]
    }
   ],
   "source": [
    "from tensorflow.python.tools import freeze_graph\n",
    "output_node_name = 'conv2d_59/BiasAdd,conv2d_67/BiasAdd,conv2d_75/BiasAdd'\n",
    "fg = freeze_graph.freeze_graph('yolo_graph.pbtxt',\n",
    "                         None, False,\n",
    "                         'yolo_test.chkp',\n",
    "                         output_node_name,\n",
    "                         'save/restore_all',\n",
    "                         'save/Const:0',\n",
    "                         'yolo_test.pb',\n",
    "                         True, '')"
   ]
  },
  {
   "cell_type": "code",
   "execution_count": null,
   "metadata": {},
   "outputs": [],
   "source": [
    "# from tensorflow.python.tools import optimize_for_inference_lib\n",
    "# graph_def = tf.GraphDef()\n",
    "# with tf.gfile.Open('yolo_test.pb', \"rb\") as f:\n",
    "#     graph_def.ParseFromString(f.read())\n",
    "\n",
    "# output_graph_def = optimize_for_inference_lib.optimize_for_inference(\n",
    "#     graph_def, ['input_1'], [output_node_name], tf.float32.as_datatype_enum)\n",
    "\n",
    "# with tf.gfile.GFile('yolo_test.pb', \"wb\") as f:\n",
    "#     f.write(output_graph_def.SerializeToString())\n",
    "\n",
    "# # Strip Const nodes.\n",
    "# for i in reversed(range(len(graph_def.node))):\n",
    "#     if graph_def.node[i].op == 'Const':\n",
    "#         del graph_def.node[i]"
   ]
  },
  {
   "cell_type": "code",
   "execution_count": 21,
   "metadata": {},
   "outputs": [
    {
     "data": {
      "text/plain": [
       "'yolo_test1.pb'"
      ]
     },
     "execution_count": 21,
     "metadata": {},
     "output_type": "execute_result"
    }
   ],
   "source": [
    "tf.train.write_graph(fg, '', 'yolo_test1.pb', as_text=False)"
   ]
  },
  {
   "cell_type": "code",
   "execution_count": 22,
   "metadata": {},
   "outputs": [
    {
     "ename": "error",
     "evalue": "OpenCV(4.1.1) C:\\projects\\opencv-python\\opencv\\modules\\dnn\\src\\tensorflow\\tf_graph_simplifier.cpp:890: error: (-2:Unspecified error) Tensor's data type is not supported in function 'cv::dnn::dnn4_v20190621::getTensorContent'\n",
     "output_type": "error",
     "traceback": [
      "\u001b[1;31m---------------------------------------------------------------------------\u001b[0m",
      "\u001b[1;31merror\u001b[0m                                     Traceback (most recent call last)",
      "\u001b[1;32m<ipython-input-22-331271d6d41b>\u001b[0m in \u001b[0;36m<module>\u001b[1;34m\u001b[0m\n\u001b[1;32m----> 1\u001b[1;33m \u001b[0mnet\u001b[0m \u001b[1;33m=\u001b[0m \u001b[0mcv2\u001b[0m\u001b[1;33m.\u001b[0m\u001b[0mdnn\u001b[0m\u001b[1;33m.\u001b[0m\u001b[0mreadNetFromTensorflow\u001b[0m\u001b[1;33m(\u001b[0m\u001b[1;34m'yolo_test1.pb'\u001b[0m\u001b[1;33m)\u001b[0m\u001b[1;33m\u001b[0m\u001b[1;33m\u001b[0m\u001b[0m\n\u001b[0m",
      "\u001b[1;31merror\u001b[0m: OpenCV(4.1.1) C:\\projects\\opencv-python\\opencv\\modules\\dnn\\src\\tensorflow\\tf_graph_simplifier.cpp:890: error: (-2:Unspecified error) Tensor's data type is not supported in function 'cv::dnn::dnn4_v20190621::getTensorContent'\n"
     ]
    }
   ],
   "source": [
    "net = cv2.dnn.readNetFromTensorflow('yolo_test1.pb')"
   ]
  },
  {
   "cell_type": "code",
   "execution_count": 30,
   "metadata": {},
   "outputs": [],
   "source": [
    "from IPython.display import clear_output, Image, display, HTML\n",
    "import numpy as np\n",
    "import tensorflow as tf\n",
    "def strip_consts(graph_def, max_const_size=32):\n",
    "    \"\"\"Strip large constant values from graph_def.\"\"\"\n",
    "    strip_def = tf.GraphDef()\n",
    "    for n0 in graph_def.node:\n",
    "        n = strip_def.node.add() \n",
    "        n.MergeFrom(n0)\n",
    "        if n.op == 'Const':\n",
    "            tensor = n.attr['value'].tensor\n",
    "            size = len(tensor.tensor_content)\n",
    "            if size > max_const_size:\n",
    "                tensor.tensor_content = bytes(\"<stripped %d bytes>\"%size, encoding='utf-8')\n",
    "    return strip_def\n",
    "\n",
    "def show_graph(graph_def, max_const_size=32):\n",
    "    \"\"\"Visualize TensorFlow graph.\"\"\"\n",
    "    if hasattr(graph_def, 'as_graph_def'):\n",
    "        graph_def = graph_def.as_graph_def()\n",
    "    strip_def = strip_consts(graph_def, max_const_size=max_const_size)\n",
    "    code = \"\"\"\n",
    "        <script>\n",
    "          function load() {{\n",
    "            document.getElementById(\"{id}\").pbtxt = {data};\n",
    "          }}\n",
    "        </script>\n",
    "        <link rel=\"import\" href=\"https://tensorboard.appspot.com/tf-graph-basic.build.html\" onload=load()>\n",
    "        <div style=\"height:600px\">\n",
    "          <tf-graph-basic id=\"{id}\"></tf-graph-basic>\n",
    "        </div>\n",
    "    \"\"\".format(data=repr(str(strip_def)), id='graph'+str(np.random.rand()))\n",
    "\n",
    "    iframe = \"\"\"\n",
    "        <iframe seamless style=\"width:1200px;height:620px;border:0\" srcdoc=\"{}\"></iframe>\n",
    "    \"\"\".format(code.replace('\"', '&quot;'))\n",
    "    display(HTML(iframe))"
   ]
  },
  {
   "cell_type": "code",
   "execution_count": 31,
   "metadata": {},
   "outputs": [
    {
     "ename": "AttributeError",
     "evalue": "'str' object has no attribute 'node'",
     "output_type": "error",
     "traceback": [
      "\u001b[1;31m---------------------------------------------------------------------------\u001b[0m",
      "\u001b[1;31mAttributeError\u001b[0m                            Traceback (most recent call last)",
      "\u001b[1;32m<ipython-input-31-ada35fb2069d>\u001b[0m in \u001b[0;36m<module>\u001b[1;34m\u001b[0m\n\u001b[1;32m----> 1\u001b[1;33m \u001b[0mshow_graph\u001b[0m\u001b[1;33m(\u001b[0m\u001b[1;34m'frozen_inference_graph_opt.pb'\u001b[0m\u001b[1;33m)\u001b[0m\u001b[1;33m\u001b[0m\u001b[1;33m\u001b[0m\u001b[0m\n\u001b[0m",
      "\u001b[1;32m<ipython-input-30-8546986f2cae>\u001b[0m in \u001b[0;36mshow_graph\u001b[1;34m(graph_def, max_const_size)\u001b[0m\n\u001b[0;32m     19\u001b[0m     \u001b[1;32mif\u001b[0m \u001b[0mhasattr\u001b[0m\u001b[1;33m(\u001b[0m\u001b[0mgraph_def\u001b[0m\u001b[1;33m,\u001b[0m \u001b[1;34m'as_graph_def'\u001b[0m\u001b[1;33m)\u001b[0m\u001b[1;33m:\u001b[0m\u001b[1;33m\u001b[0m\u001b[1;33m\u001b[0m\u001b[0m\n\u001b[0;32m     20\u001b[0m         \u001b[0mgraph_def\u001b[0m \u001b[1;33m=\u001b[0m \u001b[0mgraph_def\u001b[0m\u001b[1;33m.\u001b[0m\u001b[0mas_graph_def\u001b[0m\u001b[1;33m(\u001b[0m\u001b[1;33m)\u001b[0m\u001b[1;33m\u001b[0m\u001b[1;33m\u001b[0m\u001b[0m\n\u001b[1;32m---> 21\u001b[1;33m     \u001b[0mstrip_def\u001b[0m \u001b[1;33m=\u001b[0m \u001b[0mstrip_consts\u001b[0m\u001b[1;33m(\u001b[0m\u001b[0mgraph_def\u001b[0m\u001b[1;33m,\u001b[0m \u001b[0mmax_const_size\u001b[0m\u001b[1;33m=\u001b[0m\u001b[0mmax_const_size\u001b[0m\u001b[1;33m)\u001b[0m\u001b[1;33m\u001b[0m\u001b[1;33m\u001b[0m\u001b[0m\n\u001b[0m\u001b[0;32m     22\u001b[0m     code = \"\"\"\n\u001b[0;32m     23\u001b[0m         \u001b[1;33m<\u001b[0m\u001b[0mscript\u001b[0m\u001b[1;33m>\u001b[0m\u001b[1;33m\u001b[0m\u001b[1;33m\u001b[0m\u001b[0m\n",
      "\u001b[1;32m<ipython-input-30-8546986f2cae>\u001b[0m in \u001b[0;36mstrip_consts\u001b[1;34m(graph_def, max_const_size)\u001b[0m\n\u001b[0;32m      5\u001b[0m     \u001b[1;34m\"\"\"Strip large constant values from graph_def.\"\"\"\u001b[0m\u001b[1;33m\u001b[0m\u001b[1;33m\u001b[0m\u001b[0m\n\u001b[0;32m      6\u001b[0m     \u001b[0mstrip_def\u001b[0m \u001b[1;33m=\u001b[0m \u001b[0mtf\u001b[0m\u001b[1;33m.\u001b[0m\u001b[0mGraphDef\u001b[0m\u001b[1;33m(\u001b[0m\u001b[1;33m)\u001b[0m\u001b[1;33m\u001b[0m\u001b[1;33m\u001b[0m\u001b[0m\n\u001b[1;32m----> 7\u001b[1;33m     \u001b[1;32mfor\u001b[0m \u001b[0mn0\u001b[0m \u001b[1;32min\u001b[0m \u001b[0mgraph_def\u001b[0m\u001b[1;33m.\u001b[0m\u001b[0mnode\u001b[0m\u001b[1;33m:\u001b[0m\u001b[1;33m\u001b[0m\u001b[1;33m\u001b[0m\u001b[0m\n\u001b[0m\u001b[0;32m      8\u001b[0m         \u001b[0mn\u001b[0m \u001b[1;33m=\u001b[0m \u001b[0mstrip_def\u001b[0m\u001b[1;33m.\u001b[0m\u001b[0mnode\u001b[0m\u001b[1;33m.\u001b[0m\u001b[0madd\u001b[0m\u001b[1;33m(\u001b[0m\u001b[1;33m)\u001b[0m\u001b[1;33m\u001b[0m\u001b[1;33m\u001b[0m\u001b[0m\n\u001b[0;32m      9\u001b[0m         \u001b[0mn\u001b[0m\u001b[1;33m.\u001b[0m\u001b[0mMergeFrom\u001b[0m\u001b[1;33m(\u001b[0m\u001b[0mn0\u001b[0m\u001b[1;33m)\u001b[0m\u001b[1;33m\u001b[0m\u001b[1;33m\u001b[0m\u001b[0m\n",
      "\u001b[1;31mAttributeError\u001b[0m: 'str' object has no attribute 'node'"
     ]
    }
   ],
   "source": [
    "show_graph('frozen_inference_graph_opt.pb')"
   ]
  },
  {
   "cell_type": "code",
   "execution_count": 14,
   "metadata": {},
   "outputs": [
    {
     "name": "stdout",
     "output_type": "stream",
     "text": [
      "WARNING:tensorflow:From <ipython-input-14-b5a7226b339b>:31: convert_variables_to_constants (from tensorflow.python.framework.graph_util_impl) is deprecated and will be removed in a future version.\n",
      "Instructions for updating:\n",
      "Use `tf.compat.v1.graph_util.convert_variables_to_constants`\n",
      "WARNING:tensorflow:From D:\\Anaconda3\\envs\\rtav\\lib\\site-packages\\tensorflow\\python\\framework\\graph_util_impl.py:270: extract_sub_graph (from tensorflow.python.framework.graph_util_impl) is deprecated and will be removed in a future version.\n",
      "Instructions for updating:\n",
      "Use `tf.compat.v1.graph_util.extract_sub_graph`\n",
      "INFO:tensorflow:Froze 650 variables.\n",
      "INFO:tensorflow:Converted 650 variables to const ops.\n"
     ]
    }
   ],
   "source": [
    "# from keras import backend as K\n",
    "# import tensorflow as tf\n",
    "\n",
    "# def freeze_session(session, keep_var_names=None, output_names=None, clear_devices=True):\n",
    "#     \"\"\"\n",
    "#     Freezes the state of a session into a pruned computation graph.\n",
    "\n",
    "#     Creates a new computation graph where variable nodes are replaced by\n",
    "#     constants taking their current value in the session. The new graph will be\n",
    "#     pruned so subgraphs that are not necessary to compute the requested\n",
    "#     outputs are removed.\n",
    "#     @param session The TensorFlow session to be frozen.\n",
    "#     @param keep_var_names A list of variable names that should not be frozen,\n",
    "#                           or None to freeze all the variables in the graph.\n",
    "#     @param output_names Names of the relevant graph outputs.\n",
    "#     @param clear_devices Remove the device directives from the graph for better portability.\n",
    "#     @return The frozen graph definition.\n",
    "#     \"\"\"\n",
    "#     from tensorflow.python.framework.graph_util import convert_variables_to_constants\n",
    "#     graph = session.graph\n",
    "#     with graph.as_default():\n",
    "#         freeze_var_names = list(set(v.op.name for v in tf.global_variables()).difference(keep_var_names or []))\n",
    "#         output_names = output_names or []\n",
    "#         output_names += [v.op.name for v in tf.global_variables()]\n",
    "#         # Graph -> GraphDef ProtoBuf\n",
    "#         input_graph_def = graph.as_graph_def()\n",
    "#         if clear_devices:\n",
    "#             for node in input_graph_def.node:\n",
    "#                 node.device = \"\"\n",
    "#         frozen_graph = convert_variables_to_constants(session, input_graph_def,\n",
    "#                                                       output_names, freeze_var_names)\n",
    "#         return frozen_graph\n",
    "\n",
    "\n",
    "# frozen_graph = freeze_session(K.get_session(),\n",
    "#                               output_names=[out.op.name for out in infer_mode.outputs])"
   ]
  },
  {
   "cell_type": "code",
   "execution_count": 15,
   "metadata": {},
   "outputs": [
    {
     "data": {
      "text/plain": [
       "'yolo_test1.pb'"
      ]
     },
     "execution_count": 15,
     "metadata": {},
     "output_type": "execute_result"
    }
   ],
   "source": [
    "# tf.train.write_graph(frozen_graph, '', 'yolo_test1.pb', as_text=False)"
   ]
  },
  {
   "cell_type": "code",
   "execution_count": 16,
   "metadata": {},
   "outputs": [],
   "source": [
    "# cv2.dnn_registerLayer('YoloLossLayer', YoloLossLayer)"
   ]
  },
  {
   "cell_type": "code",
   "execution_count": null,
   "metadata": {},
   "outputs": [],
   "source": []
  },
  {
   "cell_type": "code",
   "execution_count": 29,
   "metadata": {},
   "outputs": [
    {
     "ename": "error",
     "evalue": "OpenCV(4.1.1) C:\\projects\\opencv-python\\opencv\\modules\\dnn\\src\\tensorflow\\tf_graph_simplifier.cpp:890: error: (-2:Unspecified error) Tensor's data type is not supported in function 'cv::dnn::dnn4_v20190621::getTensorContent'\n",
     "output_type": "error",
     "traceback": [
      "\u001b[1;31m---------------------------------------------------------------------------\u001b[0m",
      "\u001b[1;31merror\u001b[0m                                     Traceback (most recent call last)",
      "\u001b[1;32m<ipython-input-29-7683268c9e7d>\u001b[0m in \u001b[0;36m<module>\u001b[1;34m\u001b[0m\n\u001b[1;32m----> 1\u001b[1;33m \u001b[0mmodel\u001b[0m \u001b[1;33m=\u001b[0m \u001b[0mcv2\u001b[0m\u001b[1;33m.\u001b[0m\u001b[0mdnn\u001b[0m\u001b[1;33m.\u001b[0m\u001b[0mreadNetFromTensorflow\u001b[0m\u001b[1;33m(\u001b[0m\u001b[1;34m'frozen_inference_graph_opt.pb'\u001b[0m\u001b[1;33m)\u001b[0m\u001b[1;33m\u001b[0m\u001b[1;33m\u001b[0m\u001b[0m\n\u001b[0m",
      "\u001b[1;31merror\u001b[0m: OpenCV(4.1.1) C:\\projects\\opencv-python\\opencv\\modules\\dnn\\src\\tensorflow\\tf_graph_simplifier.cpp:890: error: (-2:Unspecified error) Tensor's data type is not supported in function 'cv::dnn::dnn4_v20190621::getTensorContent'\n"
     ]
    }
   ],
   "source": [
    "model = cv2.dnn.readNetFromTensorflow('frozen_inference_graph_opt.pb')"
   ]
  },
  {
   "cell_type": "code",
   "execution_count": 28,
   "metadata": {},
   "outputs": [
    {
     "name": "stdout",
     "output_type": "stream",
     "text": [
      "WARNING:tensorflow:Passing a `GraphDef` to the SummaryWriter is deprecated. Pass a `Graph` object instead, such as `sess.graph`.\n",
      "WARNING:tensorflow:Incorrect shape for mean, found (0,), expected (32,), for node batch_normalization_1/FusedBatchNorm\n",
      "WARNING:tensorflow:Didn't find expected Conv2D input to 'batch_normalization_1/cond/FusedBatchNorm'\n",
      "WARNING:tensorflow:Incorrect shape for mean, found (0,), expected (64,), for node batch_normalization_2/FusedBatchNorm\n",
      "WARNING:tensorflow:Didn't find expected Conv2D input to 'batch_normalization_2/cond/FusedBatchNorm'\n",
      "WARNING:tensorflow:Incorrect shape for mean, found (0,), expected (32,), for node batch_normalization_3/FusedBatchNorm\n",
      "WARNING:tensorflow:Didn't find expected Conv2D input to 'batch_normalization_3/cond/FusedBatchNorm'\n",
      "WARNING:tensorflow:Incorrect shape for mean, found (0,), expected (64,), for node batch_normalization_4/FusedBatchNorm\n",
      "WARNING:tensorflow:Didn't find expected Conv2D input to 'batch_normalization_4/cond/FusedBatchNorm'\n",
      "WARNING:tensorflow:Incorrect shape for mean, found (0,), expected (128,), for node batch_normalization_5/FusedBatchNorm\n",
      "WARNING:tensorflow:Didn't find expected Conv2D input to 'batch_normalization_5/cond/FusedBatchNorm'\n",
      "WARNING:tensorflow:Incorrect shape for mean, found (0,), expected (64,), for node batch_normalization_6/FusedBatchNorm\n",
      "WARNING:tensorflow:Didn't find expected Conv2D input to 'batch_normalization_6/cond/FusedBatchNorm'\n",
      "WARNING:tensorflow:Incorrect shape for mean, found (0,), expected (128,), for node batch_normalization_7/FusedBatchNorm\n",
      "WARNING:tensorflow:Didn't find expected Conv2D input to 'batch_normalization_7/cond/FusedBatchNorm'\n",
      "WARNING:tensorflow:Incorrect shape for mean, found (0,), expected (64,), for node batch_normalization_8/FusedBatchNorm\n",
      "WARNING:tensorflow:Didn't find expected Conv2D input to 'batch_normalization_8/cond/FusedBatchNorm'\n",
      "WARNING:tensorflow:Incorrect shape for mean, found (0,), expected (128,), for node batch_normalization_9/FusedBatchNorm\n",
      "WARNING:tensorflow:Didn't find expected Conv2D input to 'batch_normalization_9/cond/FusedBatchNorm'\n",
      "WARNING:tensorflow:Incorrect shape for mean, found (0,), expected (256,), for node batch_normalization_10/FusedBatchNorm\n",
      "WARNING:tensorflow:Didn't find expected Conv2D input to 'batch_normalization_10/cond/FusedBatchNorm'\n",
      "WARNING:tensorflow:Incorrect shape for mean, found (0,), expected (128,), for node batch_normalization_11/FusedBatchNorm\n",
      "WARNING:tensorflow:Didn't find expected Conv2D input to 'batch_normalization_11/cond/FusedBatchNorm'\n",
      "WARNING:tensorflow:Incorrect shape for mean, found (0,), expected (256,), for node batch_normalization_12/FusedBatchNorm\n",
      "WARNING:tensorflow:Didn't find expected Conv2D input to 'batch_normalization_12/cond/FusedBatchNorm'\n",
      "WARNING:tensorflow:Incorrect shape for mean, found (0,), expected (128,), for node batch_normalization_13/FusedBatchNorm\n",
      "WARNING:tensorflow:Didn't find expected Conv2D input to 'batch_normalization_13/cond/FusedBatchNorm'\n",
      "WARNING:tensorflow:Incorrect shape for mean, found (0,), expected (256,), for node batch_normalization_14/FusedBatchNorm\n",
      "WARNING:tensorflow:Didn't find expected Conv2D input to 'batch_normalization_14/cond/FusedBatchNorm'\n",
      "WARNING:tensorflow:Incorrect shape for mean, found (0,), expected (128,), for node batch_normalization_15/FusedBatchNorm\n",
      "WARNING:tensorflow:Didn't find expected Conv2D input to 'batch_normalization_15/cond/FusedBatchNorm'\n",
      "WARNING:tensorflow:Incorrect shape for mean, found (0,), expected (256,), for node batch_normalization_16/FusedBatchNorm\n",
      "WARNING:tensorflow:Didn't find expected Conv2D input to 'batch_normalization_16/cond/FusedBatchNorm'\n",
      "WARNING:tensorflow:Incorrect shape for mean, found (0,), expected (128,), for node batch_normalization_17/FusedBatchNorm\n",
      "WARNING:tensorflow:Didn't find expected Conv2D input to 'batch_normalization_17/cond/FusedBatchNorm'\n",
      "WARNING:tensorflow:Incorrect shape for mean, found (0,), expected (256,), for node batch_normalization_18/FusedBatchNorm\n",
      "WARNING:tensorflow:Didn't find expected Conv2D input to 'batch_normalization_18/cond/FusedBatchNorm'\n",
      "WARNING:tensorflow:Incorrect shape for mean, found (0,), expected (128,), for node batch_normalization_19/FusedBatchNorm\n",
      "WARNING:tensorflow:Didn't find expected Conv2D input to 'batch_normalization_19/cond/FusedBatchNorm'\n",
      "WARNING:tensorflow:Incorrect shape for mean, found (0,), expected (256,), for node batch_normalization_20/FusedBatchNorm\n",
      "WARNING:tensorflow:Didn't find expected Conv2D input to 'batch_normalization_20/cond/FusedBatchNorm'\n",
      "WARNING:tensorflow:Incorrect shape for mean, found (0,), expected (128,), for node batch_normalization_21/FusedBatchNorm\n",
      "WARNING:tensorflow:Didn't find expected Conv2D input to 'batch_normalization_21/cond/FusedBatchNorm'\n",
      "WARNING:tensorflow:Incorrect shape for mean, found (0,), expected (256,), for node batch_normalization_22/FusedBatchNorm\n",
      "WARNING:tensorflow:Didn't find expected Conv2D input to 'batch_normalization_22/cond/FusedBatchNorm'\n",
      "WARNING:tensorflow:Incorrect shape for mean, found (0,), expected (128,), for node batch_normalization_23/FusedBatchNorm\n",
      "WARNING:tensorflow:Didn't find expected Conv2D input to 'batch_normalization_23/cond/FusedBatchNorm'\n",
      "WARNING:tensorflow:Incorrect shape for mean, found (0,), expected (256,), for node batch_normalization_24/FusedBatchNorm\n",
      "WARNING:tensorflow:Didn't find expected Conv2D input to 'batch_normalization_24/cond/FusedBatchNorm'\n",
      "WARNING:tensorflow:Incorrect shape for mean, found (0,), expected (128,), for node batch_normalization_25/FusedBatchNorm\n",
      "WARNING:tensorflow:Didn't find expected Conv2D input to 'batch_normalization_25/cond/FusedBatchNorm'\n",
      "WARNING:tensorflow:Incorrect shape for mean, found (0,), expected (256,), for node batch_normalization_26/FusedBatchNorm\n",
      "WARNING:tensorflow:Didn't find expected Conv2D input to 'batch_normalization_26/cond/FusedBatchNorm'\n",
      "WARNING:tensorflow:Incorrect shape for mean, found (0,), expected (512,), for node batch_normalization_27/FusedBatchNorm\n",
      "WARNING:tensorflow:Didn't find expected Conv2D input to 'batch_normalization_27/cond/FusedBatchNorm'\n",
      "WARNING:tensorflow:Incorrect shape for mean, found (0,), expected (256,), for node batch_normalization_28/FusedBatchNorm\n",
      "WARNING:tensorflow:Didn't find expected Conv2D input to 'batch_normalization_28/cond/FusedBatchNorm'\n",
      "WARNING:tensorflow:Incorrect shape for mean, found (0,), expected (512,), for node batch_normalization_29/FusedBatchNorm\n",
      "WARNING:tensorflow:Didn't find expected Conv2D input to 'batch_normalization_29/cond/FusedBatchNorm'\n",
      "WARNING:tensorflow:Incorrect shape for mean, found (0,), expected (256,), for node batch_normalization_30/FusedBatchNorm\n",
      "WARNING:tensorflow:Didn't find expected Conv2D input to 'batch_normalization_30/cond/FusedBatchNorm'\n",
      "WARNING:tensorflow:Incorrect shape for mean, found (0,), expected (512,), for node batch_normalization_31/FusedBatchNorm\n",
      "WARNING:tensorflow:Didn't find expected Conv2D input to 'batch_normalization_31/cond/FusedBatchNorm'\n",
      "WARNING:tensorflow:Incorrect shape for mean, found (0,), expected (256,), for node batch_normalization_32/FusedBatchNorm\n",
      "WARNING:tensorflow:Didn't find expected Conv2D input to 'batch_normalization_32/cond/FusedBatchNorm'\n",
      "WARNING:tensorflow:Incorrect shape for mean, found (0,), expected (512,), for node batch_normalization_33/FusedBatchNorm\n",
      "WARNING:tensorflow:Didn't find expected Conv2D input to 'batch_normalization_33/cond/FusedBatchNorm'\n",
      "WARNING:tensorflow:Incorrect shape for mean, found (0,), expected (256,), for node batch_normalization_34/FusedBatchNorm\n",
      "WARNING:tensorflow:Didn't find expected Conv2D input to 'batch_normalization_34/cond/FusedBatchNorm'\n",
      "WARNING:tensorflow:Incorrect shape for mean, found (0,), expected (512,), for node batch_normalization_35/FusedBatchNorm\n",
      "WARNING:tensorflow:Didn't find expected Conv2D input to 'batch_normalization_35/cond/FusedBatchNorm'\n",
      "WARNING:tensorflow:Incorrect shape for mean, found (0,), expected (256,), for node batch_normalization_36/FusedBatchNorm\n",
      "WARNING:tensorflow:Didn't find expected Conv2D input to 'batch_normalization_36/cond/FusedBatchNorm'\n",
      "WARNING:tensorflow:Incorrect shape for mean, found (0,), expected (512,), for node batch_normalization_37/FusedBatchNorm\n",
      "WARNING:tensorflow:Didn't find expected Conv2D input to 'batch_normalization_37/cond/FusedBatchNorm'\n",
      "WARNING:tensorflow:Incorrect shape for mean, found (0,), expected (256,), for node batch_normalization_38/FusedBatchNorm\n",
      "WARNING:tensorflow:Didn't find expected Conv2D input to 'batch_normalization_38/cond/FusedBatchNorm'\n",
      "WARNING:tensorflow:Incorrect shape for mean, found (0,), expected (512,), for node batch_normalization_39/FusedBatchNorm\n",
      "WARNING:tensorflow:Didn't find expected Conv2D input to 'batch_normalization_39/cond/FusedBatchNorm'\n",
      "WARNING:tensorflow:Incorrect shape for mean, found (0,), expected (256,), for node batch_normalization_40/FusedBatchNorm\n",
      "WARNING:tensorflow:Didn't find expected Conv2D input to 'batch_normalization_40/cond/FusedBatchNorm'\n",
      "WARNING:tensorflow:Incorrect shape for mean, found (0,), expected (512,), for node batch_normalization_41/FusedBatchNorm\n",
      "WARNING:tensorflow:Didn't find expected Conv2D input to 'batch_normalization_41/cond/FusedBatchNorm'\n",
      "WARNING:tensorflow:Incorrect shape for mean, found (0,), expected (256,), for node batch_normalization_42/FusedBatchNorm\n",
      "WARNING:tensorflow:Didn't find expected Conv2D input to 'batch_normalization_42/cond/FusedBatchNorm'\n",
      "WARNING:tensorflow:Incorrect shape for mean, found (0,), expected (512,), for node batch_normalization_43/FusedBatchNorm\n",
      "WARNING:tensorflow:Didn't find expected Conv2D input to 'batch_normalization_43/cond/FusedBatchNorm'\n",
      "WARNING:tensorflow:Incorrect shape for mean, found (0,), expected (1024,), for node batch_normalization_44/FusedBatchNorm\n",
      "WARNING:tensorflow:Didn't find expected Conv2D input to 'batch_normalization_44/cond/FusedBatchNorm'\n",
      "WARNING:tensorflow:Incorrect shape for mean, found (0,), expected (512,), for node batch_normalization_45/FusedBatchNorm\n",
      "WARNING:tensorflow:Didn't find expected Conv2D input to 'batch_normalization_45/cond/FusedBatchNorm'\n",
      "WARNING:tensorflow:Incorrect shape for mean, found (0,), expected (1024,), for node batch_normalization_46/FusedBatchNorm\n",
      "WARNING:tensorflow:Didn't find expected Conv2D input to 'batch_normalization_46/cond/FusedBatchNorm'\n",
      "WARNING:tensorflow:Incorrect shape for mean, found (0,), expected (512,), for node batch_normalization_47/FusedBatchNorm\n",
      "WARNING:tensorflow:Didn't find expected Conv2D input to 'batch_normalization_47/cond/FusedBatchNorm'\n",
      "WARNING:tensorflow:Incorrect shape for mean, found (0,), expected (1024,), for node batch_normalization_48/FusedBatchNorm\n",
      "WARNING:tensorflow:Didn't find expected Conv2D input to 'batch_normalization_48/cond/FusedBatchNorm'\n",
      "WARNING:tensorflow:Incorrect shape for mean, found (0,), expected (512,), for node batch_normalization_49/FusedBatchNorm\n",
      "WARNING:tensorflow:Didn't find expected Conv2D input to 'batch_normalization_49/cond/FusedBatchNorm'\n",
      "WARNING:tensorflow:Incorrect shape for mean, found (0,), expected (1024,), for node batch_normalization_50/FusedBatchNorm\n",
      "WARNING:tensorflow:Didn't find expected Conv2D input to 'batch_normalization_50/cond/FusedBatchNorm'\n",
      "WARNING:tensorflow:Incorrect shape for mean, found (0,), expected (512,), for node batch_normalization_51/FusedBatchNorm\n",
      "WARNING:tensorflow:Didn't find expected Conv2D input to 'batch_normalization_51/cond/FusedBatchNorm'\n",
      "WARNING:tensorflow:Incorrect shape for mean, found (0,), expected (1024,), for node batch_normalization_52/FusedBatchNorm\n",
      "WARNING:tensorflow:Didn't find expected Conv2D input to 'batch_normalization_52/cond/FusedBatchNorm'\n",
      "WARNING:tensorflow:Incorrect shape for mean, found (0,), expected (512,), for node batch_normalization_53/FusedBatchNorm\n",
      "WARNING:tensorflow:Didn't find expected Conv2D input to 'batch_normalization_53/cond/FusedBatchNorm'\n",
      "WARNING:tensorflow:Incorrect shape for mean, found (0,), expected (1024,), for node batch_normalization_54/FusedBatchNorm\n",
      "WARNING:tensorflow:Didn't find expected Conv2D input to 'batch_normalization_54/cond/FusedBatchNorm'\n",
      "WARNING:tensorflow:Incorrect shape for mean, found (0,), expected (512,), for node batch_normalization_55/FusedBatchNorm\n",
      "WARNING:tensorflow:Didn't find expected Conv2D input to 'batch_normalization_55/cond/FusedBatchNorm'\n",
      "WARNING:tensorflow:Incorrect shape for mean, found (0,), expected (1024,), for node batch_normalization_56/FusedBatchNorm\n",
      "WARNING:tensorflow:Didn't find expected Conv2D input to 'batch_normalization_56/cond/FusedBatchNorm'\n",
      "WARNING:tensorflow:Incorrect shape for mean, found (0,), expected (512,), for node batch_normalization_57/FusedBatchNorm\n",
      "WARNING:tensorflow:Didn't find expected Conv2D input to 'batch_normalization_57/cond/FusedBatchNorm'\n",
      "WARNING:tensorflow:Incorrect shape for mean, found (0,), expected (1024,), for node batch_normalization_58/FusedBatchNorm\n",
      "WARNING:tensorflow:Didn't find expected Conv2D input to 'batch_normalization_58/cond/FusedBatchNorm'\n",
      "WARNING:tensorflow:Incorrect shape for mean, found (0,), expected (256,), for node batch_normalization_59/FusedBatchNorm\n",
      "WARNING:tensorflow:Didn't find expected Conv2D input to 'batch_normalization_59/cond/FusedBatchNorm'\n",
      "WARNING:tensorflow:Incorrect shape for mean, found (0,), expected (512,), for node batch_normalization_60/FusedBatchNorm\n",
      "WARNING:tensorflow:Didn't find expected Conv2D input to 'batch_normalization_60/cond/FusedBatchNorm'\n",
      "WARNING:tensorflow:Incorrect shape for mean, found (0,), expected (256,), for node batch_normalization_61/FusedBatchNorm\n",
      "WARNING:tensorflow:Didn't find expected Conv2D input to 'batch_normalization_61/cond/FusedBatchNorm'\n",
      "WARNING:tensorflow:Incorrect shape for mean, found (0,), expected (512,), for node batch_normalization_62/FusedBatchNorm\n",
      "WARNING:tensorflow:Didn't find expected Conv2D input to 'batch_normalization_62/cond/FusedBatchNorm'\n",
      "WARNING:tensorflow:Incorrect shape for mean, found (0,), expected (256,), for node batch_normalization_63/FusedBatchNorm\n",
      "WARNING:tensorflow:Didn't find expected Conv2D input to 'batch_normalization_63/cond/FusedBatchNorm'\n",
      "WARNING:tensorflow:Incorrect shape for mean, found (0,), expected (512,), for node batch_normalization_64/FusedBatchNorm\n",
      "WARNING:tensorflow:Didn't find expected Conv2D input to 'batch_normalization_64/cond/FusedBatchNorm'\n",
      "WARNING:tensorflow:Incorrect shape for mean, found (0,), expected (128,), for node batch_normalization_65/FusedBatchNorm\n",
      "WARNING:tensorflow:Didn't find expected Conv2D input to 'batch_normalization_65/cond/FusedBatchNorm'\n",
      "WARNING:tensorflow:Incorrect shape for mean, found (0,), expected (128,), for node batch_normalization_66/FusedBatchNorm\n",
      "WARNING:tensorflow:Didn't find expected Conv2D input to 'batch_normalization_66/cond/FusedBatchNorm'\n",
      "WARNING:tensorflow:Incorrect shape for mean, found (0,), expected (256,), for node batch_normalization_67/FusedBatchNorm\n",
      "WARNING:tensorflow:Didn't find expected Conv2D input to 'batch_normalization_67/cond/FusedBatchNorm'\n",
      "WARNING:tensorflow:Incorrect shape for mean, found (0,), expected (128,), for node batch_normalization_68/FusedBatchNorm\n",
      "WARNING:tensorflow:Didn't find expected Conv2D input to 'batch_normalization_68/cond/FusedBatchNorm'\n",
      "WARNING:tensorflow:Incorrect shape for mean, found (0,), expected (256,), for node batch_normalization_69/FusedBatchNorm\n",
      "WARNING:tensorflow:Didn't find expected Conv2D input to 'batch_normalization_69/cond/FusedBatchNorm'\n",
      "WARNING:tensorflow:Incorrect shape for mean, found (0,), expected (128,), for node batch_normalization_70/FusedBatchNorm\n",
      "WARNING:tensorflow:Didn't find expected Conv2D input to 'batch_normalization_70/cond/FusedBatchNorm'\n",
      "WARNING:tensorflow:Incorrect shape for mean, found (0,), expected (256,), for node batch_normalization_71/FusedBatchNorm\n",
      "WARNING:tensorflow:Didn't find expected Conv2D input to 'batch_normalization_71/cond/FusedBatchNorm'\n"
     ]
    }
   ],
   "source": [
    "import tensorflow as tf\n",
    "from tensorflow.tools.graph_transforms import TransformGraph\n",
    "from tensorflow.python.tools import optimize_for_inference_lib\n",
    "\n",
    "graph = 'yolo_test1.pb'\n",
    "with tf.gfile.FastGFile(graph,'rb') as f:\n",
    "    graph_def = tf.GraphDef()\n",
    "    graph_def.ParseFromString(f.read())\n",
    "    tf.summary.FileWriter('logs', graph_def)\n",
    "\n",
    "    inp_node = 'input_1'\n",
    "    out_node = ['conv2d_59/BiasAdd','conv2d_67/BiasAdd','conv2d_75/BiasAdd']\n",
    "#     out_node = output_node_name\n",
    "    graph_def = optimize_for_inference_lib.optimize_for_inference(graph_def, [inp_node], [n for n in out_node], tf.float32.as_datatype_enum)\n",
    "    graph_def = TransformGraph(graph_def, [inp_node], [n for n in out_node], [\"sort_by_execution_order\"])\n",
    " \n",
    "    with tf.gfile.FastGFile('frozen_inference_graph_opt.pb', 'wb') as f:\n",
    "        f.write(graph_def.SerializeToString())"
   ]
  },
  {
   "cell_type": "code",
   "execution_count": 13,
   "metadata": {},
   "outputs": [],
   "source": [
    "import keras2onnx"
   ]
  },
  {
   "cell_type": "code",
   "execution_count": 14,
   "metadata": {},
   "outputs": [],
   "source": [
    "testmode = kerareadNetFromONNXkeras(\n",
    "    model=infer_mode,\n",
    "    name='yolo_onnx.onnx',\n",
    "    doc_string='',\n",
    "    target_opset=None,\n",
    "    channel_first_inputs='input_1')"
   ]
  },
  {
   "cell_type": "code",
   "execution_count": 15,
   "metadata": {},
   "outputs": [],
   "source": [
    "import onnx\n",
    "onnx.save_model(testmode, 'test_yolo.onnx')"
   ]
  },
  {
   "cell_type": "code",
   "execution_count": 16,
   "metadata": {},
   "outputs": [
    {
     "ename": "error",
     "evalue": "OpenCV(4.1.1) C:\\projects\\opencv-python\\opencv\\modules\\dnn\\src\\layers\\padding_layer.cpp:33: error: (-215:Assertion failed) params.has(\"paddings\") in function 'cv::dnn::PaddingLayerImpl::PaddingLayerImpl'\n",
     "output_type": "error",
     "traceback": [
      "\u001b[1;31m---------------------------------------------------------------------------\u001b[0m",
      "\u001b[1;31merror\u001b[0m                                     Traceback (most recent call last)",
      "\u001b[1;32m<ipython-input-16-58444dc2eb02>\u001b[0m in \u001b[0;36m<module>\u001b[1;34m\u001b[0m\n\u001b[1;32m----> 1\u001b[1;33m \u001b[0mtest\u001b[0m \u001b[1;33m=\u001b[0m \u001b[0mcv2\u001b[0m\u001b[1;33m.\u001b[0m\u001b[0mdnn\u001b[0m\u001b[1;33m.\u001b[0m\u001b[0mreadNetFromONNX\u001b[0m\u001b[1;33m(\u001b[0m\u001b[1;34m'test_yolo.onnx'\u001b[0m\u001b[1;33m)\u001b[0m\u001b[1;33m\u001b[0m\u001b[1;33m\u001b[0m\u001b[0m\n\u001b[0m",
      "\u001b[1;31merror\u001b[0m: OpenCV(4.1.1) C:\\projects\\opencv-python\\opencv\\modules\\dnn\\src\\layers\\padding_layer.cpp:33: error: (-215:Assertion failed) params.has(\"paddings\") in function 'cv::dnn::PaddingLayerImpl::PaddingLayerImpl'\n"
     ]
    }
   ],
   "source": [
    "test = cv2.dnn.readNetFromONNX('test_yolo.onnx')"
   ]
  },
  {
   "cell_type": "code",
   "execution_count": 12,
   "metadata": {},
   "outputs": [],
   "source": [
    "import glob\n",
    "import os"
   ]
  },
  {
   "cell_type": "code",
   "execution_count": 13,
   "metadata": {},
   "outputs": [],
   "source": [
    "testimgpath = '..\\data\\Test_images'\n",
    "file_types = ('\\*.jpg', '\\*.jpeg')\n",
    "test_images = []\n",
    "for files in file_types:\n",
    "    test_images.extend(glob.glob(testimgpath+files))"
   ]
  },
  {
   "cell_type": "code",
   "execution_count": 14,
   "metadata": {},
   "outputs": [
    {
     "data": {
      "text/plain": [
       "['..\\\\data\\\\Test_images\\\\icc02-003.jpeg',\n",
       " '..\\\\data\\\\Test_images\\\\icc02-005.jpeg',\n",
       " '..\\\\data\\\\Test_images\\\\icc02-006.jpeg',\n",
       " '..\\\\data\\\\Test_images\\\\icc02-007.jpeg',\n",
       " '..\\\\data\\\\Test_images\\\\icc02-008.jpeg']"
      ]
     },
     "execution_count": 14,
     "metadata": {},
     "output_type": "execute_result"
    }
   ],
   "source": [
    "test_images"
   ]
  },
  {
   "cell_type": "code",
   "execution_count": 80,
   "metadata": {},
   "outputs": [],
   "source": [
    "# img_batch = np.zeros((5, 416, 416, 3))\n",
    "# for i in range(len(test_images)):\n",
    "#     imgr = cv2.imread(test_images[i])\n",
    "#     imgrs = cv2.resize(imgr, (416,416))\n",
    "#     img_batch[i] = np.expand_dims(imgrs, axis=0)"
   ]
  },
  {
   "cell_type": "code",
   "execution_count": 83,
   "metadata": {},
   "outputs": [],
   "source": [
    "batch_pred = infer_mode.predict_on_batch(img_batch)\n"
   ]
  },
  {
   "cell_type": "code",
   "execution_count": 93,
   "metadata": {},
   "outputs": [
    {
     "data": {
      "text/plain": [
       "(13, 13, 21)"
      ]
     },
     "execution_count": 93,
     "metadata": {},
     "output_type": "execute_result"
    }
   ],
   "source": [
    "batch_pred[0][1].shape"
   ]
  },
  {
   "cell_type": "code",
   "execution_count": 42,
   "metadata": {},
   "outputs": [
    {
     "data": {
      "text/plain": [
       "<tf.Tensor 'input_1:0' shape=(?, ?, ?, 3) dtype=float32>"
      ]
     },
     "execution_count": 42,
     "metadata": {},
     "output_type": "execute_result"
    }
   ],
   "source": [
    "infer_mode.input"
   ]
  },
  {
   "cell_type": "code",
   "execution_count": 17,
   "metadata": {},
   "outputs": [],
   "source": [
    "img = cv2.imread(test_images[0])\n",
    "# imgrs = cv2.resize(img, (416, 416))"
   ]
  },
  {
   "cell_type": "code",
   "execution_count": 89,
   "metadata": {},
   "outputs": [],
   "source": [
    "pred = infer_mode.predict(np.expand_dims(imgrs, axis=0))[0]"
   ]
  },
  {
   "cell_type": "code",
   "execution_count": 132,
   "metadata": {},
   "outputs": [
    {
     "data": {
      "text/plain": [
       "(13, 13, 21)"
      ]
     },
     "execution_count": 132,
     "metadata": {},
     "output_type": "execute_result"
    }
   ],
   "source": [
    "pred[0].shape"
   ]
  },
  {
   "cell_type": "code",
   "execution_count": 98,
   "metadata": {},
   "outputs": [],
   "source": [
    "from scipy.special import expit"
   ]
  },
  {
   "cell_type": "code",
   "execution_count": 19,
   "metadata": {},
   "outputs": [
    {
     "data": {
      "text/plain": [
       "27"
      ]
     },
     "execution_count": 19,
     "metadata": {},
     "output_type": "execute_result"
    }
   ],
   "source": [
    "# class BoundBox:\n",
    "#     def __init__(self, xmin, ymin, xmax, ymax, c = None, classes = None):\n",
    "#         self.xmin = xmin\n",
    "#         self.ymin = ymin\n",
    "#         self.xmax = xmax\n",
    "#         self.ymax = ymax\n",
    "        \n",
    "#         self.c       = c\n",
    "#         self.classes = classes\n",
    "\n",
    "#         self.label = -1\n",
    "#         self.score = -1\n",
    "\n",
    "#     def get_label(self):\n",
    "#         if self.label == -1:\n",
    "#             self.label = np.argmax(self.classes)\n",
    "        \n",
    "#         return self.label\n",
    "    \n",
    "#     def get_score(self):\n",
    "#         if self.score == -1:\n",
    "#             self.score = self.classes[self.get_label()]\n",
    "            \n",
    "#         return self.score    \n",
    "cv2.imshow('img',img)\n",
    "cv2.waitKey(0)"
   ]
  },
  {
   "cell_type": "code",
   "execution_count": 15,
   "metadata": {},
   "outputs": [],
   "source": [
    "def preprocess_input(image, net_h, net_w):\n",
    "    new_h, new_w, _ = image.shape\n",
    "\n",
    "    # determine the new size of the image\n",
    "    if (float(net_w)/new_w) < (float(net_h)/new_h):\n",
    "        new_h = (new_h * net_w)//new_w\n",
    "        new_w = net_w\n",
    "    else:\n",
    "        new_w = (new_w * net_h)//new_h\n",
    "        new_h = net_h\n",
    "\n",
    "    # resize the image to the new size\n",
    "    resized = cv2.resize(image[:,:,::-1]/255., (new_w, new_h))\n",
    "\n",
    "    # embed the image into the standard letter box\n",
    "    new_image = np.ones((net_h, net_w, 3)) * 0.5\n",
    "    new_image[(net_h-new_h)//2:(net_h+new_h)//2, (net_w-new_w)//2:(net_w+new_w)//2, :] = resized\n",
    "    new_image = np.expand_dims(new_image, 0)\n",
    "\n",
    "    return new_image"
   ]
  },
  {
   "cell_type": "code",
   "execution_count": 130,
   "metadata": {},
   "outputs": [],
   "source": [
    "def generate_prediction_boxes(pred, anchors, thresh, height, width):\n",
    "    pred_height, pred_width = pred.shape[:2]\n",
    "    num_boxes = 3\n",
    "    prediction_out = pred.reshape((pred_height, pred_width, num_boxes, -1))\n",
    "    num_classes = pred.shape[-1]-5\n",
    "    \n",
    "    boxes = []\n",
    "    pred[...,:2] = expit(pred[...,:2])\n",
    "    pred[...,4] = expit(pred[...,4])\n",
    "    pred[..., 5:] = pred[...,4][...,np.newaxis] * softmax(pred[...,5:])\n",
    "    \n",
    "    for i in range(pred_height*pred_width):\n",
    "        row, col = i//pred_width, i%pred_width\n",
    "        for j in range(num_boxes):\n",
    "            objectness_score = pred[row, col, j, 4]\n",
    "            if (objectness_score <= thresh):\n",
    "                continue\n",
    "            x, y, w, h = pred[row, col, j, :4]\n",
    "            x = (col + x) / pred_width\n",
    "            y = (row + y) / pred_height\n",
    "            w = anchors[2 * j + 0] * np.exp(w) / width\n",
    "            h = anchors[2 * j + 1] * np.exp(h) / height\n",
    "            classes = pred[row, col, j, 5:]\n",
    "            box = BoundBox(\n",
    "                xmin=x-w/2, \n",
    "                ymin=y-h/2, \n",
    "                xmax=y+h/2,\n",
    "                ymax=y+h/2,\n",
    "                c = objectness,\n",
    "                classes=classes)\n",
    "            boxes.append(box)\n",
    "    return boxes"
   ]
  },
  {
   "cell_type": "code",
   "execution_count": 148,
   "metadata": {},
   "outputs": [],
   "source": [
    "def correct_yolo_boxes(boxes, image_h, image_w, net_h, net_w):\n",
    "    if (float(net_w)/image_w) < (float(net_h)/image_h):\n",
    "        new_w = net_w\n",
    "        new_h = (image_h*net_w)/image_w\n",
    "    else:\n",
    "        new_h = net_w\n",
    "        new_w = (image_w*net_h)/image_h\n",
    "        \n",
    "    for i in range(len(boxes)):\n",
    "        x_offset, x_scale = (net_w - new_w)/2./net_w, float(new_w)/net_w\n",
    "        y_offset, y_scale = (net_h - new_h)/2./net_h, float(new_h)/net_h\n",
    "        \n",
    "        boxes[i].xmin = int((boxes[i].xmin - x_offset) / x_scale * image_w)\n",
    "        boxes[i].xmax = int((boxes[i].xmax - x_offset) / x_scale * image_w)\n",
    "        boxes[i].ymin = int((boxes[i].ymin - y_offset) / y_scale * image_h)\n",
    "        boxes[i].ymax = int((boxes[i].ymax - y_offset) / y_scale * image_h)"
   ]
  },
  {
   "cell_type": "code",
   "execution_count": 150,
   "metadata": {},
   "outputs": [],
   "source": [
    "def do_nms(boxes, nms_thresh):\n",
    "    if len(boxes) > 0:\n",
    "        nb_class = len(boxes[0].classes)\n",
    "    else:\n",
    "        return\n",
    "        \n",
    "    for c in range(nb_class):\n",
    "        sorted_indices = np.argsort([-box.classes[c] for box in boxes])\n",
    "\n",
    "        for i in range(len(sorted_indices)):\n",
    "            index_i = sorted_indices[i]\n",
    "\n",
    "            if boxes[index_i].classes[c] == 0: continue\n",
    "\n",
    "            for j in range(i+1, len(sorted_indices)):\n",
    "                index_j = sorted_indices[j]\n",
    "\n",
    "                if bbox_iou(boxes[index_i], boxes[index_j]) >= nms_thresh:\n",
    "                    boxes[index_j].classes[c] = 0"
   ]
  },
  {
   "cell_type": "code",
   "execution_count": 152,
   "metadata": {},
   "outputs": [],
   "source": [
    "def bbox_iou(box1, box2):\n",
    "    intersect_w = _interval_overlap([box1.xmin, box1.xmax], [box2.xmin, box2.xmax])\n",
    "    intersect_h = _interval_overlap([box1.ymin, box1.ymax], [box2.ymin, box2.ymax])  \n",
    "    \n",
    "    intersect = intersect_w * intersect_h\n",
    "\n",
    "    w1, h1 = box1.xmax-box1.xmin, box1.ymax-box1.ymin\n",
    "    w2, h2 = box2.xmax-box2.xmin, box2.ymax-box2.ymin\n",
    "    \n",
    "    union = w1*h1 + w2*h2 - intersect\n",
    "    \n",
    "    return float(intersect) / union"
   ]
  },
  {
   "cell_type": "code",
   "execution_count": 154,
   "metadata": {},
   "outputs": [],
   "source": [
    "def _interval_overlap(interval_a, interval_b):\n",
    "    x1, x2 = interval_a\n",
    "    x3, x4 = interval_b\n",
    "\n",
    "    if x3 < x1:\n",
    "        if x4 < x1:\n",
    "            return 0\n",
    "        else:\n",
    "            return min(x2,x4) - x1\n",
    "    else:\n",
    "        if x2 < x3:\n",
    "             return 0\n",
    "        else:\n",
    "            return min(x2,x4) - x3   "
   ]
  },
  {
   "cell_type": "code",
   "execution_count": 176,
   "metadata": {},
   "outputs": [
    {
     "ename": "IndexError",
     "evalue": "too many indices for array",
     "output_type": "error",
     "traceback": [
      "\u001b[1;31m---------------------------------------------------------------------------\u001b[0m",
      "\u001b[1;31mIndexError\u001b[0m                                Traceback (most recent call last)",
      "\u001b[1;32m<ipython-input-176-84ffc0f043dd>\u001b[0m in \u001b[0;36m<module>\u001b[1;34m\u001b[0m\n\u001b[0;32m      2\u001b[0m \u001b[1;32mfor\u001b[0m \u001b[0mj\u001b[0m \u001b[1;32min\u001b[0m \u001b[0mrange\u001b[0m\u001b[1;33m(\u001b[0m\u001b[0mlen\u001b[0m\u001b[1;33m(\u001b[0m\u001b[0mpred\u001b[0m\u001b[1;33m)\u001b[0m\u001b[1;33m)\u001b[0m\u001b[1;33m:\u001b[0m\u001b[1;33m\u001b[0m\u001b[1;33m\u001b[0m\u001b[0m\n\u001b[0;32m      3\u001b[0m     \u001b[0myolo_anchors\u001b[0m \u001b[1;33m=\u001b[0m \u001b[0manchor_boxes\u001b[0m\u001b[1;33m[\u001b[0m\u001b[1;33m(\u001b[0m\u001b[1;36m2\u001b[0m\u001b[1;33m-\u001b[0m\u001b[0mj\u001b[0m\u001b[1;33m)\u001b[0m\u001b[1;33m*\u001b[0m\u001b[1;36m6\u001b[0m\u001b[1;33m:\u001b[0m\u001b[1;33m(\u001b[0m\u001b[1;36m3\u001b[0m\u001b[1;33m-\u001b[0m\u001b[0mj\u001b[0m\u001b[1;33m)\u001b[0m\u001b[1;33m*\u001b[0m\u001b[1;36m6\u001b[0m\u001b[1;33m]\u001b[0m\u001b[1;33m\u001b[0m\u001b[1;33m\u001b[0m\u001b[0m\n\u001b[1;32m----> 4\u001b[1;33m     \u001b[0mboxes\u001b[0m \u001b[1;33m+=\u001b[0m \u001b[0mgenerate_prediction_boxes\u001b[0m\u001b[1;33m(\u001b[0m\u001b[0mpred\u001b[0m\u001b[1;33m[\u001b[0m\u001b[0mj\u001b[0m\u001b[1;33m]\u001b[0m\u001b[1;33m,\u001b[0m\u001b[0myolo_anchors\u001b[0m\u001b[1;33m,\u001b[0m \u001b[1;36m0.5\u001b[0m\u001b[1;33m,\u001b[0m \u001b[1;36m416\u001b[0m\u001b[1;33m,\u001b[0m\u001b[1;36m416\u001b[0m\u001b[1;33m)\u001b[0m\u001b[1;33m\u001b[0m\u001b[1;33m\u001b[0m\u001b[0m\n\u001b[0m",
      "\u001b[1;32m<ipython-input-130-62d62722a188>\u001b[0m in \u001b[0;36mgenerate_prediction_boxes\u001b[1;34m(pred, anchors, thresh, height, width)\u001b[0m\n\u001b[0;32m     13\u001b[0m         \u001b[0mrow\u001b[0m\u001b[1;33m,\u001b[0m \u001b[0mcol\u001b[0m \u001b[1;33m=\u001b[0m \u001b[0mi\u001b[0m\u001b[1;33m//\u001b[0m\u001b[0mpred_width\u001b[0m\u001b[1;33m,\u001b[0m \u001b[0mi\u001b[0m\u001b[1;33m%\u001b[0m\u001b[0mpred_width\u001b[0m\u001b[1;33m\u001b[0m\u001b[1;33m\u001b[0m\u001b[0m\n\u001b[0;32m     14\u001b[0m         \u001b[1;32mfor\u001b[0m \u001b[0mj\u001b[0m \u001b[1;32min\u001b[0m \u001b[0mrange\u001b[0m\u001b[1;33m(\u001b[0m\u001b[0mnum_boxes\u001b[0m\u001b[1;33m)\u001b[0m\u001b[1;33m:\u001b[0m\u001b[1;33m\u001b[0m\u001b[1;33m\u001b[0m\u001b[0m\n\u001b[1;32m---> 15\u001b[1;33m             \u001b[0mobjectness_score\u001b[0m \u001b[1;33m=\u001b[0m \u001b[0mpred\u001b[0m\u001b[1;33m[\u001b[0m\u001b[0mrow\u001b[0m\u001b[1;33m,\u001b[0m \u001b[0mcol\u001b[0m\u001b[1;33m,\u001b[0m \u001b[0mj\u001b[0m\u001b[1;33m,\u001b[0m \u001b[1;36m4\u001b[0m\u001b[1;33m]\u001b[0m\u001b[1;33m\u001b[0m\u001b[1;33m\u001b[0m\u001b[0m\n\u001b[0m\u001b[0;32m     16\u001b[0m             \u001b[1;32mif\u001b[0m \u001b[1;33m(\u001b[0m\u001b[0mobjectness_score\u001b[0m \u001b[1;33m<=\u001b[0m \u001b[0mthresh\u001b[0m\u001b[1;33m)\u001b[0m\u001b[1;33m:\u001b[0m\u001b[1;33m\u001b[0m\u001b[1;33m\u001b[0m\u001b[0m\n\u001b[0;32m     17\u001b[0m                 \u001b[1;32mcontinue\u001b[0m\u001b[1;33m\u001b[0m\u001b[1;33m\u001b[0m\u001b[0m\n",
      "\u001b[1;31mIndexError\u001b[0m: too many indices for array"
     ]
    }
   ],
   "source": [
    "boxes = []\n",
    "for j in range(len(pred)):\n",
    "    yolo_anchors = anchor_boxes[(2-j)*6:(3-j)*6]\n",
    "    boxes += generate_prediction_boxes(pred[j],yolo_anchors, 0.5, 416,416)"
   ]
  },
  {
   "cell_type": "code",
   "execution_count": 168,
   "metadata": {},
   "outputs": [],
   "source": [
    "a, b = expit(pred[...,:2]), expit(pred[...,4])"
   ]
  },
  {
   "cell_type": "code",
   "execution_count": 169,
   "metadata": {},
   "outputs": [],
   "source": [
    "h, w = pred[0].shape[:2]\n",
    "t = pred[0].reshape((h, w, 3, -1))\n",
    "nbcls = t.shape[-1]"
   ]
  },
  {
   "cell_type": "code",
   "execution_count": 170,
   "metadata": {},
   "outputs": [],
   "source": [
    "def softmax(x, axis=-1):\n",
    "    x = x - np.amax(x, axis, keepdims=True)\n",
    "    e_x = np.exp(x)\n",
    "    return e_x/e_x.sum(axis, keepdims=True)"
   ]
  },
  {
   "cell_type": "code",
   "execution_count": 171,
   "metadata": {},
   "outputs": [],
   "source": [
    "test = b[...,np.newaxis] * softmax(pred[...,5:])"
   ]
  },
  {
   "cell_type": "code",
   "execution_count": 172,
   "metadata": {},
   "outputs": [],
   "source": [
    "pred_org= pred.copy()"
   ]
  },
  {
   "cell_type": "code",
   "execution_count": 173,
   "metadata": {},
   "outputs": [],
   "source": [
    "test *= pred[...,5:] > 0.5"
   ]
  },
  {
   "cell_type": "code",
   "execution_count": 174,
   "metadata": {},
   "outputs": [],
   "source": [
    "pred_height, pred_width = pred.shape[:2]\n",
    "num_boxes = 3\n",
    "prediction_out = pred.reshape((pred_height, pred_width, num_boxes, -1))\n",
    "num_classes = pred.shape[-1]-5\n",
    "\n",
    "boxes = []\n",
    "pred[...,:2] = expit(pred[...,:2])\n",
    "pred[...,4] = expit(pred[...,4])\n",
    "pred[..., 5:] = pred[...,4][...,np.newaxis] * softmax(pred[...,5:])"
   ]
  },
  {
   "cell_type": "code",
   "execution_count": 175,
   "metadata": {},
   "outputs": [
    {
     "data": {
      "text/plain": [
       "[BoundingBox(x1=-0.0585, y1=1.3034, x2=0.0479, y2=1.3034, label=[0.0420436  0.0420436  0.04312663 0.0420436  0.0420436  0.0420436\n",
       "  0.0420436  0.0420436  0.0420436  0.0420436  0.04330043 0.0420436\n",
       "  0.0420436  0.0420436  0.0420436  0.0420436 ]),\n",
       " BoundingBox(x1=-165634766.1468, y1=165634767.3917, x2=0.0519, y2=165634767.3917, label=[0.041997   0.041997   0.041997   0.041997   0.041997   0.041997\n",
       "  0.041997   0.041997   0.041997   0.041997   0.04508253 0.041997\n",
       "  0.041997   0.041997   0.041997   0.041997  ]),\n",
       " BoundingBox(x1=-765496.2237, y1=765497.4686, x2=-2.2520, y2=765497.4686, label=[0.041997   0.041997   0.041997   0.041997   0.041997   0.041997\n",
       "  0.041997   0.041997   0.041997   0.041997   0.04508253 0.041997\n",
       "  0.041997   0.041997   0.041997   0.041997  ]),\n",
       " BoundingBox(x1=0.1288, y1=0.6745, x2=0.6745, y2=0.6745, label=[0.04199701 0.041997   0.041997   0.041997   0.04508251 0.041997\n",
       "  0.041997   0.041997   0.041997   0.041997   0.041997   0.041997\n",
       "  0.041997   0.041997   0.041997   0.041997  ]),\n",
       " BoundingBox(x1=-1618.1945, y1=1619.5444, x2=0.1288, y2=1619.5444, label=[0.04199702 0.041997   0.041997   0.041997   0.041997   0.041997\n",
       "  0.041997   0.041997   0.041997   0.041997   0.041997   0.041997\n",
       "  0.041997   0.041997   0.04508249 0.041997  ]),\n",
       " BoundingBox(x1=0.1283, y1=0.6225, x2=0.6225, y2=0.6225, label=[0.04208693 0.04200615 0.04200615 0.04200615 0.04200615 0.04200615\n",
       "  0.04200615 0.04201658 0.04200615 0.04200615 0.04200615 0.04200615\n",
       "  0.04200615 0.04200615 0.04485415 0.04200615]),\n",
       " BoundingBox(x1=0.2058, y1=0.6225, x2=0.6225, y2=0.6225, label=[0.04199877 0.04199877 0.04199877 0.04199877 0.04201537 0.04199877\n",
       "  0.04199877 0.04503938 0.04199877 0.04199877 0.04199877 0.04199877\n",
       "  0.04199877 0.04199877 0.04199877 0.04199877]),\n",
       " BoundingBox(x1=0.2058, y1=0.6317, x2=0.6136, y2=0.6317, label=[0.04200569 0.04200309 0.04200309 0.04200309 0.04200309 0.04200309\n",
       "  0.04200309 0.0420598  0.04200309 0.04200309 0.04200309 0.04200309\n",
       "  0.04200309 0.04200309 0.04493193 0.04200309]),\n",
       " BoundingBox(x1=-60454.6033, y1=0.6225, x2=0.6224, y2=0.6225, label=[0.041997   0.041997   0.041997   0.041997   0.041997   0.041997\n",
       "  0.041997   0.041997   0.041997   0.041997   0.041997   0.041997\n",
       "  0.041997   0.041997   0.04508252 0.041997  ]),\n",
       " BoundingBox(x1=0.2827, y1=0.6225, x2=0.6225, y2=0.6225, label=[0.04040125 0.04516529 0.04210423 0.0421043  0.04210423 0.04210423\n",
       "  0.04210423 0.04210587 0.04210423 0.04210423 0.04210423 0.04210423\n",
       "  0.04210423 0.04210423 0.04211437 0.04210423]),\n",
       " BoundingBox(x1=0.2827, y1=0.6226, x2=0.6223, y2=0.6226, label=[0.0404086  0.04215817 0.04215817 0.0426525  0.04215817 0.04215817\n",
       "  0.04215817 0.04253216 0.04215817 0.04215817 0.04215817 0.04215817\n",
       "  0.04215817 0.04215817 0.04354628 0.04215817]),\n",
       " BoundingBox(x1=-31578.6652, y1=0.6225, x2=0.6225, y2=0.6225, label=[0.04199701 0.04199701 0.04199701 0.04199706 0.04199701 0.04199701\n",
       "  0.04199701 0.04199704 0.04199701 0.04199701 0.04199701 0.04199701\n",
       "  0.04199701 0.04199701 0.04508235 0.04199701]),\n",
       " BoundingBox(x1=0.3596, y1=0.6225, x2=0.6225, y2=0.6225, label=[0.0419994  0.04502385 0.0419994  0.0419994  0.0419994  0.0419994\n",
       "  0.0419994  0.0419994  0.0419994  0.0419994  0.0419994  0.0419994\n",
       "  0.0419994  0.0419994  0.04202206 0.0419994 ]),\n",
       " BoundingBox(x1=-0.1377, y1=0.6225, x2=0.6225, y2=0.6225, label=[0.04040121 0.04210393 0.04210393 0.0421132  0.04210393 0.04210393\n",
       "  0.04210393 0.04210393 0.04210393 0.04210393 0.04210393 0.04210393\n",
       "  0.04210393 0.04210393 0.04517207 0.04210393]),\n",
       " BoundingBox(x1=-358434301794.1019, y1=0.6225, x2=0.6225, y2=0.6225, label=[0.04199775 0.04199775 0.04199775 0.04506451 0.04199775 0.04199775\n",
       "  0.04199775 0.04199775 0.04199775 0.04199775 0.04199775 0.04199775\n",
       "  0.04199775 0.04199775 0.04200464 0.04199775]),\n",
       " BoundingBox(x1=0.4328, y1=0.6225, x2=0.6225, y2=0.6225, label=[0.0420009  0.04498662 0.0420047  0.0420009  0.0420009  0.0420009\n",
       "  0.0420009  0.04200091 0.0420009  0.0420009  0.0420009  0.0420009\n",
       "  0.0420009  0.0420009  0.0420344  0.0420009 ]),\n",
       " BoundingBox(x1=-0.0408, y1=0.6225, x2=0.6225, y2=0.6225, label=[0.04040106 0.04210288 0.04210288 0.04210288 0.04210288 0.04210288\n",
       "  0.04210288 0.04210288 0.04210288 0.04210288 0.04210288 0.04210288\n",
       "  0.04210288 0.04210288 0.04519618 0.04210288]),\n",
       " BoundingBox(x1=-4834761.3327, y1=0.6225, x2=0.6225, y2=0.6225, label=[0.041997   0.041997   0.041997   0.04199701 0.041997   0.041997\n",
       "  0.041997   0.041997   0.041997   0.041997   0.041997   0.041997\n",
       "  0.041997   0.041997   0.04508252 0.041997  ]),\n",
       " BoundingBox(x1=0.5094, y1=0.6225, x2=0.6225, y2=0.6225, label=[0.04202729 0.04238733 0.04424116 0.04202729 0.04202729 0.04202729\n",
       "  0.04202729 0.04202735 0.04202729 0.04202729 0.04202729 0.04202729\n",
       "  0.04202729 0.04202729 0.04205389 0.04202729]),\n",
       " BoundingBox(x1=0.3514, y1=0.6225, x2=0.6225, y2=0.6225, label=[0.041997   0.041997   0.04199702 0.041997   0.041997   0.041997\n",
       "  0.041997   0.041997   0.041997   0.041997   0.041997   0.041997\n",
       "  0.041997   0.041997   0.04508248 0.041997  ]),\n",
       " BoundingBox(x1=-52730.9194, y1=0.6225, x2=0.6225, y2=0.6225, label=[0.041997   0.041997   0.041997   0.041997   0.041997   0.041997\n",
       "  0.041997   0.041997   0.041997   0.041997   0.041997   0.041997\n",
       "  0.041997   0.041997   0.04508253 0.041997  ]),\n",
       " BoundingBox(x1=0.5864, y1=0.6225, x2=0.6225, y2=0.6225, label=[0.04199836 0.04200993 0.0450322  0.04199836 0.04199837 0.04199836\n",
       "  0.04199836 0.04199965 0.04199836 0.04199836 0.04199836 0.04199836\n",
       "  0.04199836 0.04199836 0.04200407 0.04199836]),\n",
       " BoundingBox(x1=-5.3666, y1=0.6225, x2=0.6224, y2=0.6225, label=[0.041997   0.041997   0.04199702 0.041997   0.041997   0.041997\n",
       "  0.041997   0.041997   0.041997   0.041997   0.041997   0.041997\n",
       "  0.041997   0.041997   0.04508248 0.041997  ]),\n",
       " BoundingBox(x1=-5131892.9512, y1=0.6225, x2=0.6225, y2=0.6225, label=[0.041997   0.041997   0.041997   0.041997   0.041997   0.041997\n",
       "  0.041997   0.041997   0.041997   0.041997   0.041997   0.041997\n",
       "  0.041997   0.041997   0.04508253 0.041997  ]),\n",
       " BoundingBox(x1=0.6225, y1=0.6225, x2=0.6649, y2=0.6225, label=[0.04199875 0.0420039  0.04491473 0.04199875 0.04199894 0.04199876\n",
       "  0.04199875 0.04202992 0.04199875 0.04199875 0.04199875 0.04199875\n",
       "  0.04199875 0.04199875 0.04202206 0.04199875]),\n",
       " BoundingBox(x1=-23.6234, y1=0.6225, x2=0.6224, y2=0.6225, label=[0.04199718 0.04199718 0.04199718 0.04199718 0.04199718 0.04199718\n",
       "  0.04199718 0.04199882 0.04199718 0.04199718 0.04199718 0.04199718\n",
       "  0.04199718 0.04199718 0.04507821 0.04199718]),\n",
       " BoundingBox(x1=-75325357.7983, y1=0.6225, x2=0.6225, y2=0.6225, label=[0.041997   0.041997   0.041997   0.041997   0.041997   0.041997\n",
       "  0.041997   0.041997   0.041997   0.041997   0.041997   0.041997\n",
       "  0.041997   0.041997   0.04508252 0.041997  ]),\n",
       " BoundingBox(x1=0.6225, y1=0.6225, x2=0.7412, y2=0.6225, label=[0.0420205  0.04202145 0.04446406 0.0420205  0.04202056 0.0420205\n",
       "  0.0420205  0.04222227 0.0420205  0.0420205  0.0420205  0.0420205\n",
       "  0.0420205  0.0420205  0.042083   0.0420205 ]),\n",
       " BoundingBox(x1=-2.1963, y1=0.6230, x2=0.6220, y2=0.6230, label=[0.04199767 0.04199767 0.04199767 0.04199767 0.04199767 0.04199767\n",
       "  0.04199767 0.04200393 0.04199767 0.04199767 0.04199767 0.04199767\n",
       "  0.04199767 0.04199767 0.04506617 0.04199767]),\n",
       " BoundingBox(x1=-24538993.9483, y1=0.6225, x2=0.6225, y2=0.6225, label=[0.041997   0.041997   0.041997   0.041997   0.041997   0.041997\n",
       "  0.041997   0.041997   0.041997   0.041997   0.041997   0.041997\n",
       "  0.041997   0.041997   0.04508252 0.041997  ]),\n",
       " BoundingBox(x1=0.6225, y1=0.6225, x2=0.8171, y2=0.6225, label=[0.04199729 0.04199737 0.04199819 0.04199729 0.04199729 0.04199729\n",
       "  0.04199729 0.04507558 0.04199729 0.04199729 0.04199729 0.04199729\n",
       "  0.04199729 0.04199729 0.04199895 0.04199729]),\n",
       " BoundingBox(x1=-644.3057, y1=645.5506, x2=-154.4795, y2=645.5506, label=[0.04199742 0.04199742 0.04199742 0.04199742 0.04199742 0.04199742\n",
       "  0.04199742 0.04200129 0.04199742 0.04199742 0.04199742 0.04199742\n",
       "  0.04199742 0.04199742 0.0450724  0.04199742]),\n",
       " BoundingBox(x1=-3231658918.5647, y1=0.6236, x2=0.6214, y2=0.6236, label=[0.04199933 0.04199933 0.04199933 0.04199933 0.04199933 0.04199933\n",
       "  0.04199933 0.04202132 0.04199933 0.04199933 0.04199933 0.04199933\n",
       "  0.04199933 0.04199933 0.04502558 0.04199933]),\n",
       " BoundingBox(x1=0.6225, y1=0.6225, x2=0.8927, y2=0.6225, label=[0.0419971  0.0419971  0.0419971  0.04199817 0.0419971  0.0419971\n",
       "  0.0419971  0.04507946 0.0419971  0.0419971  0.0419971  0.0419971\n",
       "  0.0419971  0.0419971  0.04199716 0.0419971 ]),\n",
       " BoundingBox(x1=-5481.0001, y1=5482.2451, x2=-2342.0195, y2=5482.2451, label=[0.04199338 0.04199338 0.04199338 0.04199344 0.04199338 0.04199338\n",
       "  0.04199338 0.04507004 0.04199338 0.04199338 0.04199338 0.04199338\n",
       "  0.04199338 0.04199338 0.04199338 0.04199338]),\n",
       " BoundingBox(x1=-1283713249.5637, y1=0.6252, x2=0.6197, y2=0.6252, label=[0.04199708 0.04199708 0.04199708 0.04199783 0.04199708 0.04199708\n",
       "  0.04199708 0.04508057 0.04199708 0.04199708 0.04199708 0.04199708\n",
       "  0.04199708 0.04199708 0.04199708 0.04199708]),\n",
       " BoundingBox(x1=0.6225, y1=0.6225, x2=0.9707, y2=0.6225, label=[0.04199455 0.04507327 0.04199455 0.04199455 0.04199455 0.04199487\n",
       "  0.04199455 0.04199455 0.04199455 0.04199455 0.04199455 0.04199455\n",
       "  0.04199455 0.04199455 0.04199456 0.04199455]),\n",
       " BoundingBox(x1=0.6225, y1=0.6225, x2=0.9443, y2=0.6225, label=[0.04199702 0.04199702 0.04199702 0.04199702 0.04199702 0.04199702\n",
       "  0.04199702 0.04199702 0.04199702 0.04199702 0.04199719 0.04508208\n",
       "  0.04199702 0.04199702 0.04199702 0.04199702]),\n",
       " BoundingBox(x1=0.6225, y1=0.6225, x2=0.9708, y2=0.6225, label=[0.04199734 0.04199734 0.04199734 0.04199734 0.04199734 0.04199762\n",
       "  0.04199734 0.04199953 0.04199734 0.04199734 0.04199747 0.04507443\n",
       "  0.04199734 0.04199734 0.04199781 0.04199734])]"
      ]
     },
     "execution_count": 175,
     "metadata": {},
     "output_type": "execute_result"
    }
   ],
   "source": [
    "for i in range(pred_height*pred_width):\n",
    "    row, col = i//pred_width, i%pred_width\n",
    "    for j in range(num_boxes):\n",
    "        objectness_score = pred[row, col, j, 4]\n",
    "        if (objectness_score <= 0.5):\n",
    "            continue\n",
    "        x, y, w, h = pred[row, col, j, :4]\n",
    "        x = (col + x) / pred_width\n",
    "        y = (row + y) / pred_height\n",
    "        w = anchor_boxes[2 * j + 0] * np.exp(w) / 416\n",
    "        h = anchor_boxes[2 * j + 1] * np.exp(h) / 416\n",
    "        classes = pred[row, col, j, 5:]\n",
    "        box = ia.BoundingBox(\n",
    "            x1=x-w/2, \n",
    "            x2=y-h/2, \n",
    "            y1=y+h/2,\n",
    "            y2=y+h/2,\n",
    "            label=classes)\n",
    "        boxes.append(box)\n",
    "boxes"
   ]
  },
  {
   "cell_type": "code",
   "execution_count": 162,
   "metadata": {},
   "outputs": [
    {
     "ename": "AttributeError",
     "evalue": "'BoundBox' object has no attribute 'x1'",
     "output_type": "error",
     "traceback": [
      "\u001b[1;31m---------------------------------------------------------------------------\u001b[0m",
      "\u001b[1;31mAttributeError\u001b[0m                            Traceback (most recent call last)",
      "\u001b[1;32m<ipython-input-162-3d989d63b860>\u001b[0m in \u001b[0;36m<module>\u001b[1;34m\u001b[0m\n\u001b[0;32m      4\u001b[0m \u001b[1;32mfor\u001b[0m \u001b[0mbox\u001b[0m \u001b[1;32min\u001b[0m \u001b[0mboxes\u001b[0m\u001b[1;33m:\u001b[0m\u001b[1;33m\u001b[0m\u001b[1;33m\u001b[0m\u001b[0m\n\u001b[0;32m      5\u001b[0m     scale_box = ia.BoundingBox(\n\u001b[1;32m----> 6\u001b[1;33m         \u001b[0mx1\u001b[0m\u001b[1;33m=\u001b[0m\u001b[0mint\u001b[0m\u001b[1;33m(\u001b[0m\u001b[0mnp\u001b[0m\u001b[1;33m.\u001b[0m\u001b[0mround\u001b[0m\u001b[1;33m(\u001b[0m\u001b[0mbox\u001b[0m\u001b[1;33m.\u001b[0m\u001b[0mx1\u001b[0m \u001b[1;33m*\u001b[0m \u001b[0mxScale\u001b[0m\u001b[1;33m)\u001b[0m\u001b[1;33m)\u001b[0m\u001b[1;33m,\u001b[0m\u001b[1;33m\u001b[0m\u001b[1;33m\u001b[0m\u001b[0m\n\u001b[0m\u001b[0;32m      7\u001b[0m         \u001b[0mx2\u001b[0m\u001b[1;33m=\u001b[0m\u001b[0mint\u001b[0m\u001b[1;33m(\u001b[0m\u001b[0mnp\u001b[0m\u001b[1;33m.\u001b[0m\u001b[0mround\u001b[0m\u001b[1;33m(\u001b[0m\u001b[0mbox\u001b[0m\u001b[1;33m.\u001b[0m\u001b[0mx2\u001b[0m \u001b[1;33m*\u001b[0m \u001b[0mxScale\u001b[0m\u001b[1;33m)\u001b[0m\u001b[1;33m)\u001b[0m\u001b[1;33m,\u001b[0m\u001b[1;33m\u001b[0m\u001b[1;33m\u001b[0m\u001b[0m\n\u001b[0;32m      8\u001b[0m         \u001b[0my1\u001b[0m\u001b[1;33m=\u001b[0m\u001b[0mint\u001b[0m\u001b[1;33m(\u001b[0m\u001b[0mnp\u001b[0m\u001b[1;33m.\u001b[0m\u001b[0mround\u001b[0m\u001b[1;33m(\u001b[0m\u001b[0mbox\u001b[0m\u001b[1;33m.\u001b[0m\u001b[0my1\u001b[0m \u001b[1;33m*\u001b[0m \u001b[0myScale\u001b[0m\u001b[1;33m)\u001b[0m\u001b[1;33m)\u001b[0m\u001b[1;33m,\u001b[0m\u001b[1;33m\u001b[0m\u001b[1;33m\u001b[0m\u001b[0m\n",
      "\u001b[1;31mAttributeError\u001b[0m: 'BoundBox' object has no attribute 'x1'"
     ]
    }
   ],
   "source": [
    "all_boxes = copy.deepcopy(boxes)\n",
    "xScale, yScale = float(416) / 416, float(416) / 416\n",
    "box_list = []\n",
    "for box in boxes:\n",
    "    scale_box = ia.BoundingBox(\n",
    "        x1=int(np.round(box.x1 * xScale)),\n",
    "        x2=int(np.round(box.x2 * xScale)),\n",
    "        y1=int(np.round(box.y1 * yScale)),\n",
    "        y2=int(np.round(box.y2 * yScale)),\n",
    "        label=box.label)\n",
    "    box_list.append(scale_box)\n",
    "bboi = ia.BoundingBoxesOnImage(box_list, (new_width, new_height))"
   ]
  },
  {
   "cell_type": "code",
   "execution_count": 155,
   "metadata": {},
   "outputs": [
    {
     "ename": "ZeroDivisionError",
     "evalue": "float division by zero",
     "output_type": "error",
     "traceback": [
      "\u001b[1;31m---------------------------------------------------------------------------\u001b[0m",
      "\u001b[1;31mZeroDivisionError\u001b[0m                         Traceback (most recent call last)",
      "\u001b[1;32m<ipython-input-155-637ce28c0356>\u001b[0m in \u001b[0;36m<module>\u001b[1;34m\u001b[0m\n\u001b[1;32m----> 1\u001b[1;33m \u001b[0mdo_nms\u001b[0m\u001b[1;33m(\u001b[0m\u001b[0mboxes\u001b[0m\u001b[1;33m,\u001b[0m \u001b[1;36m0.5\u001b[0m\u001b[1;33m)\u001b[0m\u001b[1;33m\u001b[0m\u001b[1;33m\u001b[0m\u001b[0m\n\u001b[0m",
      "\u001b[1;32m<ipython-input-150-4be023697a5b>\u001b[0m in \u001b[0;36mdo_nms\u001b[1;34m(boxes, nms_thresh)\u001b[0m\n\u001b[0;32m     16\u001b[0m                 \u001b[0mindex_j\u001b[0m \u001b[1;33m=\u001b[0m \u001b[0msorted_indices\u001b[0m\u001b[1;33m[\u001b[0m\u001b[0mj\u001b[0m\u001b[1;33m]\u001b[0m\u001b[1;33m\u001b[0m\u001b[1;33m\u001b[0m\u001b[0m\n\u001b[0;32m     17\u001b[0m \u001b[1;33m\u001b[0m\u001b[0m\n\u001b[1;32m---> 18\u001b[1;33m                 \u001b[1;32mif\u001b[0m \u001b[0mbbox_iou\u001b[0m\u001b[1;33m(\u001b[0m\u001b[0mboxes\u001b[0m\u001b[1;33m[\u001b[0m\u001b[0mindex_i\u001b[0m\u001b[1;33m]\u001b[0m\u001b[1;33m,\u001b[0m \u001b[0mboxes\u001b[0m\u001b[1;33m[\u001b[0m\u001b[0mindex_j\u001b[0m\u001b[1;33m]\u001b[0m\u001b[1;33m)\u001b[0m \u001b[1;33m>=\u001b[0m \u001b[0mnms_thresh\u001b[0m\u001b[1;33m:\u001b[0m\u001b[1;33m\u001b[0m\u001b[1;33m\u001b[0m\u001b[0m\n\u001b[0m\u001b[0;32m     19\u001b[0m                     \u001b[0mboxes\u001b[0m\u001b[1;33m[\u001b[0m\u001b[0mindex_j\u001b[0m\u001b[1;33m]\u001b[0m\u001b[1;33m.\u001b[0m\u001b[0mclasses\u001b[0m\u001b[1;33m[\u001b[0m\u001b[0mc\u001b[0m\u001b[1;33m]\u001b[0m \u001b[1;33m=\u001b[0m \u001b[1;36m0\u001b[0m\u001b[1;33m\u001b[0m\u001b[1;33m\u001b[0m\u001b[0m\n",
      "\u001b[1;32m<ipython-input-152-7e4966eef863>\u001b[0m in \u001b[0;36mbbox_iou\u001b[1;34m(box1, box2)\u001b[0m\n\u001b[0;32m     10\u001b[0m     \u001b[0munion\u001b[0m \u001b[1;33m=\u001b[0m \u001b[0mw1\u001b[0m\u001b[1;33m*\u001b[0m\u001b[0mh1\u001b[0m \u001b[1;33m+\u001b[0m \u001b[0mw2\u001b[0m\u001b[1;33m*\u001b[0m\u001b[0mh2\u001b[0m \u001b[1;33m-\u001b[0m \u001b[0mintersect\u001b[0m\u001b[1;33m\u001b[0m\u001b[1;33m\u001b[0m\u001b[0m\n\u001b[0;32m     11\u001b[0m \u001b[1;33m\u001b[0m\u001b[0m\n\u001b[1;32m---> 12\u001b[1;33m     \u001b[1;32mreturn\u001b[0m \u001b[0mfloat\u001b[0m\u001b[1;33m(\u001b[0m\u001b[0mintersect\u001b[0m\u001b[1;33m)\u001b[0m \u001b[1;33m/\u001b[0m \u001b[0munion\u001b[0m\u001b[1;33m\u001b[0m\u001b[1;33m\u001b[0m\u001b[0m\n\u001b[0m",
      "\u001b[1;31mZeroDivisionError\u001b[0m: float division by zero"
     ]
    }
   ],
   "source": [
    "do_nms(boxes, 0.5)"
   ]
  },
  {
   "cell_type": "code",
   "execution_count": null,
   "metadata": {},
   "outputs": [],
   "source": []
  }
 ],
 "metadata": {
  "kernelspec": {
   "display_name": "Python 3",
   "language": "python",
   "name": "python3"
  },
  "language_info": {
   "codemirror_mode": {
    "name": "ipython",
    "version": 3
   },
   "file_extension": ".py",
   "mimetype": "text/x-python",
   "name": "python",
   "nbconvert_exporter": "python",
   "pygments_lexer": "ipython3",
   "version": "3.6.9"
  }
 },
 "nbformat": 4,
 "nbformat_minor": 4
}
