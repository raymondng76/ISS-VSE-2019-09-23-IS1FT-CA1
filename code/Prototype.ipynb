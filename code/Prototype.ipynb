{
 "cells": [
  {
   "cell_type": "code",
   "execution_count": 1,
   "metadata": {},
   "outputs": [
    {
     "name": "stderr",
     "output_type": "stream",
     "text": [
      "Using TensorFlow backend.\n"
     ]
    }
   ],
   "source": [
    "import numpy as np\n",
    "import pandas as pd\n",
    "import matplotlib.pyplot as plt\n",
    "%matplotlib inline\n",
    "\n",
    "from CA1_Yolo import *"
   ]
  },
  {
   "cell_type": "code",
   "execution_count": 2,
   "metadata": {},
   "outputs": [],
   "source": [
    "img_dir = \"../data/image/\"\n",
    "anno_dir = \"../data/annotation/\""
   ]
  },
  {
   "cell_type": "code",
   "execution_count": 3,
   "metadata": {},
   "outputs": [],
   "source": [
    "all_anno, labels = read_annotation_files(img_dir, anno_dir)"
   ]
  },
  {
   "cell_type": "code",
   "execution_count": 8,
   "metadata": {},
   "outputs": [
    {
     "name": "stdout",
     "output_type": "stream",
     "text": [
      "iter: 1 distances: 1724.718957580812\n",
      "iter: 2 distances: 122.29815449055585\n",
      "iter: 3 distances: 36.11777361952636\n",
      "iter: 4 distances: 25.41096478200987\n",
      "iter: 5 distances: 28.237762116892284\n",
      "iter: 6 distances: 25.397598191444274\n",
      "iter: 7 distances: 20.678023443341402\n",
      "iter: 8 distances: 14.208581515533968\n",
      "iter: 9 distances: 13.684299234718033\n",
      "iter: 10 distances: 11.162773952417442\n",
      "iter: 11 distances: 10.757528896403585\n",
      "iter: 12 distances: 6.493985519942916\n",
      "iter: 13 distances: 4.4822730061492955\n",
      "iter: 14 distances: 5.415841159088774\n",
      "iter: 15 distances: 10.829251410778834\n",
      "iter: 16 distances: 4.352434647088011\n",
      "iter: 17 distances: 5.666277264505064\n",
      "iter: 18 distances: 6.103974379170538\n",
      "iter: 19 distances: 11.906342684702008\n",
      "iter: 20 distances: 7.167363804738278\n",
      "iter: 21 distances: 8.179619400914973\n",
      "iter: 22 distances: 7.737550992468146\n",
      "iter: 23 distances: 1.602589989784664\n",
      "iter: 24 distances: 1.5880383449745874\n",
      "iter: 25 distances: 4.952313741171151\n",
      "iter: 26 distances: 4.739761977435743\n",
      "iter: 27 distances: 4.714795213641478\n",
      "iter: 28 distances: 1.6840690164164687\n"
     ]
    }
   ],
   "source": [
    "anchor_boxes = generateAnchorBoxes(all_anno, labels)"
   ]
  },
  {
   "cell_type": "code",
   "execution_count": 9,
   "metadata": {},
   "outputs": [
    {
     "data": {
      "text/plain": [
       "[(32, 25),\n",
       " (40, 62),\n",
       " (52, 35),\n",
       " (56, 104),\n",
       " (70, 50),\n",
       " (89, 73),\n",
       " (90, 124),\n",
       " (114, 36),\n",
       " (114, 92)]"
      ]
     },
     "execution_count": 9,
     "metadata": {},
     "output_type": "execute_result"
    }
   ],
   "source": [
    "anchor_boxes"
   ]
  },
  {
   "cell_type": "code",
   "execution_count": 6,
   "metadata": {},
   "outputs": [
    {
     "name": "stdout",
     "output_type": "stream",
     "text": [
      "iter: 1 distances: 1705.940767736839\n",
      "iter: 2 distances: 139.66237677303428\n",
      "iter: 3 distances: 67.95478957946011\n",
      "iter: 4 distances: 45.75059930334519\n",
      "iter: 5 distances: 39.092353490628376\n",
      "iter: 6 distances: 25.366935682753194\n",
      "iter: 7 distances: 33.908221669722266\n",
      "iter: 8 distances: 25.255558609073613\n",
      "iter: 9 distances: 23.188574057487735\n",
      "iter: 10 distances: 25.291832609227363\n",
      "iter: 11 distances: 23.038867265823107\n",
      "iter: 12 distances: 36.505286964403936\n",
      "iter: 13 distances: 27.47180293190275\n",
      "iter: 14 distances: 13.974780817640042\n",
      "iter: 15 distances: 8.272912199959963\n",
      "iter: 16 distances: 4.041807917845413\n",
      "iter: 17 distances: 5.430091172205444\n",
      "iter: 18 distances: 1.3793129412886902\n",
      "iter: 19 distances: 3.0560908313895823\n"
     ]
    }
   ],
   "source": []
  },
  {
   "cell_type": "code",
   "execution_count": null,
   "metadata": {},
   "outputs": [],
   "source": []
  }
 ],
 "metadata": {
  "kernelspec": {
   "display_name": "Python 3",
   "language": "python",
   "name": "python3"
  },
  "language_info": {
   "codemirror_mode": {
    "name": "ipython",
    "version": 3
   },
   "file_extension": ".py",
   "mimetype": "text/x-python",
   "name": "python",
   "nbconvert_exporter": "python",
   "pygments_lexer": "ipython3",
   "version": "3.6.9"
  }
 },
 "nbformat": 4,
 "nbformat_minor": 4
}
